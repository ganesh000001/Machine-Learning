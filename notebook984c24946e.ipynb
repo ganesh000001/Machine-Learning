{
 "cells": [
  {
   "cell_type": "code",
   "execution_count": 1,
   "id": "85f1e2ad",
   "metadata": {
    "execution": {
     "iopub.execute_input": "2021-08-28T14:45:03.303773Z",
     "iopub.status.busy": "2021-08-28T14:45:03.303142Z",
     "iopub.status.idle": "2021-08-28T14:45:04.103541Z",
     "shell.execute_reply": "2021-08-28T14:45:04.102902Z",
     "shell.execute_reply.started": "2021-07-16T13:44:26.6525Z"
    },
    "papermill": {
     "duration": 0.827219,
     "end_time": "2021-08-28T14:45:04.103693",
     "exception": false,
     "start_time": "2021-08-28T14:45:03.276474",
     "status": "completed"
    },
    "tags": []
   },
   "outputs": [],
   "source": [
    "import pandas as pd\n",
    "import numpy as np\n",
    "import matplotlib.pyplot as plt\n",
    "import seaborn as sn\n",
    "import re"
   ]
  },
  {
   "cell_type": "code",
   "execution_count": 2,
   "id": "8768a7cf",
   "metadata": {
    "execution": {
     "iopub.execute_input": "2021-08-28T14:45:04.139587Z",
     "iopub.status.busy": "2021-08-28T14:45:04.139047Z",
     "iopub.status.idle": "2021-08-28T14:45:06.075827Z",
     "shell.execute_reply": "2021-08-28T14:45:06.076229Z",
     "shell.execute_reply.started": "2021-07-16T13:44:27.353866Z"
    },
    "papermill": {
     "duration": 1.955403,
     "end_time": "2021-08-28T14:45:06.076382",
     "exception": false,
     "start_time": "2021-08-28T14:45:04.120979",
     "status": "completed"
    },
    "tags": []
   },
   "outputs": [
    {
     "data": {
      "text/html": [
       "<div>\n",
       "<style scoped>\n",
       "    .dataframe tbody tr th:only-of-type {\n",
       "        vertical-align: middle;\n",
       "    }\n",
       "\n",
       "    .dataframe tbody tr th {\n",
       "        vertical-align: top;\n",
       "    }\n",
       "\n",
       "    .dataframe thead th {\n",
       "        text-align: right;\n",
       "    }\n",
       "</style>\n",
       "<table border=\"1\" class=\"dataframe\">\n",
       "  <thead>\n",
       "    <tr style=\"text-align: right;\">\n",
       "      <th></th>\n",
       "      <th>item_id</th>\n",
       "      <th>user_id</th>\n",
       "      <th>rating</th>\n",
       "      <th>timestamp</th>\n",
       "      <th>model_attr</th>\n",
       "      <th>category</th>\n",
       "      <th>brand</th>\n",
       "      <th>year</th>\n",
       "      <th>user_attr</th>\n",
       "      <th>split</th>\n",
       "    </tr>\n",
       "  </thead>\n",
       "  <tbody>\n",
       "    <tr>\n",
       "      <th>0</th>\n",
       "      <td>0</td>\n",
       "      <td>0</td>\n",
       "      <td>5.0</td>\n",
       "      <td>1999-06-13</td>\n",
       "      <td>Female</td>\n",
       "      <td>Portable Audio &amp; Video</td>\n",
       "      <td>NaN</td>\n",
       "      <td>1999</td>\n",
       "      <td>NaN</td>\n",
       "      <td>0</td>\n",
       "    </tr>\n",
       "    <tr>\n",
       "      <th>1</th>\n",
       "      <td>0</td>\n",
       "      <td>1</td>\n",
       "      <td>5.0</td>\n",
       "      <td>1999-06-14</td>\n",
       "      <td>Female</td>\n",
       "      <td>Portable Audio &amp; Video</td>\n",
       "      <td>NaN</td>\n",
       "      <td>1999</td>\n",
       "      <td>NaN</td>\n",
       "      <td>0</td>\n",
       "    </tr>\n",
       "    <tr>\n",
       "      <th>2</th>\n",
       "      <td>0</td>\n",
       "      <td>2</td>\n",
       "      <td>3.0</td>\n",
       "      <td>1999-06-17</td>\n",
       "      <td>Female</td>\n",
       "      <td>Portable Audio &amp; Video</td>\n",
       "      <td>NaN</td>\n",
       "      <td>1999</td>\n",
       "      <td>NaN</td>\n",
       "      <td>0</td>\n",
       "    </tr>\n",
       "    <tr>\n",
       "      <th>3</th>\n",
       "      <td>0</td>\n",
       "      <td>3</td>\n",
       "      <td>1.0</td>\n",
       "      <td>1999-07-01</td>\n",
       "      <td>Female</td>\n",
       "      <td>Portable Audio &amp; Video</td>\n",
       "      <td>NaN</td>\n",
       "      <td>1999</td>\n",
       "      <td>NaN</td>\n",
       "      <td>0</td>\n",
       "    </tr>\n",
       "    <tr>\n",
       "      <th>4</th>\n",
       "      <td>0</td>\n",
       "      <td>4</td>\n",
       "      <td>2.0</td>\n",
       "      <td>1999-07-06</td>\n",
       "      <td>Female</td>\n",
       "      <td>Portable Audio &amp; Video</td>\n",
       "      <td>NaN</td>\n",
       "      <td>1999</td>\n",
       "      <td>NaN</td>\n",
       "      <td>0</td>\n",
       "    </tr>\n",
       "    <tr>\n",
       "      <th>...</th>\n",
       "      <td>...</td>\n",
       "      <td>...</td>\n",
       "      <td>...</td>\n",
       "      <td>...</td>\n",
       "      <td>...</td>\n",
       "      <td>...</td>\n",
       "      <td>...</td>\n",
       "      <td>...</td>\n",
       "      <td>...</td>\n",
       "      <td>...</td>\n",
       "    </tr>\n",
       "    <tr>\n",
       "      <th>1292949</th>\n",
       "      <td>9478</td>\n",
       "      <td>1157628</td>\n",
       "      <td>1.0</td>\n",
       "      <td>2018-09-26</td>\n",
       "      <td>Female</td>\n",
       "      <td>Headphones</td>\n",
       "      <td>Etre Jeune</td>\n",
       "      <td>2017</td>\n",
       "      <td>NaN</td>\n",
       "      <td>0</td>\n",
       "    </tr>\n",
       "    <tr>\n",
       "      <th>1292950</th>\n",
       "      <td>9435</td>\n",
       "      <td>1157629</td>\n",
       "      <td>5.0</td>\n",
       "      <td>2018-09-26</td>\n",
       "      <td>Female</td>\n",
       "      <td>Computers &amp; Accessories</td>\n",
       "      <td>NaN</td>\n",
       "      <td>2017</td>\n",
       "      <td>NaN</td>\n",
       "      <td>0</td>\n",
       "    </tr>\n",
       "    <tr>\n",
       "      <th>1292951</th>\n",
       "      <td>9305</td>\n",
       "      <td>1157630</td>\n",
       "      <td>3.0</td>\n",
       "      <td>2018-09-26</td>\n",
       "      <td>Female</td>\n",
       "      <td>Computers &amp; Accessories</td>\n",
       "      <td>NaN</td>\n",
       "      <td>2016</td>\n",
       "      <td>NaN</td>\n",
       "      <td>0</td>\n",
       "    </tr>\n",
       "    <tr>\n",
       "      <th>1292952</th>\n",
       "      <td>9303</td>\n",
       "      <td>1157631</td>\n",
       "      <td>5.0</td>\n",
       "      <td>2018-09-29</td>\n",
       "      <td>Male</td>\n",
       "      <td>Headphones</td>\n",
       "      <td>NaN</td>\n",
       "      <td>2018</td>\n",
       "      <td>NaN</td>\n",
       "      <td>0</td>\n",
       "    </tr>\n",
       "    <tr>\n",
       "      <th>1292953</th>\n",
       "      <td>9478</td>\n",
       "      <td>1157632</td>\n",
       "      <td>1.0</td>\n",
       "      <td>2018-10-01</td>\n",
       "      <td>Female</td>\n",
       "      <td>Headphones</td>\n",
       "      <td>Etre Jeune</td>\n",
       "      <td>2017</td>\n",
       "      <td>Female</td>\n",
       "      <td>0</td>\n",
       "    </tr>\n",
       "  </tbody>\n",
       "</table>\n",
       "<p>1292954 rows × 10 columns</p>\n",
       "</div>"
      ],
      "text/plain": [
       "         item_id  user_id  rating   timestamp model_attr  \\\n",
       "0              0        0     5.0  1999-06-13     Female   \n",
       "1              0        1     5.0  1999-06-14     Female   \n",
       "2              0        2     3.0  1999-06-17     Female   \n",
       "3              0        3     1.0  1999-07-01     Female   \n",
       "4              0        4     2.0  1999-07-06     Female   \n",
       "...          ...      ...     ...         ...        ...   \n",
       "1292949     9478  1157628     1.0  2018-09-26     Female   \n",
       "1292950     9435  1157629     5.0  2018-09-26     Female   \n",
       "1292951     9305  1157630     3.0  2018-09-26     Female   \n",
       "1292952     9303  1157631     5.0  2018-09-29       Male   \n",
       "1292953     9478  1157632     1.0  2018-10-01     Female   \n",
       "\n",
       "                        category       brand  year user_attr  split  \n",
       "0         Portable Audio & Video         NaN  1999       NaN      0  \n",
       "1         Portable Audio & Video         NaN  1999       NaN      0  \n",
       "2         Portable Audio & Video         NaN  1999       NaN      0  \n",
       "3         Portable Audio & Video         NaN  1999       NaN      0  \n",
       "4         Portable Audio & Video         NaN  1999       NaN      0  \n",
       "...                          ...         ...   ...       ...    ...  \n",
       "1292949               Headphones  Etre Jeune  2017       NaN      0  \n",
       "1292950  Computers & Accessories         NaN  2017       NaN      0  \n",
       "1292951  Computers & Accessories         NaN  2016       NaN      0  \n",
       "1292952               Headphones         NaN  2018       NaN      0  \n",
       "1292953               Headphones  Etre Jeune  2017    Female      0  \n",
       "\n",
       "[1292954 rows x 10 columns]"
      ]
     },
     "execution_count": 2,
     "metadata": {},
     "output_type": "execute_result"
    }
   ],
   "source": [
    "data= pd.read_csv('../input/electronics/electronics.csv')\n",
    "data"
   ]
  },
  {
   "cell_type": "code",
   "execution_count": 3,
   "id": "77b7ecd6",
   "metadata": {
    "execution": {
     "iopub.execute_input": "2021-08-28T14:45:06.112686Z",
     "iopub.status.busy": "2021-08-28T14:45:06.111778Z",
     "iopub.status.idle": "2021-08-28T14:45:06.659587Z",
     "shell.execute_reply": "2021-08-28T14:45:06.660472Z",
     "shell.execute_reply.started": "2021-07-16T13:44:30.094729Z"
    },
    "papermill": {
     "duration": 0.568318,
     "end_time": "2021-08-28T14:45:06.660679",
     "exception": false,
     "start_time": "2021-08-28T14:45:06.092361",
     "status": "completed"
    },
    "tags": []
   },
   "outputs": [
    {
     "data": {
      "text/plain": [
       "item_id             0\n",
       "user_id             0\n",
       "rating              0\n",
       "timestamp           0\n",
       "model_attr          0\n",
       "category            0\n",
       "brand          961834\n",
       "year                0\n",
       "user_attr     1118830\n",
       "split               0\n",
       "dtype: int64"
      ]
     },
     "execution_count": 3,
     "metadata": {},
     "output_type": "execute_result"
    }
   ],
   "source": [
    "data.isnull().sum()"
   ]
  },
  {
   "cell_type": "code",
   "execution_count": 4,
   "id": "0e59b531",
   "metadata": {
    "execution": {
     "iopub.execute_input": "2021-08-28T14:45:06.776711Z",
     "iopub.status.busy": "2021-08-28T14:45:06.773315Z",
     "iopub.status.idle": "2021-08-28T14:45:09.110032Z",
     "shell.execute_reply": "2021-08-28T14:45:09.109583Z",
     "shell.execute_reply.started": "2021-07-16T13:44:30.573513Z"
    },
    "papermill": {
     "duration": 2.420723,
     "end_time": "2021-08-28T14:45:09.110179",
     "exception": false,
     "start_time": "2021-08-28T14:45:06.689456",
     "status": "completed"
    },
    "tags": []
   },
   "outputs": [
    {
     "data": {
      "text/plain": [
       "item_id       0\n",
       "user_id       0\n",
       "rating        0\n",
       "timestamp     0\n",
       "model_attr    0\n",
       "category      0\n",
       "brand         0\n",
       "year          0\n",
       "user_attr     0\n",
       "split         0\n",
       "dtype: int64"
      ]
     },
     "execution_count": 4,
     "metadata": {},
     "output_type": "execute_result"
    }
   ],
   "source": [
    "data['brand']=data.drop(['brand'],axis=1)\n",
    "data['user_attr']=data.drop(['user_attr'],axis=1)\n",
    "data.isnull().sum()"
   ]
  },
  {
   "cell_type": "code",
   "execution_count": 5,
   "id": "97396c6b",
   "metadata": {
    "execution": {
     "iopub.execute_input": "2021-08-28T14:45:09.149788Z",
     "iopub.status.busy": "2021-08-28T14:45:09.148640Z",
     "iopub.status.idle": "2021-08-28T14:45:09.573801Z",
     "shell.execute_reply": "2021-08-28T14:45:09.572960Z",
     "shell.execute_reply.started": "2021-07-16T13:44:32.827305Z"
    },
    "papermill": {
     "duration": 0.446898,
     "end_time": "2021-08-28T14:45:09.573929",
     "exception": false,
     "start_time": "2021-08-28T14:45:09.127031",
     "status": "completed"
    },
    "tags": []
   },
   "outputs": [
    {
     "data": {
      "text/plain": [
       "<AxesSubplot:>"
      ]
     },
     "execution_count": 5,
     "metadata": {},
     "output_type": "execute_result"
    },
    {
     "data": {
      "image/png": "[encoded data removed]",
      "text/plain": [
       "<Figure size 432x288 with 2 Axes>"
      ]
     },
     "metadata": {
      "needs_background": "light"
     },
     "output_type": "display_data"
    }
   ],
   "source": [
    "sn.heatmap(data.corr(),annot=True)"
   ]
  },
  {
   "cell_type": "code",
   "execution_count": 6,
   "id": "7b3a1a75",
   "metadata": {
    "execution": {
     "iopub.execute_input": "2021-08-28T14:45:09.614006Z",
     "iopub.status.busy": "2021-08-28T14:45:09.613345Z",
     "iopub.status.idle": "2021-08-28T14:45:09.762435Z",
     "shell.execute_reply": "2021-08-28T14:45:09.762857Z",
     "shell.execute_reply.started": "2021-07-16T13:44:33.296609Z"
    },
    "papermill": {
     "duration": 0.171623,
     "end_time": "2021-08-28T14:45:09.763003",
     "exception": false,
     "start_time": "2021-08-28T14:45:09.591380",
     "status": "completed"
    },
    "tags": []
   },
   "outputs": [
    {
     "data": {
      "text/html": [
       "<div>\n",
       "<style scoped>\n",
       "    .dataframe tbody tr th:only-of-type {\n",
       "        vertical-align: middle;\n",
       "    }\n",
       "\n",
       "    .dataframe tbody tr th {\n",
       "        vertical-align: top;\n",
       "    }\n",
       "\n",
       "    .dataframe thead th {\n",
       "        text-align: right;\n",
       "    }\n",
       "</style>\n",
       "<table border=\"1\" class=\"dataframe\">\n",
       "  <thead>\n",
       "    <tr style=\"text-align: right;\">\n",
       "      <th></th>\n",
       "      <th>model_attr_Female</th>\n",
       "      <th>model_attr_Female&amp;Male</th>\n",
       "      <th>model_attr_Male</th>\n",
       "    </tr>\n",
       "  </thead>\n",
       "  <tbody>\n",
       "    <tr>\n",
       "      <th>0</th>\n",
       "      <td>1</td>\n",
       "      <td>0</td>\n",
       "      <td>0</td>\n",
       "    </tr>\n",
       "    <tr>\n",
       "      <th>1</th>\n",
       "      <td>1</td>\n",
       "      <td>0</td>\n",
       "      <td>0</td>\n",
       "    </tr>\n",
       "    <tr>\n",
       "      <th>2</th>\n",
       "      <td>1</td>\n",
       "      <td>0</td>\n",
       "      <td>0</td>\n",
       "    </tr>\n",
       "    <tr>\n",
       "      <th>3</th>\n",
       "      <td>1</td>\n",
       "      <td>0</td>\n",
       "      <td>0</td>\n",
       "    </tr>\n",
       "    <tr>\n",
       "      <th>4</th>\n",
       "      <td>1</td>\n",
       "      <td>0</td>\n",
       "      <td>0</td>\n",
       "    </tr>\n",
       "  </tbody>\n",
       "</table>\n",
       "</div>"
      ],
      "text/plain": [
       "   model_attr_Female  model_attr_Female&Male  model_attr_Male\n",
       "0                  1                       0                0\n",
       "1                  1                       0                0\n",
       "2                  1                       0                0\n",
       "3                  1                       0                0\n",
       "4                  1                       0                0"
      ]
     },
     "execution_count": 6,
     "metadata": {},
     "output_type": "execute_result"
    }
   ],
   "source": [
    "pd.get_dummies(data[[\"model_attr\"]]).head()"
   ]
  },
  {
   "cell_type": "code",
   "execution_count": 7,
   "id": "ecd34f95",
   "metadata": {
    "execution": {
     "iopub.execute_input": "2021-08-28T14:45:09.803726Z",
     "iopub.status.busy": "2021-08-28T14:45:09.803040Z",
     "iopub.status.idle": "2021-08-28T14:45:09.971006Z",
     "shell.execute_reply": "2021-08-28T14:45:09.971438Z",
     "shell.execute_reply.started": "2021-07-16T13:44:33.464632Z"
    },
    "papermill": {
     "duration": 0.190772,
     "end_time": "2021-08-28T14:45:09.971583",
     "exception": false,
     "start_time": "2021-08-28T14:45:09.780811",
     "status": "completed"
    },
    "tags": []
   },
   "outputs": [
    {
     "data": {
      "text/html": [
       "<div>\n",
       "<style scoped>\n",
       "    .dataframe tbody tr th:only-of-type {\n",
       "        vertical-align: middle;\n",
       "    }\n",
       "\n",
       "    .dataframe tbody tr th {\n",
       "        vertical-align: top;\n",
       "    }\n",
       "\n",
       "    .dataframe thead th {\n",
       "        text-align: right;\n",
       "    }\n",
       "</style>\n",
       "<table border=\"1\" class=\"dataframe\">\n",
       "  <thead>\n",
       "    <tr style=\"text-align: right;\">\n",
       "      <th></th>\n",
       "      <th>category_Accessories &amp; Supplies</th>\n",
       "      <th>category_Camera &amp; Photo</th>\n",
       "      <th>category_Car Electronics &amp; GPS</th>\n",
       "      <th>category_Computers &amp; Accessories</th>\n",
       "      <th>category_Headphones</th>\n",
       "      <th>category_Home Audio</th>\n",
       "      <th>category_Portable Audio &amp; Video</th>\n",
       "      <th>category_Security &amp; Surveillance</th>\n",
       "      <th>category_Television &amp; Video</th>\n",
       "      <th>category_Wearable Technology</th>\n",
       "    </tr>\n",
       "  </thead>\n",
       "  <tbody>\n",
       "    <tr>\n",
       "      <th>0</th>\n",
       "      <td>0</td>\n",
       "      <td>0</td>\n",
       "      <td>0</td>\n",
       "      <td>0</td>\n",
       "      <td>0</td>\n",
       "      <td>0</td>\n",
       "      <td>1</td>\n",
       "      <td>0</td>\n",
       "      <td>0</td>\n",
       "      <td>0</td>\n",
       "    </tr>\n",
       "    <tr>\n",
       "      <th>1</th>\n",
       "      <td>0</td>\n",
       "      <td>0</td>\n",
       "      <td>0</td>\n",
       "      <td>0</td>\n",
       "      <td>0</td>\n",
       "      <td>0</td>\n",
       "      <td>1</td>\n",
       "      <td>0</td>\n",
       "      <td>0</td>\n",
       "      <td>0</td>\n",
       "    </tr>\n",
       "    <tr>\n",
       "      <th>2</th>\n",
       "      <td>0</td>\n",
       "      <td>0</td>\n",
       "      <td>0</td>\n",
       "      <td>0</td>\n",
       "      <td>0</td>\n",
       "      <td>0</td>\n",
       "      <td>1</td>\n",
       "      <td>0</td>\n",
       "      <td>0</td>\n",
       "      <td>0</td>\n",
       "    </tr>\n",
       "    <tr>\n",
       "      <th>3</th>\n",
       "      <td>0</td>\n",
       "      <td>0</td>\n",
       "      <td>0</td>\n",
       "      <td>0</td>\n",
       "      <td>0</td>\n",
       "      <td>0</td>\n",
       "      <td>1</td>\n",
       "      <td>0</td>\n",
       "      <td>0</td>\n",
       "      <td>0</td>\n",
       "    </tr>\n",
       "    <tr>\n",
       "      <th>4</th>\n",
       "      <td>0</td>\n",
       "      <td>0</td>\n",
       "      <td>0</td>\n",
       "      <td>0</td>\n",
       "      <td>0</td>\n",
       "      <td>0</td>\n",
       "      <td>1</td>\n",
       "      <td>0</td>\n",
       "      <td>0</td>\n",
       "      <td>0</td>\n",
       "    </tr>\n",
       "  </tbody>\n",
       "</table>\n",
       "</div>"
      ],
      "text/plain": [
       "   category_Accessories & Supplies  category_Camera & Photo  \\\n",
       "0                                0                        0   \n",
       "1                                0                        0   \n",
       "2                                0                        0   \n",
       "3                                0                        0   \n",
       "4                                0                        0   \n",
       "\n",
       "   category_Car Electronics & GPS  category_Computers & Accessories  \\\n",
       "0                               0                                 0   \n",
       "1                               0                                 0   \n",
       "2                               0                                 0   \n",
       "3                               0                                 0   \n",
       "4                               0                                 0   \n",
       "\n",
       "   category_Headphones  category_Home Audio  category_Portable Audio & Video  \\\n",
       "0                    0                    0                                1   \n",
       "1                    0                    0                                1   \n",
       "2                    0                    0                                1   \n",
       "3                    0                    0                                1   \n",
       "4                    0                    0                                1   \n",
       "\n",
       "   category_Security & Surveillance  category_Television & Video  \\\n",
       "0                                 0                            0   \n",
       "1                                 0                            0   \n",
       "2                                 0                            0   \n",
       "3                                 0                            0   \n",
       "4                                 0                            0   \n",
       "\n",
       "   category_Wearable Technology  \n",
       "0                             0  \n",
       "1                             0  \n",
       "2                             0  \n",
       "3                             0  \n",
       "4                             0  "
      ]
     },
     "execution_count": 7,
     "metadata": {},
     "output_type": "execute_result"
    }
   ],
   "source": [
    "pd.get_dummies(data[['category']]).head()"
   ]
  },
  {
   "cell_type": "code",
   "execution_count": 8,
   "id": "2fcf1a94",
   "metadata": {
    "execution": {
     "iopub.execute_input": "2021-08-28T14:45:10.013831Z",
     "iopub.status.busy": "2021-08-28T14:45:10.013171Z",
     "iopub.status.idle": "2021-08-28T14:45:10.350484Z",
     "shell.execute_reply": "2021-08-28T14:45:10.351233Z",
     "shell.execute_reply.started": "2021-07-16T13:44:33.654402Z"
    },
    "papermill": {
     "duration": 0.361678,
     "end_time": "2021-08-28T14:45:10.351439",
     "exception": false,
     "start_time": "2021-08-28T14:45:09.989761",
     "status": "completed"
    },
    "tags": []
   },
   "outputs": [
    {
     "data": {
      "text/html": [
       "<div>\n",
       "<style scoped>\n",
       "    .dataframe tbody tr th:only-of-type {\n",
       "        vertical-align: middle;\n",
       "    }\n",
       "\n",
       "    .dataframe tbody tr th {\n",
       "        vertical-align: top;\n",
       "    }\n",
       "\n",
       "    .dataframe thead th {\n",
       "        text-align: right;\n",
       "    }\n",
       "</style>\n",
       "<table border=\"1\" class=\"dataframe\">\n",
       "  <thead>\n",
       "    <tr style=\"text-align: right;\">\n",
       "      <th></th>\n",
       "      <th>model_attr_Female</th>\n",
       "      <th>model_attr_Female&amp;Male</th>\n",
       "      <th>model_attr_Male</th>\n",
       "      <th>category_Accessories &amp; Supplies</th>\n",
       "      <th>category_Camera &amp; Photo</th>\n",
       "      <th>category_Car Electronics &amp; GPS</th>\n",
       "      <th>category_Computers &amp; Accessories</th>\n",
       "      <th>category_Headphones</th>\n",
       "      <th>category_Home Audio</th>\n",
       "      <th>category_Portable Audio &amp; Video</th>\n",
       "      <th>category_Security &amp; Surveillance</th>\n",
       "      <th>category_Television &amp; Video</th>\n",
       "      <th>category_Wearable Technology</th>\n",
       "      <th>item_id</th>\n",
       "      <th>user_id</th>\n",
       "      <th>rating</th>\n",
       "      <th>year</th>\n",
       "    </tr>\n",
       "  </thead>\n",
       "  <tbody>\n",
       "    <tr>\n",
       "      <th>0</th>\n",
       "      <td>1</td>\n",
       "      <td>0</td>\n",
       "      <td>0</td>\n",
       "      <td>0</td>\n",
       "      <td>0</td>\n",
       "      <td>0</td>\n",
       "      <td>0</td>\n",
       "      <td>0</td>\n",
       "      <td>0</td>\n",
       "      <td>1</td>\n",
       "      <td>0</td>\n",
       "      <td>0</td>\n",
       "      <td>0</td>\n",
       "      <td>0</td>\n",
       "      <td>0</td>\n",
       "      <td>5.0</td>\n",
       "      <td>1999</td>\n",
       "    </tr>\n",
       "    <tr>\n",
       "      <th>1</th>\n",
       "      <td>1</td>\n",
       "      <td>0</td>\n",
       "      <td>0</td>\n",
       "      <td>0</td>\n",
       "      <td>0</td>\n",
       "      <td>0</td>\n",
       "      <td>0</td>\n",
       "      <td>0</td>\n",
       "      <td>0</td>\n",
       "      <td>1</td>\n",
       "      <td>0</td>\n",
       "      <td>0</td>\n",
       "      <td>0</td>\n",
       "      <td>0</td>\n",
       "      <td>1</td>\n",
       "      <td>5.0</td>\n",
       "      <td>1999</td>\n",
       "    </tr>\n",
       "    <tr>\n",
       "      <th>2</th>\n",
       "      <td>1</td>\n",
       "      <td>0</td>\n",
       "      <td>0</td>\n",
       "      <td>0</td>\n",
       "      <td>0</td>\n",
       "      <td>0</td>\n",
       "      <td>0</td>\n",
       "      <td>0</td>\n",
       "      <td>0</td>\n",
       "      <td>1</td>\n",
       "      <td>0</td>\n",
       "      <td>0</td>\n",
       "      <td>0</td>\n",
       "      <td>0</td>\n",
       "      <td>2</td>\n",
       "      <td>3.0</td>\n",
       "      <td>1999</td>\n",
       "    </tr>\n",
       "    <tr>\n",
       "      <th>3</th>\n",
       "      <td>1</td>\n",
       "      <td>0</td>\n",
       "      <td>0</td>\n",
       "      <td>0</td>\n",
       "      <td>0</td>\n",
       "      <td>0</td>\n",
       "      <td>0</td>\n",
       "      <td>0</td>\n",
       "      <td>0</td>\n",
       "      <td>1</td>\n",
       "      <td>0</td>\n",
       "      <td>0</td>\n",
       "      <td>0</td>\n",
       "      <td>0</td>\n",
       "      <td>3</td>\n",
       "      <td>1.0</td>\n",
       "      <td>1999</td>\n",
       "    </tr>\n",
       "    <tr>\n",
       "      <th>4</th>\n",
       "      <td>1</td>\n",
       "      <td>0</td>\n",
       "      <td>0</td>\n",
       "      <td>0</td>\n",
       "      <td>0</td>\n",
       "      <td>0</td>\n",
       "      <td>0</td>\n",
       "      <td>0</td>\n",
       "      <td>0</td>\n",
       "      <td>1</td>\n",
       "      <td>0</td>\n",
       "      <td>0</td>\n",
       "      <td>0</td>\n",
       "      <td>0</td>\n",
       "      <td>4</td>\n",
       "      <td>2.0</td>\n",
       "      <td>1999</td>\n",
       "    </tr>\n",
       "    <tr>\n",
       "      <th>...</th>\n",
       "      <td>...</td>\n",
       "      <td>...</td>\n",
       "      <td>...</td>\n",
       "      <td>...</td>\n",
       "      <td>...</td>\n",
       "      <td>...</td>\n",
       "      <td>...</td>\n",
       "      <td>...</td>\n",
       "      <td>...</td>\n",
       "      <td>...</td>\n",
       "      <td>...</td>\n",
       "      <td>...</td>\n",
       "      <td>...</td>\n",
       "      <td>...</td>\n",
       "      <td>...</td>\n",
       "      <td>...</td>\n",
       "      <td>...</td>\n",
       "    </tr>\n",
       "    <tr>\n",
       "      <th>1292949</th>\n",
       "      <td>1</td>\n",
       "      <td>0</td>\n",
       "      <td>0</td>\n",
       "      <td>0</td>\n",
       "      <td>0</td>\n",
       "      <td>0</td>\n",
       "      <td>0</td>\n",
       "      <td>1</td>\n",
       "      <td>0</td>\n",
       "      <td>0</td>\n",
       "      <td>0</td>\n",
       "      <td>0</td>\n",
       "      <td>0</td>\n",
       "      <td>9478</td>\n",
       "      <td>1157628</td>\n",
       "      <td>1.0</td>\n",
       "      <td>2017</td>\n",
       "    </tr>\n",
       "    <tr>\n",
       "      <th>1292950</th>\n",
       "      <td>1</td>\n",
       "      <td>0</td>\n",
       "      <td>0</td>\n",
       "      <td>0</td>\n",
       "      <td>0</td>\n",
       "      <td>0</td>\n",
       "      <td>1</td>\n",
       "      <td>0</td>\n",
       "      <td>0</td>\n",
       "      <td>0</td>\n",
       "      <td>0</td>\n",
       "      <td>0</td>\n",
       "      <td>0</td>\n",
       "      <td>9435</td>\n",
       "      <td>1157629</td>\n",
       "      <td>5.0</td>\n",
       "      <td>2017</td>\n",
       "    </tr>\n",
       "    <tr>\n",
       "      <th>1292951</th>\n",
       "      <td>1</td>\n",
       "      <td>0</td>\n",
       "      <td>0</td>\n",
       "      <td>0</td>\n",
       "      <td>0</td>\n",
       "      <td>0</td>\n",
       "      <td>1</td>\n",
       "      <td>0</td>\n",
       "      <td>0</td>\n",
       "      <td>0</td>\n",
       "      <td>0</td>\n",
       "      <td>0</td>\n",
       "      <td>0</td>\n",
       "      <td>9305</td>\n",
       "      <td>1157630</td>\n",
       "      <td>3.0</td>\n",
       "      <td>2016</td>\n",
       "    </tr>\n",
       "    <tr>\n",
       "      <th>1292952</th>\n",
       "      <td>0</td>\n",
       "      <td>0</td>\n",
       "      <td>1</td>\n",
       "      <td>0</td>\n",
       "      <td>0</td>\n",
       "      <td>0</td>\n",
       "      <td>0</td>\n",
       "      <td>1</td>\n",
       "      <td>0</td>\n",
       "      <td>0</td>\n",
       "      <td>0</td>\n",
       "      <td>0</td>\n",
       "      <td>0</td>\n",
       "      <td>9303</td>\n",
       "      <td>1157631</td>\n",
       "      <td>5.0</td>\n",
       "      <td>2018</td>\n",
       "    </tr>\n",
       "    <tr>\n",
       "      <th>1292953</th>\n",
       "      <td>1</td>\n",
       "      <td>0</td>\n",
       "      <td>0</td>\n",
       "      <td>0</td>\n",
       "      <td>0</td>\n",
       "      <td>0</td>\n",
       "      <td>0</td>\n",
       "      <td>1</td>\n",
       "      <td>0</td>\n",
       "      <td>0</td>\n",
       "      <td>0</td>\n",
       "      <td>0</td>\n",
       "      <td>0</td>\n",
       "      <td>9478</td>\n",
       "      <td>1157632</td>\n",
       "      <td>1.0</td>\n",
       "      <td>2017</td>\n",
       "    </tr>\n",
       "  </tbody>\n",
       "</table>\n",
       "<p>1292954 rows × 17 columns</p>\n",
       "</div>"
      ],
      "text/plain": [
       "         model_attr_Female  model_attr_Female&Male  model_attr_Male  \\\n",
       "0                        1                       0                0   \n",
       "1                        1                       0                0   \n",
       "2                        1                       0                0   \n",
       "3                        1                       0                0   \n",
       "4                        1                       0                0   \n",
       "...                    ...                     ...              ...   \n",
       "1292949                  1                       0                0   \n",
       "1292950                  1                       0                0   \n",
       "1292951                  1                       0                0   \n",
       "1292952                  0                       0                1   \n",
       "1292953                  1                       0                0   \n",
       "\n",
       "         category_Accessories & Supplies  category_Camera & Photo  \\\n",
       "0                                      0                        0   \n",
       "1                                      0                        0   \n",
       "2                                      0                        0   \n",
       "3                                      0                        0   \n",
       "4                                      0                        0   \n",
       "...                                  ...                      ...   \n",
       "1292949                                0                        0   \n",
       "1292950                                0                        0   \n",
       "1292951                                0                        0   \n",
       "1292952                                0                        0   \n",
       "1292953                                0                        0   \n",
       "\n",
       "         category_Car Electronics & GPS  category_Computers & Accessories  \\\n",
       "0                                     0                                 0   \n",
       "1                                     0                                 0   \n",
       "2                                     0                                 0   \n",
       "3                                     0                                 0   \n",
       "4                                     0                                 0   \n",
       "...                                 ...                               ...   \n",
       "1292949                               0                                 0   \n",
       "1292950                               0                                 1   \n",
       "1292951                               0                                 1   \n",
       "1292952                               0                                 0   \n",
       "1292953                               0                                 0   \n",
       "\n",
       "         category_Headphones  category_Home Audio  \\\n",
       "0                          0                    0   \n",
       "1                          0                    0   \n",
       "2                          0                    0   \n",
       "3                          0                    0   \n",
       "4                          0                    0   \n",
       "...                      ...                  ...   \n",
       "1292949                    1                    0   \n",
       "1292950                    0                    0   \n",
       "1292951                    0                    0   \n",
       "1292952                    1                    0   \n",
       "1292953                    1                    0   \n",
       "\n",
       "         category_Portable Audio & Video  category_Security & Surveillance  \\\n",
       "0                                      1                                 0   \n",
       "1                                      1                                 0   \n",
       "2                                      1                                 0   \n",
       "3                                      1                                 0   \n",
       "4                                      1                                 0   \n",
       "...                                  ...                               ...   \n",
       "1292949                                0                                 0   \n",
       "1292950                                0                                 0   \n",
       "1292951                                0                                 0   \n",
       "1292952                                0                                 0   \n",
       "1292953                                0                                 0   \n",
       "\n",
       "         category_Television & Video  category_Wearable Technology  item_id  \\\n",
       "0                                  0                             0        0   \n",
       "1                                  0                             0        0   \n",
       "2                                  0                             0        0   \n",
       "3                                  0                             0        0   \n",
       "4                                  0                             0        0   \n",
       "...                              ...                           ...      ...   \n",
       "1292949                            0                             0     9478   \n",
       "1292950                            0                             0     9435   \n",
       "1292951                            0                             0     9305   \n",
       "1292952                            0                             0     9303   \n",
       "1292953                            0                             0     9478   \n",
       "\n",
       "         user_id  rating  year  \n",
       "0              0     5.0  1999  \n",
       "1              1     5.0  1999  \n",
       "2              2     3.0  1999  \n",
       "3              3     1.0  1999  \n",
       "4              4     2.0  1999  \n",
       "...          ...     ...   ...  \n",
       "1292949  1157628     1.0  2017  \n",
       "1292950  1157629     5.0  2017  \n",
       "1292951  1157630     3.0  2016  \n",
       "1292952  1157631     5.0  2018  \n",
       "1292953  1157632     1.0  2017  \n",
       "\n",
       "[1292954 rows x 17 columns]"
      ]
     },
     "execution_count": 8,
     "metadata": {},
     "output_type": "execute_result"
    }
   ],
   "source": [
    "data_elec= pd.concat([pd.get_dummies(data[[\"model_attr\"]]),pd.get_dummies(data[[\"category\"]]),data['item_id'],data['user_id'],data['rating'],data['year']],axis=1)\n",
    "data_elec"
   ]
  },
  {
   "cell_type": "code",
   "execution_count": 9,
   "id": "7d2dc4d4",
   "metadata": {
    "execution": {
     "iopub.execute_input": "2021-08-28T14:45:10.394378Z",
     "iopub.status.busy": "2021-08-28T14:45:10.393737Z",
     "iopub.status.idle": "2021-08-28T14:45:10.494469Z",
     "shell.execute_reply": "2021-08-28T14:45:10.493995Z",
     "shell.execute_reply.started": "2021-07-16T13:44:34.020367Z"
    },
    "papermill": {
     "duration": 0.122969,
     "end_time": "2021-08-28T14:45:10.494598",
     "exception": false,
     "start_time": "2021-08-28T14:45:10.371629",
     "status": "completed"
    },
    "tags": []
   },
   "outputs": [],
   "source": [
    "from sklearn.preprocessing import MinMaxScaler"
   ]
  },
  {
   "cell_type": "code",
   "execution_count": 10,
   "id": "614b3f7d",
   "metadata": {
    "execution": {
     "iopub.execute_input": "2021-08-28T14:45:10.538648Z",
     "iopub.status.busy": "2021-08-28T14:45:10.537489Z",
     "iopub.status.idle": "2021-08-28T14:45:10.808694Z",
     "shell.execute_reply": "2021-08-28T14:45:10.808238Z",
     "shell.execute_reply.started": "2021-07-16T13:44:34.134374Z"
    },
    "papermill": {
     "duration": 0.295349,
     "end_time": "2021-08-28T14:45:10.808832",
     "exception": false,
     "start_time": "2021-08-28T14:45:10.513483",
     "status": "completed"
    },
    "tags": []
   },
   "outputs": [],
   "source": [
    "min_max_scaler = MinMaxScaler()\n",
    "data_elec = min_max_scaler.fit_transform(data_elec)"
   ]
  },
  {
   "cell_type": "code",
   "execution_count": 11,
   "id": "323f525b",
   "metadata": {
    "execution": {
     "iopub.execute_input": "2021-08-28T14:45:10.851031Z",
     "iopub.status.busy": "2021-08-28T14:45:10.849973Z",
     "iopub.status.idle": "2021-08-28T14:45:10.959270Z",
     "shell.execute_reply": "2021-08-28T14:45:10.958839Z",
     "shell.execute_reply.started": "2021-07-16T13:44:34.417977Z"
    },
    "papermill": {
     "duration": 0.131443,
     "end_time": "2021-08-28T14:45:10.959389",
     "exception": false,
     "start_time": "2021-08-28T14:45:10.827946",
     "status": "completed"
    },
    "tags": []
   },
   "outputs": [
    {
     "data": {
      "text/plain": [
       "array([[1.  , 0.  , 0.  , ..., 0.  , 1.  , 0.  ],\n",
       "       [1.  , 0.  , 0.  , ..., 0.  , 1.  , 0.  ],\n",
       "       [1.  , 0.  , 0.  , ..., 0.  , 0.5 , 0.  ],\n",
       "       ...,\n",
       "       [1.  , 0.  , 0.  , ..., 1.  , 0.5 , 0.89],\n",
       "       [0.  , 0.  , 1.  , ..., 1.  , 1.  , 1.  ],\n",
       "       [1.  , 0.  , 0.  , ..., 1.  , 0.  , 0.95]])"
      ]
     },
     "execution_count": 11,
     "metadata": {},
     "output_type": "execute_result"
    }
   ],
   "source": [
    "np.round(data_elec,2)"
   ]
  },
  {
   "cell_type": "markdown",
   "id": "c29c2b90",
   "metadata": {
    "papermill": {
     "duration": 0.019343,
     "end_time": "2021-08-28T14:45:10.998162",
     "exception": false,
     "start_time": "2021-08-28T14:45:10.978819",
     "status": "completed"
    },
    "tags": []
   },
   "source": [
    "# **Using KNN algorithm to find our prediction**"
   ]
  },
  {
   "cell_type": "code",
   "execution_count": 12,
   "id": "d2df918e",
   "metadata": {
    "execution": {
     "iopub.execute_input": "2021-08-28T14:45:11.040328Z",
     "iopub.status.busy": "2021-08-28T14:45:11.039676Z",
     "iopub.status.idle": "2021-08-28T14:45:11.193847Z",
     "shell.execute_reply": "2021-08-28T14:45:11.193364Z",
     "shell.execute_reply.started": "2021-07-16T13:44:34.536252Z"
    },
    "papermill": {
     "duration": 0.176935,
     "end_time": "2021-08-28T14:45:11.193956",
     "exception": false,
     "start_time": "2021-08-28T14:45:11.017021",
     "status": "completed"
    },
    "tags": []
   },
   "outputs": [],
   "source": [
    "from sklearn.neighbors import NearestNeighbors"
   ]
  },
  {
   "cell_type": "code",
   "execution_count": 13,
   "id": "e4e0cba1",
   "metadata": {
    "execution": {
     "iopub.execute_input": "2021-08-28T14:45:11.237360Z",
     "iopub.status.busy": "2021-08-28T14:45:11.236449Z",
     "iopub.status.idle": "2021-08-28T15:56:03.931377Z",
     "shell.execute_reply": "2021-08-28T15:56:03.930831Z"
    },
    "papermill": {
     "duration": 4252.718129,
     "end_time": "2021-08-28T15:56:03.931607",
     "exception": false,
     "start_time": "2021-08-28T14:45:11.213478",
     "status": "completed"
    },
    "tags": []
   },
   "outputs": [],
   "source": [
    "nbrs = NearestNeighbors(n_neighbors=6, algorithm='auto').fit(data_elec)"
   ]
  },
  {
   "cell_type": "code",
   "execution_count": 14,
   "id": "08ff8023",
   "metadata": {
    "execution": {
     "iopub.execute_input": "2021-08-28T15:56:03.982247Z",
     "iopub.status.busy": "2021-08-28T15:56:03.980999Z",
     "iopub.status.idle": "2021-08-28T16:57:32.416552Z",
     "shell.execute_reply": "2021-08-28T16:57:32.416986Z"
    },
    "papermill": {
     "duration": 3688.461052,
     "end_time": "2021-08-28T16:57:32.417181",
     "exception": false,
     "start_time": "2021-08-28T15:56:03.956129",
     "status": "completed"
    },
    "tags": []
   },
   "outputs": [],
   "source": [
    "distances, indices = nbrs.kneighbors(data_elec)"
   ]
  },
  {
   "cell_type": "code",
   "execution_count": 15,
   "id": "a8ba261e",
   "metadata": {
    "execution": {
     "iopub.execute_input": "2021-08-28T16:57:32.462140Z",
     "iopub.status.busy": "2021-08-28T16:57:32.461295Z",
     "iopub.status.idle": "2021-08-28T16:57:32.464702Z",
     "shell.execute_reply": "2021-08-28T16:57:32.465196Z"
    },
    "papermill": {
     "duration": 0.0281,
     "end_time": "2021-08-28T16:57:32.465310",
     "exception": false,
     "start_time": "2021-08-28T16:57:32.437210",
     "status": "completed"
    },
    "tags": []
   },
   "outputs": [
    {
     "data": {
      "text/plain": [
       "array([[0.00000000e+00, 8.63832375e-07, 5.18299425e-06, 7.77449138e-06,\n",
       "        1.03659885e-05, 1.12298209e-05],\n",
       "       [0.00000000e+00, 8.63832375e-07, 4.31916188e-06, 6.91065900e-06,\n",
       "        9.50215613e-06, 1.03659885e-05],\n",
       "       [0.00000000e+00, 1.46851504e-05, 1.81404799e-05, 2.59149713e-05,\n",
       "        5.09661101e-05, 5.26937749e-05],\n",
       "       ...,\n",
       "       [0.00000000e+00, 1.01519472e-02, 1.06116397e-02, 1.07003431e-02,\n",
       "        1.12514754e-02, 1.45822766e-02],\n",
       "       [0.00000000e+00, 3.31993036e-03, 8.65128124e-03, 1.31562904e-02,\n",
       "        1.43625434e-02, 1.64332873e-02],\n",
       "       [0.00000000e+00, 3.45532950e-06, 4.23277864e-05, 4.56103494e-04,\n",
       "        1.78640535e-03, 2.39886251e-03]])"
      ]
     },
     "execution_count": 15,
     "metadata": {},
     "output_type": "execute_result"
    }
   ],
   "source": [
    "distances"
   ]
  },
  {
   "cell_type": "code",
   "execution_count": 16,
   "id": "4cd4d7e9",
   "metadata": {
    "execution": {
     "iopub.execute_input": "2021-08-28T16:57:32.509183Z",
     "iopub.status.busy": "2021-08-28T16:57:32.508482Z",
     "iopub.status.idle": "2021-08-28T16:57:32.511809Z",
     "shell.execute_reply": "2021-08-28T16:57:32.511328Z"
    },
    "papermill": {
     "duration": 0.026465,
     "end_time": "2021-08-28T16:57:32.511903",
     "exception": false,
     "start_time": "2021-08-28T16:57:32.485438",
     "status": "completed"
    },
    "tags": []
   },
   "outputs": [
    {
     "data": {
      "text/plain": [
       "array([[      0,       1,       6,       9,      12,      13],\n",
       "       [      1,       0,       6,       9,      12,      13],\n",
       "       [      2,      19,      23,      32,      61,      63],\n",
       "       ...,\n",
       "       [1292951, 1282283, 1279282, 1290793, 1278453, 1274051],\n",
       "       [1292952, 1288976, 1281825, 1276352, 1276137, 1271661],\n",
       "       [1292953, 1292949, 1292902, 1292361, 1290674, 1289889]])"
      ]
     },
     "execution_count": 16,
     "metadata": {},
     "output_type": "execute_result"
    }
   ],
   "source": [
    "indices"
   ]
  },
  {
   "cell_type": "code",
   "execution_count": 17,
   "id": "eeb59807",
   "metadata": {
    "execution": {
     "iopub.execute_input": "2021-08-28T16:57:32.555163Z",
     "iopub.status.busy": "2021-08-28T16:57:32.554518Z",
     "iopub.status.idle": "2021-08-28T16:57:32.557238Z",
     "shell.execute_reply": "2021-08-28T16:57:32.556807Z"
    },
    "papermill": {
     "duration": 0.025651,
     "end_time": "2021-08-28T16:57:32.557341",
     "exception": false,
     "start_time": "2021-08-28T16:57:32.531690",
     "status": "completed"
    },
    "tags": []
   },
   "outputs": [],
   "source": [
    "def get_index_from_name(name):\n",
    "    return data[data[\"category\"]==name].index.tolist()[0]"
   ]
  },
  {
   "cell_type": "code",
   "execution_count": 18,
   "id": "5e2c7ccb",
   "metadata": {
    "execution": {
     "iopub.execute_input": "2021-08-28T16:57:32.757285Z",
     "iopub.status.busy": "2021-08-28T16:57:32.756587Z",
     "iopub.status.idle": "2021-08-28T16:57:32.804974Z",
     "shell.execute_reply": "2021-08-28T16:57:32.805359Z"
    },
    "papermill": {
     "duration": 0.228149,
     "end_time": "2021-08-28T16:57:32.805497",
     "exception": false,
     "start_time": "2021-08-28T16:57:32.577348",
     "status": "completed"
    },
    "tags": []
   },
   "outputs": [
    {
     "data": {
      "text/plain": [
       "0"
      ]
     },
     "execution_count": 18,
     "metadata": {},
     "output_type": "execute_result"
    }
   ],
   "source": [
    "get_index_from_name('Portable Audio & Video')"
   ]
  },
  {
   "cell_type": "code",
   "execution_count": 19,
   "id": "9f63d054",
   "metadata": {
    "execution": {
     "iopub.execute_input": "2021-08-28T16:57:32.850313Z",
     "iopub.status.busy": "2021-08-28T16:57:32.849801Z",
     "iopub.status.idle": "2021-08-28T16:57:32.855187Z",
     "shell.execute_reply": "2021-08-28T16:57:32.854788Z"
    },
    "papermill": {
     "duration": 0.029335,
     "end_time": "2021-08-28T16:57:32.855288",
     "exception": false,
     "start_time": "2021-08-28T16:57:32.825953",
     "status": "completed"
    },
    "tags": []
   },
   "outputs": [
    {
     "data": {
      "text/plain": [
       "array([ 1,  6,  9, 12, 13])"
      ]
     },
     "execution_count": 19,
     "metadata": {},
     "output_type": "execute_result"
    }
   ],
   "source": [
    "indices[0][1:]"
   ]
  },
  {
   "cell_type": "code",
   "execution_count": 20,
   "id": "58e9bd98",
   "metadata": {
    "execution": {
     "iopub.execute_input": "2021-08-28T16:57:32.902316Z",
     "iopub.status.busy": "2021-08-28T16:57:32.901793Z",
     "iopub.status.idle": "2021-08-28T16:57:32.907337Z",
     "shell.execute_reply": "2021-08-28T16:57:32.906923Z"
    },
    "papermill": {
     "duration": 0.031171,
     "end_time": "2021-08-28T16:57:32.907438",
     "exception": false,
     "start_time": "2021-08-28T16:57:32.876267",
     "status": "completed"
    },
    "tags": []
   },
   "outputs": [
    {
     "data": {
      "text/plain": [
       "1      1\n",
       "6      6\n",
       "9      9\n",
       "12    12\n",
       "13    13\n",
       "Name: user_id, dtype: int64"
      ]
     },
     "execution_count": 20,
     "metadata": {},
     "output_type": "execute_result"
    }
   ],
   "source": [
    "data.iloc[indices[0][1:],:]['user_id']"
   ]
  },
  {
   "cell_type": "code",
   "execution_count": 21,
   "id": "796a2684",
   "metadata": {
    "execution": {
     "iopub.execute_input": "2021-08-28T16:57:32.954762Z",
     "iopub.status.busy": "2021-08-28T16:57:32.954025Z",
     "iopub.status.idle": "2021-08-28T16:57:32.956257Z",
     "shell.execute_reply": "2021-08-28T16:57:32.956653Z"
    },
    "papermill": {
     "duration": 0.027981,
     "end_time": "2021-08-28T16:57:32.956762",
     "exception": false,
     "start_time": "2021-08-28T16:57:32.928781",
     "status": "completed"
    },
    "tags": []
   },
   "outputs": [],
   "source": [
    "def print_similar_names(user_id=None):\n",
    "     if user_id:\n",
    "        found_id = get_index_from_name(user_id)\n",
    "        for id in indices[found_id][1:]:\n",
    "            print(data.iloc[id][\"user_id\"],'[','User ID =',data.iloc[id][\"model_attr\"],',','Category =',data.iloc[id][\"category\"],']')"
   ]
  },
  {
   "cell_type": "markdown",
   "id": "71983cec",
   "metadata": {
    "papermill": {
     "duration": 0.020994,
     "end_time": "2021-08-28T16:57:32.998915",
     "exception": false,
     "start_time": "2021-08-28T16:57:32.977921",
     "status": "completed"
    },
    "tags": []
   },
   "source": [
    "# prediction by user_id"
   ]
  },
  {
   "cell_type": "code",
   "execution_count": 22,
   "id": "e787e8f2",
   "metadata": {
    "execution": {
     "iopub.execute_input": "2021-08-28T16:57:33.044621Z",
     "iopub.status.busy": "2021-08-28T16:57:33.043951Z",
     "iopub.status.idle": "2021-08-28T16:57:33.046614Z",
     "shell.execute_reply": "2021-08-28T16:57:33.046197Z"
    },
    "papermill": {
     "duration": 0.026382,
     "end_time": "2021-08-28T16:57:33.046708",
     "exception": false,
     "start_time": "2021-08-28T16:57:33.020326",
     "status": "completed"
    },
    "tags": []
   },
   "outputs": [],
   "source": [
    "#print_similar_names(input('user_id=')) # prediction by user_id"
   ]
  },
  {
   "cell_type": "code",
   "execution_count": null,
   "id": "8d528809",
   "metadata": {
    "papermill": {
     "duration": 0.02118,
     "end_time": "2021-08-28T16:57:33.089363",
     "exception": false,
     "start_time": "2021-08-28T16:57:33.068183",
     "status": "completed"
    },
    "tags": []
   },
   "outputs": [],
   "source": []
  }
 ],
 "metadata": {
  "kernelspec": {
   "display_name": "Python 3",
   "language": "python",
   "name": "python3"
  },
  "language_info": {
   "codemirror_mode": {
    "name": "ipython",
    "version": 3
   },
   "file_extension": ".py",
   "mimetype": "text/x-python",
   "name": "python",
   "nbconvert_exporter": "python",
   "pygments_lexer": "ipython3",
   "version": "3.7.10"
  },
  "papermill": {
   "default_parameters": {},
   "duration": 7957.008881,
   "end_time": "2021-08-28T16:57:33.718872",
   "environment_variables": {},
   "exception": null,
   "input_path": "__notebook__.ipynb",
   "output_path": "__notebook__.ipynb",
   "parameters": {},
   "start_time": "2021-08-28T14:44:56.709991",
   "version": "2.3.3"
  }
 },
 "nbformat": 4,
 "nbformat_minor": 5
}
