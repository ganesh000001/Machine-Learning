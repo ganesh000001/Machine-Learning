{
 "cells": [
  {
   "cell_type": "markdown",
   "id": "88732da6",
   "metadata": {
    "papermill": {
     "duration": 0.018947,
     "end_time": "2021-09-03T21:09:53.898700",
     "exception": false,
     "start_time": "2021-09-03T21:09:53.879753",
     "status": "completed"
    },
    "tags": []
   },
   "source": [
    "# By using RandomForestClassifier"
   ]
  },
  {
   "cell_type": "code",
   "execution_count": 1,
   "id": "2d75aca8",
   "metadata": {
    "execution": {
     "iopub.execute_input": "2021-09-03T21:09:53.939460Z",
     "iopub.status.busy": "2021-09-03T21:09:53.938408Z",
     "iopub.status.idle": "2021-09-03T21:09:55.165646Z",
     "shell.execute_reply": "2021-09-03T21:09:55.164548Z",
     "shell.execute_reply.started": "2021-09-03T20:43:10.083677Z"
    },
    "papermill": {
     "duration": 1.248459,
     "end_time": "2021-09-03T21:09:55.165892",
     "exception": false,
     "start_time": "2021-09-03T21:09:53.917433",
     "status": "completed"
    },
    "tags": []
   },
   "outputs": [],
   "source": [
    "import numpy as np\n",
    "import pandas as pd \n",
    "from matplotlib import pyplot as plt\n",
    "from sklearn.ensemble import RandomForestClassifier\n",
    "from sklearn.model_selection import train_test_split\n",
    "%matplotlib inline  "
   ]
  },
  {
   "cell_type": "code",
   "execution_count": 2,
   "id": "2afc827d",
   "metadata": {
    "execution": {
     "iopub.execute_input": "2021-09-03T21:09:55.223295Z",
     "iopub.status.busy": "2021-09-03T21:09:55.222019Z",
     "iopub.status.idle": "2021-09-03T21:09:59.495352Z",
     "shell.execute_reply": "2021-09-03T21:09:59.494801Z",
     "shell.execute_reply.started": "2021-09-03T20:43:15.478604Z"
    },
    "papermill": {
     "duration": 4.304506,
     "end_time": "2021-09-03T21:09:59.495494",
     "exception": false,
     "start_time": "2021-09-03T21:09:55.190988",
     "status": "completed"
    },
    "tags": []
   },
   "outputs": [],
   "source": [
    "data=pd.read_csv('../input/Kannada-MNIST/train.csv')"
   ]
  },
  {
   "cell_type": "code",
   "execution_count": 3,
   "id": "9beb79e5",
   "metadata": {
    "execution": {
     "iopub.execute_input": "2021-09-03T21:09:59.544026Z",
     "iopub.status.busy": "2021-09-03T21:09:59.543440Z",
     "iopub.status.idle": "2021-09-03T21:09:59.567024Z",
     "shell.execute_reply": "2021-09-03T21:09:59.566552Z",
     "shell.execute_reply.started": "2021-09-03T20:43:25.913192Z"
    },
    "papermill": {
     "duration": 0.05333,
     "end_time": "2021-09-03T21:09:59.567177",
     "exception": false,
     "start_time": "2021-09-03T21:09:59.513847",
     "status": "completed"
    },
    "tags": []
   },
   "outputs": [
    {
     "data": {
      "text/html": [
       "<div>\n",
       "<style scoped>\n",
       "    .dataframe tbody tr th:only-of-type {\n",
       "        vertical-align: middle;\n",
       "    }\n",
       "\n",
       "    .dataframe tbody tr th {\n",
       "        vertical-align: top;\n",
       "    }\n",
       "\n",
       "    .dataframe thead th {\n",
       "        text-align: right;\n",
       "    }\n",
       "</style>\n",
       "<table border=\"1\" class=\"dataframe\">\n",
       "  <thead>\n",
       "    <tr style=\"text-align: right;\">\n",
       "      <th></th>\n",
       "      <th>label</th>\n",
       "      <th>pixel0</th>\n",
       "      <th>pixel1</th>\n",
       "      <th>pixel2</th>\n",
       "      <th>pixel3</th>\n",
       "      <th>pixel4</th>\n",
       "      <th>pixel5</th>\n",
       "      <th>pixel6</th>\n",
       "      <th>pixel7</th>\n",
       "      <th>pixel8</th>\n",
       "      <th>...</th>\n",
       "      <th>pixel774</th>\n",
       "      <th>pixel775</th>\n",
       "      <th>pixel776</th>\n",
       "      <th>pixel777</th>\n",
       "      <th>pixel778</th>\n",
       "      <th>pixel779</th>\n",
       "      <th>pixel780</th>\n",
       "      <th>pixel781</th>\n",
       "      <th>pixel782</th>\n",
       "      <th>pixel783</th>\n",
       "    </tr>\n",
       "  </thead>\n",
       "  <tbody>\n",
       "    <tr>\n",
       "      <th>0</th>\n",
       "      <td>0</td>\n",
       "      <td>0</td>\n",
       "      <td>0</td>\n",
       "      <td>0</td>\n",
       "      <td>0</td>\n",
       "      <td>0</td>\n",
       "      <td>0</td>\n",
       "      <td>0</td>\n",
       "      <td>0</td>\n",
       "      <td>0</td>\n",
       "      <td>...</td>\n",
       "      <td>0</td>\n",
       "      <td>0</td>\n",
       "      <td>0</td>\n",
       "      <td>0</td>\n",
       "      <td>0</td>\n",
       "      <td>0</td>\n",
       "      <td>0</td>\n",
       "      <td>0</td>\n",
       "      <td>0</td>\n",
       "      <td>0</td>\n",
       "    </tr>\n",
       "    <tr>\n",
       "      <th>1</th>\n",
       "      <td>1</td>\n",
       "      <td>0</td>\n",
       "      <td>0</td>\n",
       "      <td>0</td>\n",
       "      <td>0</td>\n",
       "      <td>0</td>\n",
       "      <td>0</td>\n",
       "      <td>0</td>\n",
       "      <td>0</td>\n",
       "      <td>0</td>\n",
       "      <td>...</td>\n",
       "      <td>0</td>\n",
       "      <td>0</td>\n",
       "      <td>0</td>\n",
       "      <td>0</td>\n",
       "      <td>0</td>\n",
       "      <td>0</td>\n",
       "      <td>0</td>\n",
       "      <td>0</td>\n",
       "      <td>0</td>\n",
       "      <td>0</td>\n",
       "    </tr>\n",
       "    <tr>\n",
       "      <th>2</th>\n",
       "      <td>2</td>\n",
       "      <td>0</td>\n",
       "      <td>0</td>\n",
       "      <td>0</td>\n",
       "      <td>0</td>\n",
       "      <td>0</td>\n",
       "      <td>0</td>\n",
       "      <td>0</td>\n",
       "      <td>0</td>\n",
       "      <td>0</td>\n",
       "      <td>...</td>\n",
       "      <td>0</td>\n",
       "      <td>0</td>\n",
       "      <td>0</td>\n",
       "      <td>0</td>\n",
       "      <td>0</td>\n",
       "      <td>0</td>\n",
       "      <td>0</td>\n",
       "      <td>0</td>\n",
       "      <td>0</td>\n",
       "      <td>0</td>\n",
       "    </tr>\n",
       "    <tr>\n",
       "      <th>3</th>\n",
       "      <td>3</td>\n",
       "      <td>0</td>\n",
       "      <td>0</td>\n",
       "      <td>0</td>\n",
       "      <td>0</td>\n",
       "      <td>0</td>\n",
       "      <td>0</td>\n",
       "      <td>0</td>\n",
       "      <td>0</td>\n",
       "      <td>0</td>\n",
       "      <td>...</td>\n",
       "      <td>0</td>\n",
       "      <td>0</td>\n",
       "      <td>0</td>\n",
       "      <td>0</td>\n",
       "      <td>0</td>\n",
       "      <td>0</td>\n",
       "      <td>0</td>\n",
       "      <td>0</td>\n",
       "      <td>0</td>\n",
       "      <td>0</td>\n",
       "    </tr>\n",
       "    <tr>\n",
       "      <th>4</th>\n",
       "      <td>4</td>\n",
       "      <td>0</td>\n",
       "      <td>0</td>\n",
       "      <td>0</td>\n",
       "      <td>0</td>\n",
       "      <td>0</td>\n",
       "      <td>0</td>\n",
       "      <td>0</td>\n",
       "      <td>0</td>\n",
       "      <td>0</td>\n",
       "      <td>...</td>\n",
       "      <td>0</td>\n",
       "      <td>0</td>\n",
       "      <td>0</td>\n",
       "      <td>0</td>\n",
       "      <td>0</td>\n",
       "      <td>0</td>\n",
       "      <td>0</td>\n",
       "      <td>0</td>\n",
       "      <td>0</td>\n",
       "      <td>0</td>\n",
       "    </tr>\n",
       "  </tbody>\n",
       "</table>\n",
       "<p>5 rows × 785 columns</p>\n",
       "</div>"
      ],
      "text/plain": [
       "   label  pixel0  pixel1  pixel2  pixel3  pixel4  pixel5  pixel6  pixel7  \\\n",
       "0      0       0       0       0       0       0       0       0       0   \n",
       "1      1       0       0       0       0       0       0       0       0   \n",
       "2      2       0       0       0       0       0       0       0       0   \n",
       "3      3       0       0       0       0       0       0       0       0   \n",
       "4      4       0       0       0       0       0       0       0       0   \n",
       "\n",
       "   pixel8  ...  pixel774  pixel775  pixel776  pixel777  pixel778  pixel779  \\\n",
       "0       0  ...         0         0         0         0         0         0   \n",
       "1       0  ...         0         0         0         0         0         0   \n",
       "2       0  ...         0         0         0         0         0         0   \n",
       "3       0  ...         0         0         0         0         0         0   \n",
       "4       0  ...         0         0         0         0         0         0   \n",
       "\n",
       "   pixel780  pixel781  pixel782  pixel783  \n",
       "0         0         0         0         0  \n",
       "1         0         0         0         0  \n",
       "2         0         0         0         0  \n",
       "3         0         0         0         0  \n",
       "4         0         0         0         0  \n",
       "\n",
       "[5 rows x 785 columns]"
      ]
     },
     "execution_count": 3,
     "metadata": {},
     "output_type": "execute_result"
    }
   ],
   "source": [
    "data.head()"
   ]
  },
  {
   "cell_type": "code",
   "execution_count": 4,
   "id": "eb654978",
   "metadata": {
    "execution": {
     "iopub.execute_input": "2021-09-03T21:09:59.623506Z",
     "iopub.status.busy": "2021-09-03T21:09:59.622757Z",
     "iopub.status.idle": "2021-09-03T21:10:00.181958Z",
     "shell.execute_reply": "2021-09-03T21:10:00.181455Z",
     "shell.execute_reply.started": "2021-09-03T20:43:28.486596Z"
    },
    "papermill": {
     "duration": 0.595751,
     "end_time": "2021-09-03T21:10:00.182121",
     "exception": false,
     "start_time": "2021-09-03T21:09:59.586370",
     "status": "completed"
    },
    "tags": []
   },
   "outputs": [
    {
     "data": {
      "image/png": "[encoded data removed]",
      "text/plain": [
       "<Figure size 288x216 with 1 Axes>"
      ]
     },
     "metadata": {
      "needs_background": "light"
     },
     "output_type": "display_data"
    },
    {
     "data": {
      "image/png": "[encoded data removed]",
      "text/plain": [
       "<Figure size 288x216 with 1 Axes>"
      ]
     },
     "metadata": {
      "needs_background": "light"
     },
     "output_type": "display_data"
    },
    {
     "data": {
      "image/png": "[encoded data removed]",
      "text/plain": [
       "<Figure size 288x216 with 1 Axes>"
      ]
     },
     "metadata": {
      "needs_background": "light"
     },
     "output_type": "display_data"
    },
    {
     "data": {
      "image/png": "[encoded data removed]",
      "text/plain": [
       "<Figure size 288x216 with 1 Axes>"
      ]
     },
     "metadata": {
      "needs_background": "light"
     },
     "output_type": "display_data"
    },
    {
     "data": {
      "image/png": "[encoded data removed]",
      "text/plain": [
       "<Figure size 288x216 with 1 Axes>"
      ]
     },
     "metadata": {
      "needs_background": "light"
     },
     "output_type": "display_data"
    }
   ],
   "source": [
    "for i in range(5):\n",
    "    a=data.iloc[i,1:].values\n",
    "    a=a.reshape(28,28).astype('uint8')\n",
    "    fig = plt.figure(figsize=(4,3))\n",
    "    #plt.subplot(1, 3, 1)\n",
    "    plt.imshow(a)\n",
    "    \n",
    "\n",
    "    "
   ]
  },
  {
   "cell_type": "code",
   "execution_count": 5,
   "id": "527914f2",
   "metadata": {
    "execution": {
     "iopub.execute_input": "2021-09-03T21:10:00.229914Z",
     "iopub.status.busy": "2021-09-03T21:10:00.229309Z",
     "iopub.status.idle": "2021-09-03T21:10:00.232244Z",
     "shell.execute_reply": "2021-09-03T21:10:00.232645Z",
     "shell.execute_reply.started": "2021-09-03T20:43:31.884257Z"
    },
    "papermill": {
     "duration": 0.029286,
     "end_time": "2021-09-03T21:10:00.232825",
     "exception": false,
     "start_time": "2021-09-03T21:10:00.203539",
     "status": "completed"
    },
    "tags": []
   },
   "outputs": [],
   "source": [
    "df_x=data.iloc[:,1:]\n",
    "df_y=data.iloc[:,0]"
   ]
  },
  {
   "cell_type": "code",
   "execution_count": 6,
   "id": "71caac6e",
   "metadata": {
    "execution": {
     "iopub.execute_input": "2021-09-03T21:10:00.281295Z",
     "iopub.status.busy": "2021-09-03T21:10:00.280644Z",
     "iopub.status.idle": "2021-09-03T21:10:00.637700Z",
     "shell.execute_reply": "2021-09-03T21:10:00.637211Z",
     "shell.execute_reply.started": "2021-09-03T20:43:35.26795Z"
    },
    "papermill": {
     "duration": 0.382983,
     "end_time": "2021-09-03T21:10:00.637842",
     "exception": false,
     "start_time": "2021-09-03T21:10:00.254859",
     "status": "completed"
    },
    "tags": []
   },
   "outputs": [],
   "source": [
    "x_train, x_test, y_train, y_test = train_test_split(df_x, df_y, test_size=0.2, random_state=4)"
   ]
  },
  {
   "cell_type": "code",
   "execution_count": 7,
   "id": "84a4b216",
   "metadata": {
    "execution": {
     "iopub.execute_input": "2021-09-03T21:10:00.696325Z",
     "iopub.status.busy": "2021-09-03T21:10:00.695385Z",
     "iopub.status.idle": "2021-09-03T21:10:00.699840Z",
     "shell.execute_reply": "2021-09-03T21:10:00.699248Z",
     "shell.execute_reply.started": "2021-09-03T20:43:37.585475Z"
    },
    "papermill": {
     "duration": 0.041046,
     "end_time": "2021-09-03T21:10:00.699972",
     "exception": false,
     "start_time": "2021-09-03T21:10:00.658926",
     "status": "completed"
    },
    "tags": []
   },
   "outputs": [
    {
     "data": {
      "text/html": [
       "<div>\n",
       "<style scoped>\n",
       "    .dataframe tbody tr th:only-of-type {\n",
       "        vertical-align: middle;\n",
       "    }\n",
       "\n",
       "    .dataframe tbody tr th {\n",
       "        vertical-align: top;\n",
       "    }\n",
       "\n",
       "    .dataframe thead th {\n",
       "        text-align: right;\n",
       "    }\n",
       "</style>\n",
       "<table border=\"1\" class=\"dataframe\">\n",
       "  <thead>\n",
       "    <tr style=\"text-align: right;\">\n",
       "      <th></th>\n",
       "      <th>pixel0</th>\n",
       "      <th>pixel1</th>\n",
       "      <th>pixel2</th>\n",
       "      <th>pixel3</th>\n",
       "      <th>pixel4</th>\n",
       "      <th>pixel5</th>\n",
       "      <th>pixel6</th>\n",
       "      <th>pixel7</th>\n",
       "      <th>pixel8</th>\n",
       "      <th>pixel9</th>\n",
       "      <th>...</th>\n",
       "      <th>pixel774</th>\n",
       "      <th>pixel775</th>\n",
       "      <th>pixel776</th>\n",
       "      <th>pixel777</th>\n",
       "      <th>pixel778</th>\n",
       "      <th>pixel779</th>\n",
       "      <th>pixel780</th>\n",
       "      <th>pixel781</th>\n",
       "      <th>pixel782</th>\n",
       "      <th>pixel783</th>\n",
       "    </tr>\n",
       "  </thead>\n",
       "  <tbody>\n",
       "    <tr>\n",
       "      <th>20379</th>\n",
       "      <td>0</td>\n",
       "      <td>0</td>\n",
       "      <td>0</td>\n",
       "      <td>0</td>\n",
       "      <td>0</td>\n",
       "      <td>0</td>\n",
       "      <td>0</td>\n",
       "      <td>0</td>\n",
       "      <td>0</td>\n",
       "      <td>0</td>\n",
       "      <td>...</td>\n",
       "      <td>0</td>\n",
       "      <td>0</td>\n",
       "      <td>0</td>\n",
       "      <td>0</td>\n",
       "      <td>0</td>\n",
       "      <td>0</td>\n",
       "      <td>0</td>\n",
       "      <td>0</td>\n",
       "      <td>0</td>\n",
       "      <td>0</td>\n",
       "    </tr>\n",
       "    <tr>\n",
       "      <th>53032</th>\n",
       "      <td>0</td>\n",
       "      <td>0</td>\n",
       "      <td>0</td>\n",
       "      <td>0</td>\n",
       "      <td>0</td>\n",
       "      <td>0</td>\n",
       "      <td>0</td>\n",
       "      <td>0</td>\n",
       "      <td>0</td>\n",
       "      <td>0</td>\n",
       "      <td>...</td>\n",
       "      <td>0</td>\n",
       "      <td>0</td>\n",
       "      <td>0</td>\n",
       "      <td>0</td>\n",
       "      <td>0</td>\n",
       "      <td>0</td>\n",
       "      <td>0</td>\n",
       "      <td>0</td>\n",
       "      <td>0</td>\n",
       "      <td>0</td>\n",
       "    </tr>\n",
       "    <tr>\n",
       "      <th>27005</th>\n",
       "      <td>0</td>\n",
       "      <td>0</td>\n",
       "      <td>0</td>\n",
       "      <td>0</td>\n",
       "      <td>0</td>\n",
       "      <td>0</td>\n",
       "      <td>0</td>\n",
       "      <td>0</td>\n",
       "      <td>0</td>\n",
       "      <td>0</td>\n",
       "      <td>...</td>\n",
       "      <td>0</td>\n",
       "      <td>0</td>\n",
       "      <td>0</td>\n",
       "      <td>0</td>\n",
       "      <td>0</td>\n",
       "      <td>0</td>\n",
       "      <td>0</td>\n",
       "      <td>0</td>\n",
       "      <td>0</td>\n",
       "      <td>0</td>\n",
       "    </tr>\n",
       "    <tr>\n",
       "      <th>30510</th>\n",
       "      <td>0</td>\n",
       "      <td>0</td>\n",
       "      <td>0</td>\n",
       "      <td>0</td>\n",
       "      <td>0</td>\n",
       "      <td>0</td>\n",
       "      <td>0</td>\n",
       "      <td>0</td>\n",
       "      <td>0</td>\n",
       "      <td>0</td>\n",
       "      <td>...</td>\n",
       "      <td>0</td>\n",
       "      <td>0</td>\n",
       "      <td>0</td>\n",
       "      <td>0</td>\n",
       "      <td>0</td>\n",
       "      <td>0</td>\n",
       "      <td>0</td>\n",
       "      <td>0</td>\n",
       "      <td>0</td>\n",
       "      <td>0</td>\n",
       "    </tr>\n",
       "    <tr>\n",
       "      <th>508</th>\n",
       "      <td>0</td>\n",
       "      <td>0</td>\n",
       "      <td>0</td>\n",
       "      <td>0</td>\n",
       "      <td>0</td>\n",
       "      <td>0</td>\n",
       "      <td>0</td>\n",
       "      <td>0</td>\n",
       "      <td>0</td>\n",
       "      <td>0</td>\n",
       "      <td>...</td>\n",
       "      <td>0</td>\n",
       "      <td>0</td>\n",
       "      <td>0</td>\n",
       "      <td>0</td>\n",
       "      <td>0</td>\n",
       "      <td>0</td>\n",
       "      <td>0</td>\n",
       "      <td>0</td>\n",
       "      <td>0</td>\n",
       "      <td>0</td>\n",
       "    </tr>\n",
       "  </tbody>\n",
       "</table>\n",
       "<p>5 rows × 784 columns</p>\n",
       "</div>"
      ],
      "text/plain": [
       "       pixel0  pixel1  pixel2  pixel3  pixel4  pixel5  pixel6  pixel7  pixel8  \\\n",
       "20379       0       0       0       0       0       0       0       0       0   \n",
       "53032       0       0       0       0       0       0       0       0       0   \n",
       "27005       0       0       0       0       0       0       0       0       0   \n",
       "30510       0       0       0       0       0       0       0       0       0   \n",
       "508         0       0       0       0       0       0       0       0       0   \n",
       "\n",
       "       pixel9  ...  pixel774  pixel775  pixel776  pixel777  pixel778  \\\n",
       "20379       0  ...         0         0         0         0         0   \n",
       "53032       0  ...         0         0         0         0         0   \n",
       "27005       0  ...         0         0         0         0         0   \n",
       "30510       0  ...         0         0         0         0         0   \n",
       "508         0  ...         0         0         0         0         0   \n",
       "\n",
       "       pixel779  pixel780  pixel781  pixel782  pixel783  \n",
       "20379         0         0         0         0         0  \n",
       "53032         0         0         0         0         0  \n",
       "27005         0         0         0         0         0  \n",
       "30510         0         0         0         0         0  \n",
       "508           0         0         0         0         0  \n",
       "\n",
       "[5 rows x 784 columns]"
      ]
     },
     "execution_count": 7,
     "metadata": {},
     "output_type": "execute_result"
    }
   ],
   "source": [
    "x_train.head()"
   ]
  },
  {
   "cell_type": "code",
   "execution_count": 8,
   "id": "2aa667cd",
   "metadata": {
    "execution": {
     "iopub.execute_input": "2021-09-03T21:10:00.749576Z",
     "iopub.status.busy": "2021-09-03T21:10:00.748741Z",
     "iopub.status.idle": "2021-09-03T21:10:00.753774Z",
     "shell.execute_reply": "2021-09-03T21:10:00.753290Z",
     "shell.execute_reply.started": "2021-09-03T20:43:39.985702Z"
    },
    "papermill": {
     "duration": 0.032344,
     "end_time": "2021-09-03T21:10:00.753910",
     "exception": false,
     "start_time": "2021-09-03T21:10:00.721566",
     "status": "completed"
    },
    "tags": []
   },
   "outputs": [
    {
     "data": {
      "text/plain": [
       "20379    9\n",
       "53032    2\n",
       "27005    5\n",
       "30510    0\n",
       "508      8\n",
       "Name: label, dtype: int64"
      ]
     },
     "execution_count": 8,
     "metadata": {},
     "output_type": "execute_result"
    }
   ],
   "source": [
    "y_train.head()"
   ]
  },
  {
   "cell_type": "code",
   "execution_count": 9,
   "id": "78674f2e",
   "metadata": {
    "execution": {
     "iopub.execute_input": "2021-09-03T21:10:00.807910Z",
     "iopub.status.busy": "2021-09-03T21:10:00.807292Z",
     "iopub.status.idle": "2021-09-03T21:10:31.379206Z",
     "shell.execute_reply": "2021-09-03T21:10:31.379677Z",
     "shell.execute_reply.started": "2021-09-03T20:43:42.904952Z"
    },
    "papermill": {
     "duration": 30.604056,
     "end_time": "2021-09-03T21:10:31.379846",
     "exception": false,
     "start_time": "2021-09-03T21:10:00.775790",
     "status": "completed"
    },
    "tags": []
   },
   "outputs": [
    {
     "data": {
      "text/plain": [
       "RandomForestClassifier()"
      ]
     },
     "execution_count": 9,
     "metadata": {},
     "output_type": "execute_result"
    }
   ],
   "source": [
    "rf=RandomForestClassifier(n_estimators=100)\n",
    "rf.fit(x_train,y_train)"
   ]
  },
  {
   "cell_type": "code",
   "execution_count": 10,
   "id": "3eaf776b",
   "metadata": {
    "execution": {
     "iopub.execute_input": "2021-09-03T21:10:31.427917Z",
     "iopub.status.busy": "2021-09-03T21:10:31.427346Z",
     "iopub.status.idle": "2021-09-03T21:10:31.790099Z",
     "shell.execute_reply": "2021-09-03T21:10:31.789557Z",
     "shell.execute_reply.started": "2021-09-03T20:44:24.87563Z"
    },
    "papermill": {
     "duration": 0.388541,
     "end_time": "2021-09-03T21:10:31.790265",
     "exception": false,
     "start_time": "2021-09-03T21:10:31.401724",
     "status": "completed"
    },
    "tags": []
   },
   "outputs": [],
   "source": [
    "df=pd.read_csv(\"../input/Kannada-MNIST/test.csv\")"
   ]
  },
  {
   "cell_type": "code",
   "execution_count": 11,
   "id": "0c9953e9",
   "metadata": {
    "execution": {
     "iopub.execute_input": "2021-09-03T21:10:31.840399Z",
     "iopub.status.busy": "2021-09-03T21:10:31.839795Z",
     "iopub.status.idle": "2021-09-03T21:10:31.857926Z",
     "shell.execute_reply": "2021-09-03T21:10:31.858416Z",
     "shell.execute_reply.started": "2021-09-03T20:44:30.217551Z"
    },
    "papermill": {
     "duration": 0.045966,
     "end_time": "2021-09-03T21:10:31.858582",
     "exception": false,
     "start_time": "2021-09-03T21:10:31.812616",
     "status": "completed"
    },
    "tags": []
   },
   "outputs": [
    {
     "data": {
      "text/html": [
       "<div>\n",
       "<style scoped>\n",
       "    .dataframe tbody tr th:only-of-type {\n",
       "        vertical-align: middle;\n",
       "    }\n",
       "\n",
       "    .dataframe tbody tr th {\n",
       "        vertical-align: top;\n",
       "    }\n",
       "\n",
       "    .dataframe thead th {\n",
       "        text-align: right;\n",
       "    }\n",
       "</style>\n",
       "<table border=\"1\" class=\"dataframe\">\n",
       "  <thead>\n",
       "    <tr style=\"text-align: right;\">\n",
       "      <th></th>\n",
       "      <th>pixel0</th>\n",
       "      <th>pixel1</th>\n",
       "      <th>pixel2</th>\n",
       "      <th>pixel3</th>\n",
       "      <th>pixel4</th>\n",
       "      <th>pixel5</th>\n",
       "      <th>pixel6</th>\n",
       "      <th>pixel7</th>\n",
       "      <th>pixel8</th>\n",
       "      <th>pixel9</th>\n",
       "      <th>...</th>\n",
       "      <th>pixel774</th>\n",
       "      <th>pixel775</th>\n",
       "      <th>pixel776</th>\n",
       "      <th>pixel777</th>\n",
       "      <th>pixel778</th>\n",
       "      <th>pixel779</th>\n",
       "      <th>pixel780</th>\n",
       "      <th>pixel781</th>\n",
       "      <th>pixel782</th>\n",
       "      <th>pixel783</th>\n",
       "    </tr>\n",
       "  </thead>\n",
       "  <tbody>\n",
       "    <tr>\n",
       "      <th>0</th>\n",
       "      <td>0</td>\n",
       "      <td>0</td>\n",
       "      <td>0</td>\n",
       "      <td>0</td>\n",
       "      <td>0</td>\n",
       "      <td>0</td>\n",
       "      <td>0</td>\n",
       "      <td>0</td>\n",
       "      <td>0</td>\n",
       "      <td>0</td>\n",
       "      <td>...</td>\n",
       "      <td>0</td>\n",
       "      <td>0</td>\n",
       "      <td>0</td>\n",
       "      <td>0</td>\n",
       "      <td>0</td>\n",
       "      <td>0</td>\n",
       "      <td>0</td>\n",
       "      <td>0</td>\n",
       "      <td>0</td>\n",
       "      <td>0</td>\n",
       "    </tr>\n",
       "    <tr>\n",
       "      <th>1</th>\n",
       "      <td>0</td>\n",
       "      <td>0</td>\n",
       "      <td>0</td>\n",
       "      <td>0</td>\n",
       "      <td>0</td>\n",
       "      <td>0</td>\n",
       "      <td>0</td>\n",
       "      <td>0</td>\n",
       "      <td>0</td>\n",
       "      <td>0</td>\n",
       "      <td>...</td>\n",
       "      <td>0</td>\n",
       "      <td>0</td>\n",
       "      <td>0</td>\n",
       "      <td>0</td>\n",
       "      <td>0</td>\n",
       "      <td>0</td>\n",
       "      <td>0</td>\n",
       "      <td>0</td>\n",
       "      <td>0</td>\n",
       "      <td>0</td>\n",
       "    </tr>\n",
       "    <tr>\n",
       "      <th>2</th>\n",
       "      <td>0</td>\n",
       "      <td>0</td>\n",
       "      <td>0</td>\n",
       "      <td>0</td>\n",
       "      <td>0</td>\n",
       "      <td>0</td>\n",
       "      <td>0</td>\n",
       "      <td>0</td>\n",
       "      <td>0</td>\n",
       "      <td>0</td>\n",
       "      <td>...</td>\n",
       "      <td>0</td>\n",
       "      <td>0</td>\n",
       "      <td>0</td>\n",
       "      <td>0</td>\n",
       "      <td>0</td>\n",
       "      <td>0</td>\n",
       "      <td>0</td>\n",
       "      <td>0</td>\n",
       "      <td>0</td>\n",
       "      <td>0</td>\n",
       "    </tr>\n",
       "    <tr>\n",
       "      <th>3</th>\n",
       "      <td>0</td>\n",
       "      <td>0</td>\n",
       "      <td>0</td>\n",
       "      <td>0</td>\n",
       "      <td>0</td>\n",
       "      <td>0</td>\n",
       "      <td>0</td>\n",
       "      <td>0</td>\n",
       "      <td>0</td>\n",
       "      <td>0</td>\n",
       "      <td>...</td>\n",
       "      <td>0</td>\n",
       "      <td>0</td>\n",
       "      <td>0</td>\n",
       "      <td>0</td>\n",
       "      <td>0</td>\n",
       "      <td>0</td>\n",
       "      <td>0</td>\n",
       "      <td>0</td>\n",
       "      <td>0</td>\n",
       "      <td>0</td>\n",
       "    </tr>\n",
       "    <tr>\n",
       "      <th>4</th>\n",
       "      <td>0</td>\n",
       "      <td>0</td>\n",
       "      <td>0</td>\n",
       "      <td>0</td>\n",
       "      <td>0</td>\n",
       "      <td>0</td>\n",
       "      <td>0</td>\n",
       "      <td>0</td>\n",
       "      <td>0</td>\n",
       "      <td>0</td>\n",
       "      <td>...</td>\n",
       "      <td>0</td>\n",
       "      <td>0</td>\n",
       "      <td>0</td>\n",
       "      <td>0</td>\n",
       "      <td>0</td>\n",
       "      <td>0</td>\n",
       "      <td>0</td>\n",
       "      <td>0</td>\n",
       "      <td>0</td>\n",
       "      <td>0</td>\n",
       "    </tr>\n",
       "    <tr>\n",
       "      <th>...</th>\n",
       "      <td>...</td>\n",
       "      <td>...</td>\n",
       "      <td>...</td>\n",
       "      <td>...</td>\n",
       "      <td>...</td>\n",
       "      <td>...</td>\n",
       "      <td>...</td>\n",
       "      <td>...</td>\n",
       "      <td>...</td>\n",
       "      <td>...</td>\n",
       "      <td>...</td>\n",
       "      <td>...</td>\n",
       "      <td>...</td>\n",
       "      <td>...</td>\n",
       "      <td>...</td>\n",
       "      <td>...</td>\n",
       "      <td>...</td>\n",
       "      <td>...</td>\n",
       "      <td>...</td>\n",
       "      <td>...</td>\n",
       "      <td>...</td>\n",
       "    </tr>\n",
       "    <tr>\n",
       "      <th>4995</th>\n",
       "      <td>0</td>\n",
       "      <td>0</td>\n",
       "      <td>0</td>\n",
       "      <td>0</td>\n",
       "      <td>0</td>\n",
       "      <td>0</td>\n",
       "      <td>0</td>\n",
       "      <td>0</td>\n",
       "      <td>0</td>\n",
       "      <td>0</td>\n",
       "      <td>...</td>\n",
       "      <td>0</td>\n",
       "      <td>0</td>\n",
       "      <td>0</td>\n",
       "      <td>0</td>\n",
       "      <td>0</td>\n",
       "      <td>0</td>\n",
       "      <td>0</td>\n",
       "      <td>0</td>\n",
       "      <td>0</td>\n",
       "      <td>0</td>\n",
       "    </tr>\n",
       "    <tr>\n",
       "      <th>4996</th>\n",
       "      <td>0</td>\n",
       "      <td>0</td>\n",
       "      <td>0</td>\n",
       "      <td>0</td>\n",
       "      <td>0</td>\n",
       "      <td>0</td>\n",
       "      <td>0</td>\n",
       "      <td>0</td>\n",
       "      <td>0</td>\n",
       "      <td>0</td>\n",
       "      <td>...</td>\n",
       "      <td>0</td>\n",
       "      <td>0</td>\n",
       "      <td>0</td>\n",
       "      <td>0</td>\n",
       "      <td>0</td>\n",
       "      <td>0</td>\n",
       "      <td>0</td>\n",
       "      <td>0</td>\n",
       "      <td>0</td>\n",
       "      <td>0</td>\n",
       "    </tr>\n",
       "    <tr>\n",
       "      <th>4997</th>\n",
       "      <td>0</td>\n",
       "      <td>0</td>\n",
       "      <td>0</td>\n",
       "      <td>0</td>\n",
       "      <td>0</td>\n",
       "      <td>0</td>\n",
       "      <td>0</td>\n",
       "      <td>0</td>\n",
       "      <td>0</td>\n",
       "      <td>0</td>\n",
       "      <td>...</td>\n",
       "      <td>0</td>\n",
       "      <td>0</td>\n",
       "      <td>0</td>\n",
       "      <td>0</td>\n",
       "      <td>0</td>\n",
       "      <td>0</td>\n",
       "      <td>0</td>\n",
       "      <td>0</td>\n",
       "      <td>0</td>\n",
       "      <td>0</td>\n",
       "    </tr>\n",
       "    <tr>\n",
       "      <th>4998</th>\n",
       "      <td>0</td>\n",
       "      <td>0</td>\n",
       "      <td>0</td>\n",
       "      <td>0</td>\n",
       "      <td>0</td>\n",
       "      <td>0</td>\n",
       "      <td>0</td>\n",
       "      <td>0</td>\n",
       "      <td>0</td>\n",
       "      <td>0</td>\n",
       "      <td>...</td>\n",
       "      <td>0</td>\n",
       "      <td>0</td>\n",
       "      <td>0</td>\n",
       "      <td>0</td>\n",
       "      <td>0</td>\n",
       "      <td>0</td>\n",
       "      <td>0</td>\n",
       "      <td>0</td>\n",
       "      <td>0</td>\n",
       "      <td>0</td>\n",
       "    </tr>\n",
       "    <tr>\n",
       "      <th>4999</th>\n",
       "      <td>0</td>\n",
       "      <td>0</td>\n",
       "      <td>0</td>\n",
       "      <td>0</td>\n",
       "      <td>0</td>\n",
       "      <td>0</td>\n",
       "      <td>0</td>\n",
       "      <td>0</td>\n",
       "      <td>0</td>\n",
       "      <td>0</td>\n",
       "      <td>...</td>\n",
       "      <td>0</td>\n",
       "      <td>0</td>\n",
       "      <td>0</td>\n",
       "      <td>0</td>\n",
       "      <td>0</td>\n",
       "      <td>0</td>\n",
       "      <td>0</td>\n",
       "      <td>0</td>\n",
       "      <td>0</td>\n",
       "      <td>0</td>\n",
       "    </tr>\n",
       "  </tbody>\n",
       "</table>\n",
       "<p>5000 rows × 784 columns</p>\n",
       "</div>"
      ],
      "text/plain": [
       "      pixel0  pixel1  pixel2  pixel3  pixel4  pixel5  pixel6  pixel7  pixel8  \\\n",
       "0          0       0       0       0       0       0       0       0       0   \n",
       "1          0       0       0       0       0       0       0       0       0   \n",
       "2          0       0       0       0       0       0       0       0       0   \n",
       "3          0       0       0       0       0       0       0       0       0   \n",
       "4          0       0       0       0       0       0       0       0       0   \n",
       "...      ...     ...     ...     ...     ...     ...     ...     ...     ...   \n",
       "4995       0       0       0       0       0       0       0       0       0   \n",
       "4996       0       0       0       0       0       0       0       0       0   \n",
       "4997       0       0       0       0       0       0       0       0       0   \n",
       "4998       0       0       0       0       0       0       0       0       0   \n",
       "4999       0       0       0       0       0       0       0       0       0   \n",
       "\n",
       "      pixel9  ...  pixel774  pixel775  pixel776  pixel777  pixel778  pixel779  \\\n",
       "0          0  ...         0         0         0         0         0         0   \n",
       "1          0  ...         0         0         0         0         0         0   \n",
       "2          0  ...         0         0         0         0         0         0   \n",
       "3          0  ...         0         0         0         0         0         0   \n",
       "4          0  ...         0         0         0         0         0         0   \n",
       "...      ...  ...       ...       ...       ...       ...       ...       ...   \n",
       "4995       0  ...         0         0         0         0         0         0   \n",
       "4996       0  ...         0         0         0         0         0         0   \n",
       "4997       0  ...         0         0         0         0         0         0   \n",
       "4998       0  ...         0         0         0         0         0         0   \n",
       "4999       0  ...         0         0         0         0         0         0   \n",
       "\n",
       "      pixel780  pixel781  pixel782  pixel783  \n",
       "0            0         0         0         0  \n",
       "1            0         0         0         0  \n",
       "2            0         0         0         0  \n",
       "3            0         0         0         0  \n",
       "4            0         0         0         0  \n",
       "...        ...       ...       ...       ...  \n",
       "4995         0         0         0         0  \n",
       "4996         0         0         0         0  \n",
       "4997         0         0         0         0  \n",
       "4998         0         0         0         0  \n",
       "4999         0         0         0         0  \n",
       "\n",
       "[5000 rows x 784 columns]"
      ]
     },
     "execution_count": 11,
     "metadata": {},
     "output_type": "execute_result"
    }
   ],
   "source": [
    "test_df = df.iloc[:,1:]\n",
    "test_df"
   ]
  },
  {
   "cell_type": "code",
   "execution_count": 12,
   "id": "66c8e448",
   "metadata": {
    "execution": {
     "iopub.execute_input": "2021-09-03T21:10:31.914488Z",
     "iopub.status.busy": "2021-09-03T21:10:31.913878Z",
     "iopub.status.idle": "2021-09-03T21:10:32.126057Z",
     "shell.execute_reply": "2021-09-03T21:10:32.125474Z",
     "shell.execute_reply.started": "2021-09-03T20:44:34.320664Z"
    },
    "papermill": {
     "duration": 0.244779,
     "end_time": "2021-09-03T21:10:32.126208",
     "exception": false,
     "start_time": "2021-09-03T21:10:31.881429",
     "status": "completed"
    },
    "tags": []
   },
   "outputs": [
    {
     "data": {
      "text/plain": [
       "(5000,)"
      ]
     },
     "execution_count": 12,
     "metadata": {},
     "output_type": "execute_result"
    }
   ],
   "source": [
    "pred=rf.predict(test_df)\n",
    "pred.shape"
   ]
  },
  {
   "cell_type": "markdown",
   "id": "1918027e",
   "metadata": {
    "papermill": {
     "duration": 0.023444,
     "end_time": "2021-09-03T21:10:32.173861",
     "exception": false,
     "start_time": "2021-09-03T21:10:32.150417",
     "status": "completed"
    },
    "tags": []
   },
   "source": [
    "# Prepare Submission File"
   ]
  },
  {
   "cell_type": "code",
   "execution_count": 13,
   "id": "51ea3ccf",
   "metadata": {
    "execution": {
     "iopub.execute_input": "2021-09-03T21:10:32.226475Z",
     "iopub.status.busy": "2021-09-03T21:10:32.225853Z",
     "iopub.status.idle": "2021-09-03T21:10:32.254516Z",
     "shell.execute_reply": "2021-09-03T21:10:32.253902Z",
     "shell.execute_reply.started": "2021-09-03T20:44:37.887389Z"
    },
    "papermill": {
     "duration": 0.056901,
     "end_time": "2021-09-03T21:10:32.254656",
     "exception": false,
     "start_time": "2021-09-03T21:10:32.197755",
     "status": "completed"
    },
    "tags": []
   },
   "outputs": [],
   "source": [
    "sample = pd.read_csv('../input/Kannada-MNIST/sample_submission.csv')\n",
    "my_submission = pd.DataFrame()\n",
    "my_submission['id'] = sample['id']\n",
    "my_submission['label'] = pred\n",
    "\n",
    "my_submission.to_csv('submission.csv', index=False)"
   ]
  },
  {
   "cell_type": "markdown",
   "id": "c2898ca7",
   "metadata": {
    "papermill": {
     "duration": 0.022734,
     "end_time": "2021-09-03T21:10:32.300765",
     "exception": false,
     "start_time": "2021-09-03T21:10:32.278031",
     "status": "completed"
    },
    "tags": []
   },
   "source": [
    "# Visualization"
   ]
  },
  {
   "cell_type": "code",
   "execution_count": 14,
   "id": "db80c04b",
   "metadata": {
    "execution": {
     "iopub.execute_input": "2021-09-03T21:10:32.350467Z",
     "iopub.status.busy": "2021-09-03T21:10:32.349574Z",
     "iopub.status.idle": "2021-09-03T21:10:32.687115Z",
     "shell.execute_reply": "2021-09-03T21:10:32.687533Z",
     "shell.execute_reply.started": "2021-09-03T20:44:49.111939Z"
    },
    "papermill": {
     "duration": 0.363755,
     "end_time": "2021-09-03T21:10:32.687700",
     "exception": false,
     "start_time": "2021-09-03T21:10:32.323945",
     "status": "completed"
    },
    "tags": []
   },
   "outputs": [
    {
     "data": {
      "image/png": "[encoded data removed]",
      "text/plain": [
       "<Figure size 1512x720 with 1 Axes>"
      ]
     },
     "metadata": {},
     "output_type": "display_data"
    }
   ],
   "source": [
    "plt.figure(figsize=(21,10)) \n",
    "my_submission[\"label\"].value_counts().plot(kind=\"pie\",autopct=\"%1.1f%%\")\n",
    "plt.axis(\"equal\")\n",
    "plt.show()"
   ]
  },
  {
   "cell_type": "markdown",
   "id": "c2f9af7e",
   "metadata": {
    "papermill": {
     "duration": 0.024596,
     "end_time": "2021-09-03T21:10:32.736829",
     "exception": false,
     "start_time": "2021-09-03T21:10:32.712233",
     "status": "completed"
    },
    "tags": []
   },
   "source": [
    "# By using ANN  "
   ]
  },
  {
   "cell_type": "code",
   "execution_count": 15,
   "id": "275e25a4",
   "metadata": {
    "execution": {
     "iopub.execute_input": "2021-09-03T21:10:32.790267Z",
     "iopub.status.busy": "2021-09-03T21:10:32.789355Z",
     "iopub.status.idle": "2021-09-03T21:10:37.856467Z",
     "shell.execute_reply": "2021-09-03T21:10:37.856914Z",
     "shell.execute_reply.started": "2021-09-03T20:44:56.24854Z"
    },
    "papermill": {
     "duration": 5.095255,
     "end_time": "2021-09-03T21:10:37.857128",
     "exception": false,
     "start_time": "2021-09-03T21:10:32.761873",
     "status": "completed"
    },
    "tags": []
   },
   "outputs": [],
   "source": [
    "from tensorflow.keras.models import Sequential\n",
    "from tensorflow.keras.layers import Dense\n",
    "import tensorflow"
   ]
  },
  {
   "cell_type": "code",
   "execution_count": 16,
   "id": "6dbf6a0a",
   "metadata": {
    "execution": {
     "iopub.execute_input": "2021-09-03T21:10:37.909806Z",
     "iopub.status.busy": "2021-09-03T21:10:37.908911Z",
     "iopub.status.idle": "2021-09-03T21:10:37.927139Z",
     "shell.execute_reply": "2021-09-03T21:10:37.927555Z",
     "shell.execute_reply.started": "2021-09-03T20:45:02.013824Z"
    },
    "papermill": {
     "duration": 0.045956,
     "end_time": "2021-09-03T21:10:37.927721",
     "exception": false,
     "start_time": "2021-09-03T21:10:37.881765",
     "status": "completed"
    },
    "tags": []
   },
   "outputs": [
    {
     "data": {
      "text/html": [
       "<div>\n",
       "<style scoped>\n",
       "    .dataframe tbody tr th:only-of-type {\n",
       "        vertical-align: middle;\n",
       "    }\n",
       "\n",
       "    .dataframe tbody tr th {\n",
       "        vertical-align: top;\n",
       "    }\n",
       "\n",
       "    .dataframe thead th {\n",
       "        text-align: right;\n",
       "    }\n",
       "</style>\n",
       "<table border=\"1\" class=\"dataframe\">\n",
       "  <thead>\n",
       "    <tr style=\"text-align: right;\">\n",
       "      <th></th>\n",
       "      <th>label</th>\n",
       "      <th>pixel0</th>\n",
       "      <th>pixel1</th>\n",
       "      <th>pixel2</th>\n",
       "      <th>pixel3</th>\n",
       "      <th>pixel4</th>\n",
       "      <th>pixel5</th>\n",
       "      <th>pixel6</th>\n",
       "      <th>pixel7</th>\n",
       "      <th>pixel8</th>\n",
       "      <th>...</th>\n",
       "      <th>pixel774</th>\n",
       "      <th>pixel775</th>\n",
       "      <th>pixel776</th>\n",
       "      <th>pixel777</th>\n",
       "      <th>pixel778</th>\n",
       "      <th>pixel779</th>\n",
       "      <th>pixel780</th>\n",
       "      <th>pixel781</th>\n",
       "      <th>pixel782</th>\n",
       "      <th>pixel783</th>\n",
       "    </tr>\n",
       "  </thead>\n",
       "  <tbody>\n",
       "    <tr>\n",
       "      <th>0</th>\n",
       "      <td>0</td>\n",
       "      <td>0</td>\n",
       "      <td>0</td>\n",
       "      <td>0</td>\n",
       "      <td>0</td>\n",
       "      <td>0</td>\n",
       "      <td>0</td>\n",
       "      <td>0</td>\n",
       "      <td>0</td>\n",
       "      <td>0</td>\n",
       "      <td>...</td>\n",
       "      <td>0</td>\n",
       "      <td>0</td>\n",
       "      <td>0</td>\n",
       "      <td>0</td>\n",
       "      <td>0</td>\n",
       "      <td>0</td>\n",
       "      <td>0</td>\n",
       "      <td>0</td>\n",
       "      <td>0</td>\n",
       "      <td>0</td>\n",
       "    </tr>\n",
       "    <tr>\n",
       "      <th>1</th>\n",
       "      <td>1</td>\n",
       "      <td>0</td>\n",
       "      <td>0</td>\n",
       "      <td>0</td>\n",
       "      <td>0</td>\n",
       "      <td>0</td>\n",
       "      <td>0</td>\n",
       "      <td>0</td>\n",
       "      <td>0</td>\n",
       "      <td>0</td>\n",
       "      <td>...</td>\n",
       "      <td>0</td>\n",
       "      <td>0</td>\n",
       "      <td>0</td>\n",
       "      <td>0</td>\n",
       "      <td>0</td>\n",
       "      <td>0</td>\n",
       "      <td>0</td>\n",
       "      <td>0</td>\n",
       "      <td>0</td>\n",
       "      <td>0</td>\n",
       "    </tr>\n",
       "    <tr>\n",
       "      <th>2</th>\n",
       "      <td>2</td>\n",
       "      <td>0</td>\n",
       "      <td>0</td>\n",
       "      <td>0</td>\n",
       "      <td>0</td>\n",
       "      <td>0</td>\n",
       "      <td>0</td>\n",
       "      <td>0</td>\n",
       "      <td>0</td>\n",
       "      <td>0</td>\n",
       "      <td>...</td>\n",
       "      <td>0</td>\n",
       "      <td>0</td>\n",
       "      <td>0</td>\n",
       "      <td>0</td>\n",
       "      <td>0</td>\n",
       "      <td>0</td>\n",
       "      <td>0</td>\n",
       "      <td>0</td>\n",
       "      <td>0</td>\n",
       "      <td>0</td>\n",
       "    </tr>\n",
       "    <tr>\n",
       "      <th>3</th>\n",
       "      <td>3</td>\n",
       "      <td>0</td>\n",
       "      <td>0</td>\n",
       "      <td>0</td>\n",
       "      <td>0</td>\n",
       "      <td>0</td>\n",
       "      <td>0</td>\n",
       "      <td>0</td>\n",
       "      <td>0</td>\n",
       "      <td>0</td>\n",
       "      <td>...</td>\n",
       "      <td>0</td>\n",
       "      <td>0</td>\n",
       "      <td>0</td>\n",
       "      <td>0</td>\n",
       "      <td>0</td>\n",
       "      <td>0</td>\n",
       "      <td>0</td>\n",
       "      <td>0</td>\n",
       "      <td>0</td>\n",
       "      <td>0</td>\n",
       "    </tr>\n",
       "    <tr>\n",
       "      <th>4</th>\n",
       "      <td>4</td>\n",
       "      <td>0</td>\n",
       "      <td>0</td>\n",
       "      <td>0</td>\n",
       "      <td>0</td>\n",
       "      <td>0</td>\n",
       "      <td>0</td>\n",
       "      <td>0</td>\n",
       "      <td>0</td>\n",
       "      <td>0</td>\n",
       "      <td>...</td>\n",
       "      <td>0</td>\n",
       "      <td>0</td>\n",
       "      <td>0</td>\n",
       "      <td>0</td>\n",
       "      <td>0</td>\n",
       "      <td>0</td>\n",
       "      <td>0</td>\n",
       "      <td>0</td>\n",
       "      <td>0</td>\n",
       "      <td>0</td>\n",
       "    </tr>\n",
       "  </tbody>\n",
       "</table>\n",
       "<p>5 rows × 785 columns</p>\n",
       "</div>"
      ],
      "text/plain": [
       "   label  pixel0  pixel1  pixel2  pixel3  pixel4  pixel5  pixel6  pixel7  \\\n",
       "0      0       0       0       0       0       0       0       0       0   \n",
       "1      1       0       0       0       0       0       0       0       0   \n",
       "2      2       0       0       0       0       0       0       0       0   \n",
       "3      3       0       0       0       0       0       0       0       0   \n",
       "4      4       0       0       0       0       0       0       0       0   \n",
       "\n",
       "   pixel8  ...  pixel774  pixel775  pixel776  pixel777  pixel778  pixel779  \\\n",
       "0       0  ...         0         0         0         0         0         0   \n",
       "1       0  ...         0         0         0         0         0         0   \n",
       "2       0  ...         0         0         0         0         0         0   \n",
       "3       0  ...         0         0         0         0         0         0   \n",
       "4       0  ...         0         0         0         0         0         0   \n",
       "\n",
       "   pixel780  pixel781  pixel782  pixel783  \n",
       "0         0         0         0         0  \n",
       "1         0         0         0         0  \n",
       "2         0         0         0         0  \n",
       "3         0         0         0         0  \n",
       "4         0         0         0         0  \n",
       "\n",
       "[5 rows x 785 columns]"
      ]
     },
     "execution_count": 16,
     "metadata": {},
     "output_type": "execute_result"
    }
   ],
   "source": [
    "data.head()"
   ]
  },
  {
   "cell_type": "code",
   "execution_count": 17,
   "id": "6ccc19f4",
   "metadata": {
    "execution": {
     "iopub.execute_input": "2021-09-03T21:10:37.980858Z",
     "iopub.status.busy": "2021-09-03T21:10:37.979961Z",
     "iopub.status.idle": "2021-09-03T21:10:37.997176Z",
     "shell.execute_reply": "2021-09-03T21:10:37.996577Z",
     "shell.execute_reply.started": "2021-09-03T20:45:04.884707Z"
    },
    "papermill": {
     "duration": 0.04463,
     "end_time": "2021-09-03T21:10:37.997320",
     "exception": false,
     "start_time": "2021-09-03T21:10:37.952690",
     "status": "completed"
    },
    "tags": []
   },
   "outputs": [
    {
     "data": {
      "text/html": [
       "<div>\n",
       "<style scoped>\n",
       "    .dataframe tbody tr th:only-of-type {\n",
       "        vertical-align: middle;\n",
       "    }\n",
       "\n",
       "    .dataframe tbody tr th {\n",
       "        vertical-align: top;\n",
       "    }\n",
       "\n",
       "    .dataframe thead th {\n",
       "        text-align: right;\n",
       "    }\n",
       "</style>\n",
       "<table border=\"1\" class=\"dataframe\">\n",
       "  <thead>\n",
       "    <tr style=\"text-align: right;\">\n",
       "      <th></th>\n",
       "      <th>pixel0</th>\n",
       "      <th>pixel1</th>\n",
       "      <th>pixel2</th>\n",
       "      <th>pixel3</th>\n",
       "      <th>pixel4</th>\n",
       "      <th>pixel5</th>\n",
       "      <th>pixel6</th>\n",
       "      <th>pixel7</th>\n",
       "      <th>pixel8</th>\n",
       "      <th>pixel9</th>\n",
       "      <th>...</th>\n",
       "      <th>pixel774</th>\n",
       "      <th>pixel775</th>\n",
       "      <th>pixel776</th>\n",
       "      <th>pixel777</th>\n",
       "      <th>pixel778</th>\n",
       "      <th>pixel779</th>\n",
       "      <th>pixel780</th>\n",
       "      <th>pixel781</th>\n",
       "      <th>pixel782</th>\n",
       "      <th>pixel783</th>\n",
       "    </tr>\n",
       "  </thead>\n",
       "  <tbody>\n",
       "    <tr>\n",
       "      <th>0</th>\n",
       "      <td>0</td>\n",
       "      <td>0</td>\n",
       "      <td>0</td>\n",
       "      <td>0</td>\n",
       "      <td>0</td>\n",
       "      <td>0</td>\n",
       "      <td>0</td>\n",
       "      <td>0</td>\n",
       "      <td>0</td>\n",
       "      <td>0</td>\n",
       "      <td>...</td>\n",
       "      <td>0</td>\n",
       "      <td>0</td>\n",
       "      <td>0</td>\n",
       "      <td>0</td>\n",
       "      <td>0</td>\n",
       "      <td>0</td>\n",
       "      <td>0</td>\n",
       "      <td>0</td>\n",
       "      <td>0</td>\n",
       "      <td>0</td>\n",
       "    </tr>\n",
       "    <tr>\n",
       "      <th>1</th>\n",
       "      <td>0</td>\n",
       "      <td>0</td>\n",
       "      <td>0</td>\n",
       "      <td>0</td>\n",
       "      <td>0</td>\n",
       "      <td>0</td>\n",
       "      <td>0</td>\n",
       "      <td>0</td>\n",
       "      <td>0</td>\n",
       "      <td>0</td>\n",
       "      <td>...</td>\n",
       "      <td>0</td>\n",
       "      <td>0</td>\n",
       "      <td>0</td>\n",
       "      <td>0</td>\n",
       "      <td>0</td>\n",
       "      <td>0</td>\n",
       "      <td>0</td>\n",
       "      <td>0</td>\n",
       "      <td>0</td>\n",
       "      <td>0</td>\n",
       "    </tr>\n",
       "    <tr>\n",
       "      <th>2</th>\n",
       "      <td>0</td>\n",
       "      <td>0</td>\n",
       "      <td>0</td>\n",
       "      <td>0</td>\n",
       "      <td>0</td>\n",
       "      <td>0</td>\n",
       "      <td>0</td>\n",
       "      <td>0</td>\n",
       "      <td>0</td>\n",
       "      <td>0</td>\n",
       "      <td>...</td>\n",
       "      <td>0</td>\n",
       "      <td>0</td>\n",
       "      <td>0</td>\n",
       "      <td>0</td>\n",
       "      <td>0</td>\n",
       "      <td>0</td>\n",
       "      <td>0</td>\n",
       "      <td>0</td>\n",
       "      <td>0</td>\n",
       "      <td>0</td>\n",
       "    </tr>\n",
       "    <tr>\n",
       "      <th>3</th>\n",
       "      <td>0</td>\n",
       "      <td>0</td>\n",
       "      <td>0</td>\n",
       "      <td>0</td>\n",
       "      <td>0</td>\n",
       "      <td>0</td>\n",
       "      <td>0</td>\n",
       "      <td>0</td>\n",
       "      <td>0</td>\n",
       "      <td>0</td>\n",
       "      <td>...</td>\n",
       "      <td>0</td>\n",
       "      <td>0</td>\n",
       "      <td>0</td>\n",
       "      <td>0</td>\n",
       "      <td>0</td>\n",
       "      <td>0</td>\n",
       "      <td>0</td>\n",
       "      <td>0</td>\n",
       "      <td>0</td>\n",
       "      <td>0</td>\n",
       "    </tr>\n",
       "    <tr>\n",
       "      <th>4</th>\n",
       "      <td>0</td>\n",
       "      <td>0</td>\n",
       "      <td>0</td>\n",
       "      <td>0</td>\n",
       "      <td>0</td>\n",
       "      <td>0</td>\n",
       "      <td>0</td>\n",
       "      <td>0</td>\n",
       "      <td>0</td>\n",
       "      <td>0</td>\n",
       "      <td>...</td>\n",
       "      <td>0</td>\n",
       "      <td>0</td>\n",
       "      <td>0</td>\n",
       "      <td>0</td>\n",
       "      <td>0</td>\n",
       "      <td>0</td>\n",
       "      <td>0</td>\n",
       "      <td>0</td>\n",
       "      <td>0</td>\n",
       "      <td>0</td>\n",
       "    </tr>\n",
       "  </tbody>\n",
       "</table>\n",
       "<p>5 rows × 784 columns</p>\n",
       "</div>"
      ],
      "text/plain": [
       "   pixel0  pixel1  pixel2  pixel3  pixel4  pixel5  pixel6  pixel7  pixel8  \\\n",
       "0       0       0       0       0       0       0       0       0       0   \n",
       "1       0       0       0       0       0       0       0       0       0   \n",
       "2       0       0       0       0       0       0       0       0       0   \n",
       "3       0       0       0       0       0       0       0       0       0   \n",
       "4       0       0       0       0       0       0       0       0       0   \n",
       "\n",
       "   pixel9  ...  pixel774  pixel775  pixel776  pixel777  pixel778  pixel779  \\\n",
       "0       0  ...         0         0         0         0         0         0   \n",
       "1       0  ...         0         0         0         0         0         0   \n",
       "2       0  ...         0         0         0         0         0         0   \n",
       "3       0  ...         0         0         0         0         0         0   \n",
       "4       0  ...         0         0         0         0         0         0   \n",
       "\n",
       "   pixel780  pixel781  pixel782  pixel783  \n",
       "0         0         0         0         0  \n",
       "1         0         0         0         0  \n",
       "2         0         0         0         0  \n",
       "3         0         0         0         0  \n",
       "4         0         0         0         0  \n",
       "\n",
       "[5 rows x 784 columns]"
      ]
     },
     "execution_count": 17,
     "metadata": {},
     "output_type": "execute_result"
    }
   ],
   "source": [
    "X = data.iloc[:,1:]\n",
    "X.head()"
   ]
  },
  {
   "cell_type": "code",
   "execution_count": 18,
   "id": "ab7c284b",
   "metadata": {
    "execution": {
     "iopub.execute_input": "2021-09-03T21:10:38.053896Z",
     "iopub.status.busy": "2021-09-03T21:10:38.053311Z",
     "iopub.status.idle": "2021-09-03T21:10:38.055742Z",
     "shell.execute_reply": "2021-09-03T21:10:38.056181Z",
     "shell.execute_reply.started": "2021-09-03T20:45:07.388792Z"
    },
    "papermill": {
     "duration": 0.033773,
     "end_time": "2021-09-03T21:10:38.056347",
     "exception": false,
     "start_time": "2021-09-03T21:10:38.022574",
     "status": "completed"
    },
    "tags": []
   },
   "outputs": [
    {
     "data": {
      "text/plain": [
       "0    0\n",
       "1    1\n",
       "2    2\n",
       "3    3\n",
       "4    4\n",
       "Name: label, dtype: int64"
      ]
     },
     "execution_count": 18,
     "metadata": {},
     "output_type": "execute_result"
    }
   ],
   "source": [
    "y = data.iloc[:,0]\n",
    "y.head()"
   ]
  },
  {
   "cell_type": "markdown",
   "id": "b0964788",
   "metadata": {
    "papermill": {
     "duration": 0.025434,
     "end_time": "2021-09-03T21:10:38.107421",
     "exception": false,
     "start_time": "2021-09-03T21:10:38.081987",
     "status": "completed"
    },
    "tags": []
   },
   "source": [
    "# Building Model & Compiling Model"
   ]
  },
  {
   "cell_type": "code",
   "execution_count": 19,
   "id": "078ded61",
   "metadata": {
    "execution": {
     "iopub.execute_input": "2021-09-03T21:10:38.162280Z",
     "iopub.status.busy": "2021-09-03T21:10:38.161641Z",
     "iopub.status.idle": "2021-09-03T21:10:38.273875Z",
     "shell.execute_reply": "2021-09-03T21:10:38.274317Z",
     "shell.execute_reply.started": "2021-09-03T20:45:31.924173Z"
    },
    "papermill": {
     "duration": 0.141586,
     "end_time": "2021-09-03T21:10:38.274493",
     "exception": false,
     "start_time": "2021-09-03T21:10:38.132907",
     "status": "completed"
    },
    "tags": []
   },
   "outputs": [],
   "source": [
    "model = Sequential()\n",
    "model.add(Dense(256,input_dim=784,activation='sigmoid'))\n",
    "model.add(Dense(132,activation='relu'))\n",
    "model.add(Dense(64,activation='tanh'))\n",
    "\n",
    "model.add(Dense(10,activation='softmax'))\n",
    "model.compile(loss='categorical_crossentropy',optimizer='adam',metrics=['accuracy'])"
   ]
  },
  {
   "cell_type": "code",
   "execution_count": 20,
   "id": "8f6b7350",
   "metadata": {
    "execution": {
     "iopub.execute_input": "2021-09-03T21:10:38.330375Z",
     "iopub.status.busy": "2021-09-03T21:10:38.329684Z",
     "iopub.status.idle": "2021-09-03T21:10:38.385053Z",
     "shell.execute_reply": "2021-09-03T21:10:38.385502Z",
     "shell.execute_reply.started": "2021-09-03T20:45:35.216741Z"
    },
    "papermill": {
     "duration": 0.085665,
     "end_time": "2021-09-03T21:10:38.385689",
     "exception": false,
     "start_time": "2021-09-03T21:10:38.300024",
     "status": "completed"
    },
    "tags": []
   },
   "outputs": [],
   "source": [
    "from keras.utils import to_categorical\n",
    "\n"
   ]
  },
  {
   "cell_type": "code",
   "execution_count": 21,
   "id": "109ed2f2",
   "metadata": {
    "execution": {
     "iopub.execute_input": "2021-09-03T21:10:38.440257Z",
     "iopub.status.busy": "2021-09-03T21:10:38.439698Z",
     "iopub.status.idle": "2021-09-03T21:10:38.446446Z",
     "shell.execute_reply": "2021-09-03T21:10:38.446899Z",
     "shell.execute_reply.started": "2021-09-03T20:45:38.926552Z"
    },
    "papermill": {
     "duration": 0.035496,
     "end_time": "2021-09-03T21:10:38.447058",
     "exception": false,
     "start_time": "2021-09-03T21:10:38.411562",
     "status": "completed"
    },
    "tags": []
   },
   "outputs": [
    {
     "data": {
      "text/plain": [
       "array([[1., 0., 0., ..., 0., 0., 0.],\n",
       "       [0., 1., 0., ..., 0., 0., 0.],\n",
       "       [0., 0., 1., ..., 0., 0., 0.],\n",
       "       ...,\n",
       "       [0., 0., 0., ..., 1., 0., 0.],\n",
       "       [0., 0., 0., ..., 0., 1., 0.],\n",
       "       [0., 0., 0., ..., 0., 0., 1.]], dtype=float32)"
      ]
     },
     "execution_count": 21,
     "metadata": {},
     "output_type": "execute_result"
    }
   ],
   "source": [
    "y = to_categorical(y)\n",
    "y"
   ]
  },
  {
   "cell_type": "markdown",
   "id": "c18cb3f6",
   "metadata": {
    "papermill": {
     "duration": 0.025762,
     "end_time": "2021-09-03T21:10:38.498707",
     "exception": false,
     "start_time": "2021-09-03T21:10:38.472945",
     "status": "completed"
    },
    "tags": []
   },
   "source": [
    "# Model Training"
   ]
  },
  {
   "cell_type": "code",
   "execution_count": 22,
   "id": "255fd51d",
   "metadata": {
    "execution": {
     "iopub.execute_input": "2021-09-03T21:10:38.553936Z",
     "iopub.status.busy": "2021-09-03T21:10:38.553375Z",
     "iopub.status.idle": "2021-09-03T21:12:18.149803Z",
     "shell.execute_reply": "2021-09-03T21:12:18.149321Z",
     "shell.execute_reply.started": "2021-09-03T20:45:43.928561Z"
    },
    "papermill": {
     "duration": 99.625029,
     "end_time": "2021-09-03T21:12:18.149948",
     "exception": false,
     "start_time": "2021-09-03T21:10:38.524919",
     "status": "completed"
    },
    "tags": []
   },
   "outputs": [
    {
     "name": "stdout",
     "output_type": "stream",
     "text": [
      "Epoch 1/30\n",
      "1500/1500 - 4s - loss: 0.2424 - accuracy: 0.9270 - val_loss: 0.0983 - val_accuracy: 0.9670\n",
      "Epoch 2/30\n",
      "1500/1500 - 3s - loss: 0.1449 - accuracy: 0.9549 - val_loss: 0.1027 - val_accuracy: 0.9680\n",
      "Epoch 3/30\n",
      "1500/1500 - 3s - loss: 0.1253 - accuracy: 0.9605 - val_loss: 0.0794 - val_accuracy: 0.9721\n",
      "Epoch 4/30\n",
      "1500/1500 - 3s - loss: 0.1137 - accuracy: 0.9646 - val_loss: 0.0778 - val_accuracy: 0.9738\n",
      "Epoch 5/30\n",
      "1500/1500 - 3s - loss: 0.1066 - accuracy: 0.9659 - val_loss: 0.0632 - val_accuracy: 0.9793\n",
      "Epoch 6/30\n",
      "1500/1500 - 3s - loss: 0.0950 - accuracy: 0.9698 - val_loss: 0.0641 - val_accuracy: 0.9808\n",
      "Epoch 7/30\n",
      "1500/1500 - 3s - loss: 0.0894 - accuracy: 0.9716 - val_loss: 0.0683 - val_accuracy: 0.9785\n",
      "Epoch 8/30\n",
      "1500/1500 - 3s - loss: 0.0845 - accuracy: 0.9725 - val_loss: 0.0599 - val_accuracy: 0.9816\n",
      "Epoch 9/30\n",
      "1500/1500 - 3s - loss: 0.0787 - accuracy: 0.9745 - val_loss: 0.0790 - val_accuracy: 0.9758\n",
      "Epoch 10/30\n",
      "1500/1500 - 3s - loss: 0.0808 - accuracy: 0.9739 - val_loss: 0.0568 - val_accuracy: 0.9820\n",
      "Epoch 11/30\n",
      "1500/1500 - 3s - loss: 0.0752 - accuracy: 0.9758 - val_loss: 0.0751 - val_accuracy: 0.9763\n",
      "Epoch 12/30\n",
      "1500/1500 - 3s - loss: 0.0717 - accuracy: 0.9770 - val_loss: 0.0859 - val_accuracy: 0.9719\n",
      "Epoch 13/30\n",
      "1500/1500 - 3s - loss: 0.0683 - accuracy: 0.9779 - val_loss: 0.0742 - val_accuracy: 0.9772\n",
      "Epoch 14/30\n",
      "1500/1500 - 3s - loss: 0.0653 - accuracy: 0.9799 - val_loss: 0.0761 - val_accuracy: 0.9759\n",
      "Epoch 15/30\n",
      "1500/1500 - 3s - loss: 0.0638 - accuracy: 0.9801 - val_loss: 0.0647 - val_accuracy: 0.9804\n",
      "Epoch 16/30\n",
      "1500/1500 - 3s - loss: 0.0614 - accuracy: 0.9807 - val_loss: 0.0600 - val_accuracy: 0.9819\n",
      "Epoch 17/30\n",
      "1500/1500 - 3s - loss: 0.0588 - accuracy: 0.9813 - val_loss: 0.0546 - val_accuracy: 0.9814\n",
      "Epoch 18/30\n",
      "1500/1500 - 3s - loss: 0.0551 - accuracy: 0.9827 - val_loss: 0.0647 - val_accuracy: 0.9793\n",
      "Epoch 19/30\n",
      "1500/1500 - 3s - loss: 0.0552 - accuracy: 0.9827 - val_loss: 0.0635 - val_accuracy: 0.9803\n",
      "Epoch 20/30\n",
      "1500/1500 - 3s - loss: 0.0527 - accuracy: 0.9832 - val_loss: 0.0720 - val_accuracy: 0.9777\n",
      "Epoch 21/30\n",
      "1500/1500 - 3s - loss: 0.0510 - accuracy: 0.9838 - val_loss: 0.0617 - val_accuracy: 0.9811\n",
      "Epoch 22/30\n",
      "1500/1500 - 3s - loss: 0.0541 - accuracy: 0.9826 - val_loss: 0.0665 - val_accuracy: 0.9802\n",
      "Epoch 23/30\n",
      "1500/1500 - 3s - loss: 0.0506 - accuracy: 0.9835 - val_loss: 0.0686 - val_accuracy: 0.9806\n",
      "Epoch 24/30\n",
      "1500/1500 - 3s - loss: 0.0491 - accuracy: 0.9844 - val_loss: 0.0691 - val_accuracy: 0.9786\n",
      "Epoch 25/30\n",
      "1500/1500 - 3s - loss: 0.0462 - accuracy: 0.9856 - val_loss: 0.0840 - val_accuracy: 0.9741\n",
      "Epoch 26/30\n",
      "1500/1500 - 3s - loss: 0.0475 - accuracy: 0.9851 - val_loss: 0.0895 - val_accuracy: 0.9753\n",
      "Epoch 27/30\n",
      "1500/1500 - 3s - loss: 0.0477 - accuracy: 0.9852 - val_loss: 0.0571 - val_accuracy: 0.9822\n",
      "Epoch 28/30\n",
      "1500/1500 - 3s - loss: 0.0448 - accuracy: 0.9861 - val_loss: 0.0510 - val_accuracy: 0.9833\n",
      "Epoch 29/30\n",
      "1500/1500 - 3s - loss: 0.0438 - accuracy: 0.9860 - val_loss: 0.0598 - val_accuracy: 0.9818\n",
      "Epoch 30/30\n",
      "1500/1500 - 3s - loss: 0.0413 - accuracy: 0.9870 - val_loss: 0.0646 - val_accuracy: 0.9800\n"
     ]
    },
    {
     "data": {
      "text/plain": [
       "<tensorflow.python.keras.callbacks.History at 0x7f5db4315990>"
      ]
     },
     "execution_count": 22,
     "metadata": {},
     "output_type": "execute_result"
    }
   ],
   "source": [
    "history = model.fit(X,y,validation_split=0.2,epochs=30,verbose=2)\n",
    "history"
   ]
  },
  {
   "cell_type": "code",
   "execution_count": 23,
   "id": "7ef2f1c5",
   "metadata": {
    "execution": {
     "iopub.execute_input": "2021-09-03T21:12:18.234797Z",
     "iopub.status.busy": "2021-09-03T21:12:18.234058Z",
     "iopub.status.idle": "2021-09-03T21:12:18.239652Z",
     "shell.execute_reply": "2021-09-03T21:12:18.240064Z",
     "shell.execute_reply.started": "2021-09-03T20:47:55.570519Z"
    },
    "papermill": {
     "duration": 0.050491,
     "end_time": "2021-09-03T21:12:18.240249",
     "exception": false,
     "start_time": "2021-09-03T21:12:18.189758",
     "status": "completed"
    },
    "tags": []
   },
   "outputs": [
    {
     "name": "stdout",
     "output_type": "stream",
     "text": [
      "Model: \"sequential\"\n",
      "_________________________________________________________________\n",
      "Layer (type)                 Output Shape              Param #   \n",
      "=================================================================\n",
      "dense (Dense)                (None, 256)               200960    \n",
      "_________________________________________________________________\n",
      "dense_1 (Dense)              (None, 132)               33924     \n",
      "_________________________________________________________________\n",
      "dense_2 (Dense)              (None, 64)                8512      \n",
      "_________________________________________________________________\n",
      "dense_3 (Dense)              (None, 10)                650       \n",
      "=================================================================\n",
      "Total params: 244,046\n",
      "Trainable params: 244,046\n",
      "Non-trainable params: 0\n",
      "_________________________________________________________________\n"
     ]
    }
   ],
   "source": [
    "model.summary()"
   ]
  },
  {
   "cell_type": "code",
   "execution_count": 24,
   "id": "0f260f30",
   "metadata": {
    "execution": {
     "iopub.execute_input": "2021-09-03T21:12:18.329987Z",
     "iopub.status.busy": "2021-09-03T21:12:18.329416Z",
     "iopub.status.idle": "2021-09-03T21:12:18.340594Z",
     "shell.execute_reply": "2021-09-03T21:12:18.339981Z",
     "shell.execute_reply.started": "2021-09-03T21:00:48.242759Z"
    },
    "papermill": {
     "duration": 0.060788,
     "end_time": "2021-09-03T21:12:18.340736",
     "exception": false,
     "start_time": "2021-09-03T21:12:18.279948",
     "status": "completed"
    },
    "tags": []
   },
   "outputs": [
    {
     "data": {
      "text/html": [
       "<div>\n",
       "<style scoped>\n",
       "    .dataframe tbody tr th:only-of-type {\n",
       "        vertical-align: middle;\n",
       "    }\n",
       "\n",
       "    .dataframe tbody tr th {\n",
       "        vertical-align: top;\n",
       "    }\n",
       "\n",
       "    .dataframe thead th {\n",
       "        text-align: right;\n",
       "    }\n",
       "</style>\n",
       "<table border=\"1\" class=\"dataframe\">\n",
       "  <thead>\n",
       "    <tr style=\"text-align: right;\">\n",
       "      <th></th>\n",
       "      <th>pixel0</th>\n",
       "      <th>pixel1</th>\n",
       "      <th>pixel2</th>\n",
       "      <th>pixel3</th>\n",
       "      <th>pixel4</th>\n",
       "      <th>pixel5</th>\n",
       "      <th>pixel6</th>\n",
       "      <th>pixel7</th>\n",
       "      <th>pixel8</th>\n",
       "      <th>pixel9</th>\n",
       "      <th>...</th>\n",
       "      <th>pixel774</th>\n",
       "      <th>pixel775</th>\n",
       "      <th>pixel776</th>\n",
       "      <th>pixel777</th>\n",
       "      <th>pixel778</th>\n",
       "      <th>pixel779</th>\n",
       "      <th>pixel780</th>\n",
       "      <th>pixel781</th>\n",
       "      <th>pixel782</th>\n",
       "      <th>pixel783</th>\n",
       "    </tr>\n",
       "  </thead>\n",
       "  <tbody>\n",
       "    <tr>\n",
       "      <th>0</th>\n",
       "      <td>0</td>\n",
       "      <td>0</td>\n",
       "      <td>0</td>\n",
       "      <td>0</td>\n",
       "      <td>0</td>\n",
       "      <td>0</td>\n",
       "      <td>0</td>\n",
       "      <td>0</td>\n",
       "      <td>0</td>\n",
       "      <td>0</td>\n",
       "      <td>...</td>\n",
       "      <td>0</td>\n",
       "      <td>0</td>\n",
       "      <td>0</td>\n",
       "      <td>0</td>\n",
       "      <td>0</td>\n",
       "      <td>0</td>\n",
       "      <td>0</td>\n",
       "      <td>0</td>\n",
       "      <td>0</td>\n",
       "      <td>0</td>\n",
       "    </tr>\n",
       "    <tr>\n",
       "      <th>1</th>\n",
       "      <td>0</td>\n",
       "      <td>0</td>\n",
       "      <td>0</td>\n",
       "      <td>0</td>\n",
       "      <td>0</td>\n",
       "      <td>0</td>\n",
       "      <td>0</td>\n",
       "      <td>0</td>\n",
       "      <td>0</td>\n",
       "      <td>0</td>\n",
       "      <td>...</td>\n",
       "      <td>0</td>\n",
       "      <td>0</td>\n",
       "      <td>0</td>\n",
       "      <td>0</td>\n",
       "      <td>0</td>\n",
       "      <td>0</td>\n",
       "      <td>0</td>\n",
       "      <td>0</td>\n",
       "      <td>0</td>\n",
       "      <td>0</td>\n",
       "    </tr>\n",
       "    <tr>\n",
       "      <th>2</th>\n",
       "      <td>0</td>\n",
       "      <td>0</td>\n",
       "      <td>0</td>\n",
       "      <td>0</td>\n",
       "      <td>0</td>\n",
       "      <td>0</td>\n",
       "      <td>0</td>\n",
       "      <td>0</td>\n",
       "      <td>0</td>\n",
       "      <td>0</td>\n",
       "      <td>...</td>\n",
       "      <td>0</td>\n",
       "      <td>0</td>\n",
       "      <td>0</td>\n",
       "      <td>0</td>\n",
       "      <td>0</td>\n",
       "      <td>0</td>\n",
       "      <td>0</td>\n",
       "      <td>0</td>\n",
       "      <td>0</td>\n",
       "      <td>0</td>\n",
       "    </tr>\n",
       "    <tr>\n",
       "      <th>3</th>\n",
       "      <td>0</td>\n",
       "      <td>0</td>\n",
       "      <td>0</td>\n",
       "      <td>0</td>\n",
       "      <td>0</td>\n",
       "      <td>0</td>\n",
       "      <td>0</td>\n",
       "      <td>0</td>\n",
       "      <td>0</td>\n",
       "      <td>0</td>\n",
       "      <td>...</td>\n",
       "      <td>0</td>\n",
       "      <td>0</td>\n",
       "      <td>0</td>\n",
       "      <td>0</td>\n",
       "      <td>0</td>\n",
       "      <td>0</td>\n",
       "      <td>0</td>\n",
       "      <td>0</td>\n",
       "      <td>0</td>\n",
       "      <td>0</td>\n",
       "    </tr>\n",
       "    <tr>\n",
       "      <th>4</th>\n",
       "      <td>0</td>\n",
       "      <td>0</td>\n",
       "      <td>0</td>\n",
       "      <td>0</td>\n",
       "      <td>0</td>\n",
       "      <td>0</td>\n",
       "      <td>0</td>\n",
       "      <td>0</td>\n",
       "      <td>0</td>\n",
       "      <td>0</td>\n",
       "      <td>...</td>\n",
       "      <td>0</td>\n",
       "      <td>0</td>\n",
       "      <td>0</td>\n",
       "      <td>0</td>\n",
       "      <td>0</td>\n",
       "      <td>0</td>\n",
       "      <td>0</td>\n",
       "      <td>0</td>\n",
       "      <td>0</td>\n",
       "      <td>0</td>\n",
       "    </tr>\n",
       "  </tbody>\n",
       "</table>\n",
       "<p>5 rows × 784 columns</p>\n",
       "</div>"
      ],
      "text/plain": [
       "   pixel0  pixel1  pixel2  pixel3  pixel4  pixel5  pixel6  pixel7  pixel8  \\\n",
       "0       0       0       0       0       0       0       0       0       0   \n",
       "1       0       0       0       0       0       0       0       0       0   \n",
       "2       0       0       0       0       0       0       0       0       0   \n",
       "3       0       0       0       0       0       0       0       0       0   \n",
       "4       0       0       0       0       0       0       0       0       0   \n",
       "\n",
       "   pixel9  ...  pixel774  pixel775  pixel776  pixel777  pixel778  pixel779  \\\n",
       "0       0  ...         0         0         0         0         0         0   \n",
       "1       0  ...         0         0         0         0         0         0   \n",
       "2       0  ...         0         0         0         0         0         0   \n",
       "3       0  ...         0         0         0         0         0         0   \n",
       "4       0  ...         0         0         0         0         0         0   \n",
       "\n",
       "   pixel780  pixel781  pixel782  pixel783  \n",
       "0         0         0         0         0  \n",
       "1         0         0         0         0  \n",
       "2         0         0         0         0  \n",
       "3         0         0         0         0  \n",
       "4         0         0         0         0  \n",
       "\n",
       "[5 rows x 784 columns]"
      ]
     },
     "execution_count": 24,
     "metadata": {},
     "output_type": "execute_result"
    }
   ],
   "source": [
    "X = data.iloc[:,1:]\n",
    "X.head()"
   ]
  },
  {
   "cell_type": "code",
   "execution_count": 25,
   "id": "0754aa7f",
   "metadata": {
    "execution": {
     "iopub.execute_input": "2021-09-03T21:12:18.428485Z",
     "iopub.status.busy": "2021-09-03T21:12:18.427703Z",
     "iopub.status.idle": "2021-09-03T21:12:18.431432Z",
     "shell.execute_reply": "2021-09-03T21:12:18.430974Z",
     "shell.execute_reply.started": "2021-09-03T21:00:53.284089Z"
    },
    "papermill": {
     "duration": 0.050128,
     "end_time": "2021-09-03T21:12:18.431571",
     "exception": false,
     "start_time": "2021-09-03T21:12:18.381443",
     "status": "completed"
    },
    "tags": []
   },
   "outputs": [
    {
     "data": {
      "text/plain": [
       "0        0\n",
       "1        1\n",
       "2        2\n",
       "3        3\n",
       "4        4\n",
       "        ..\n",
       "59995    5\n",
       "59996    6\n",
       "59997    7\n",
       "59998    8\n",
       "59999    9\n",
       "Name: label, Length: 60000, dtype: int64"
      ]
     },
     "execution_count": 25,
     "metadata": {},
     "output_type": "execute_result"
    }
   ],
   "source": [
    "y_test = data.iloc[:,0]\n",
    "y_test"
   ]
  },
  {
   "cell_type": "code",
   "execution_count": 26,
   "id": "ecb91dac",
   "metadata": {
    "execution": {
     "iopub.execute_input": "2021-09-03T21:12:18.517415Z",
     "iopub.status.busy": "2021-09-03T21:12:18.516696Z",
     "iopub.status.idle": "2021-09-03T21:12:20.907330Z",
     "shell.execute_reply": "2021-09-03T21:12:20.906706Z",
     "shell.execute_reply.started": "2021-09-03T21:01:01.090758Z"
    },
    "papermill": {
     "duration": 2.434857,
     "end_time": "2021-09-03T21:12:20.907469",
     "exception": false,
     "start_time": "2021-09-03T21:12:18.472612",
     "status": "completed"
    },
    "tags": []
   },
   "outputs": [
    {
     "name": "stderr",
     "output_type": "stream",
     "text": [
      "/opt/conda/lib/python3.7/site-packages/tensorflow/python/keras/engine/sequential.py:450: UserWarning: `model.predict_classes()` is deprecated and will be removed after 2021-01-01. Please use instead:* `np.argmax(model.predict(x), axis=-1)`,   if your model does multi-class classification   (e.g. if it uses a `softmax` last-layer activation).* `(model.predict(x) > 0.5).astype(\"int32\")`,   if your model does binary classification   (e.g. if it uses a `sigmoid` last-layer activation).\n",
      "  warnings.warn('`model.predict_classes()` is deprecated and '\n"
     ]
    },
    {
     "data": {
      "text/plain": [
       "array([0, 1, 2, ..., 7, 8, 9])"
      ]
     },
     "execution_count": 26,
     "metadata": {},
     "output_type": "execute_result"
    }
   ],
   "source": [
    "pred=model.predict_classes(X)\n",
    "pred"
   ]
  },
  {
   "cell_type": "code",
   "execution_count": 27,
   "id": "e30ea0e6",
   "metadata": {
    "execution": {
     "iopub.execute_input": "2021-09-03T21:12:20.995905Z",
     "iopub.status.busy": "2021-09-03T21:12:20.994886Z",
     "iopub.status.idle": "2021-09-03T21:12:21.004044Z",
     "shell.execute_reply": "2021-09-03T21:12:21.003564Z",
     "shell.execute_reply.started": "2021-09-03T21:01:30.822327Z"
    },
    "papermill": {
     "duration": 0.055211,
     "end_time": "2021-09-03T21:12:21.004194",
     "exception": false,
     "start_time": "2021-09-03T21:12:20.948983",
     "status": "completed"
    },
    "tags": []
   },
   "outputs": [
    {
     "name": "stdout",
     "output_type": "stream",
     "text": [
      "Test Data accuracy:  98.59\n"
     ]
    }
   ],
   "source": [
    "from sklearn.metrics import accuracy_score\n",
    "\n",
    "print('Test Data accuracy: ',accuracy_score(y_test, pred)*100)"
   ]
  }
 ],
 "metadata": {
  "kernelspec": {
   "display_name": "Python 3",
   "language": "python",
   "name": "python3"
  },
  "language_info": {
   "codemirror_mode": {
    "name": "ipython",
    "version": 3
   },
   "file_extension": ".py",
   "mimetype": "text/x-python",
   "name": "python",
   "nbconvert_exporter": "python",
   "pygments_lexer": "ipython3",
   "version": "3.7.10"
  },
  "papermill": {
   "default_parameters": {},
   "duration": 155.847827,
   "end_time": "2021-09-03T21:12:22.473757",
   "environment_variables": {},
   "exception": null,
   "input_path": "__notebook__.ipynb",
   "output_path": "__notebook__.ipynb",
   "parameters": {},
   "start_time": "2021-09-03T21:09:46.625930",
   "version": "2.3.3"
  }
 },
 "nbformat": 4,
 "nbformat_minor": 5
}
