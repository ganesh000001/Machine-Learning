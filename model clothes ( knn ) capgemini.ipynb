{
 "cells": [
  {
   "cell_type": "code",
   "execution_count": 1,
   "metadata": {},
   "outputs": [],
   "source": [
    "import pandas as pd\n",
    "import numpy as np\n",
    "import matplotlib.pyplot as plt\n",
    "import seaborn as sns\n",
    "import re"
   ]
  },
  {
   "cell_type": "code",
   "execution_count": 2,
   "metadata": {},
   "outputs": [
    {
     "data": {
      "text/html": [
       "<div>\n",
       "<style scoped>\n",
       "    .dataframe tbody tr th:only-of-type {\n",
       "        vertical-align: middle;\n",
       "    }\n",
       "\n",
       "    .dataframe tbody tr th {\n",
       "        vertical-align: top;\n",
       "    }\n",
       "\n",
       "    .dataframe thead th {\n",
       "        text-align: right;\n",
       "    }\n",
       "</style>\n",
       "<table border=\"1\" class=\"dataframe\">\n",
       "  <thead>\n",
       "    <tr style=\"text-align: right;\">\n",
       "      <th></th>\n",
       "      <th>item_id</th>\n",
       "      <th>user_id</th>\n",
       "      <th>rating</th>\n",
       "      <th>timestamp</th>\n",
       "      <th>size</th>\n",
       "      <th>fit</th>\n",
       "      <th>user_attr</th>\n",
       "      <th>model_attr</th>\n",
       "      <th>category</th>\n",
       "      <th>brand</th>\n",
       "      <th>year</th>\n",
       "      <th>split</th>\n",
       "    </tr>\n",
       "  </thead>\n",
       "  <tbody>\n",
       "    <tr>\n",
       "      <th>0</th>\n",
       "      <td>7443</td>\n",
       "      <td>Alex</td>\n",
       "      <td>4</td>\n",
       "      <td>2010-01-21 08:00:00+00:00</td>\n",
       "      <td>NaN</td>\n",
       "      <td>NaN</td>\n",
       "      <td>Small</td>\n",
       "      <td>Small</td>\n",
       "      <td>Dresses</td>\n",
       "      <td>NaN</td>\n",
       "      <td>2012</td>\n",
       "      <td>0</td>\n",
       "    </tr>\n",
       "    <tr>\n",
       "      <th>1</th>\n",
       "      <td>7443</td>\n",
       "      <td>carolyn.agan</td>\n",
       "      <td>3</td>\n",
       "      <td>2010-01-27 08:00:00+00:00</td>\n",
       "      <td>NaN</td>\n",
       "      <td>NaN</td>\n",
       "      <td>NaN</td>\n",
       "      <td>Small</td>\n",
       "      <td>Dresses</td>\n",
       "      <td>NaN</td>\n",
       "      <td>2012</td>\n",
       "      <td>0</td>\n",
       "    </tr>\n",
       "    <tr>\n",
       "      <th>2</th>\n",
       "      <td>7443</td>\n",
       "      <td>Robyn</td>\n",
       "      <td>4</td>\n",
       "      <td>2010-01-29 08:00:00+00:00</td>\n",
       "      <td>NaN</td>\n",
       "      <td>NaN</td>\n",
       "      <td>Small</td>\n",
       "      <td>Small</td>\n",
       "      <td>Dresses</td>\n",
       "      <td>NaN</td>\n",
       "      <td>2012</td>\n",
       "      <td>0</td>\n",
       "    </tr>\n",
       "    <tr>\n",
       "      <th>3</th>\n",
       "      <td>7443</td>\n",
       "      <td>De</td>\n",
       "      <td>4</td>\n",
       "      <td>2010-02-13 08:00:00+00:00</td>\n",
       "      <td>NaN</td>\n",
       "      <td>NaN</td>\n",
       "      <td>NaN</td>\n",
       "      <td>Small</td>\n",
       "      <td>Dresses</td>\n",
       "      <td>NaN</td>\n",
       "      <td>2012</td>\n",
       "      <td>0</td>\n",
       "    </tr>\n",
       "    <tr>\n",
       "      <th>4</th>\n",
       "      <td>7443</td>\n",
       "      <td>tasha</td>\n",
       "      <td>4</td>\n",
       "      <td>2010-02-18 08:00:00+00:00</td>\n",
       "      <td>NaN</td>\n",
       "      <td>NaN</td>\n",
       "      <td>Small</td>\n",
       "      <td>Small</td>\n",
       "      <td>Dresses</td>\n",
       "      <td>NaN</td>\n",
       "      <td>2012</td>\n",
       "      <td>0</td>\n",
       "    </tr>\n",
       "    <tr>\n",
       "      <th>...</th>\n",
       "      <td>...</td>\n",
       "      <td>...</td>\n",
       "      <td>...</td>\n",
       "      <td>...</td>\n",
       "      <td>...</td>\n",
       "      <td>...</td>\n",
       "      <td>...</td>\n",
       "      <td>...</td>\n",
       "      <td>...</td>\n",
       "      <td>...</td>\n",
       "      <td>...</td>\n",
       "      <td>...</td>\n",
       "    </tr>\n",
       "    <tr>\n",
       "      <th>99888</th>\n",
       "      <td>154797</td>\n",
       "      <td>BernMarie</td>\n",
       "      <td>5</td>\n",
       "      <td>2019-06-26 21:15:13.165000+00:00</td>\n",
       "      <td>6.0</td>\n",
       "      <td>Just right</td>\n",
       "      <td>Large</td>\n",
       "      <td>Small&amp;Large</td>\n",
       "      <td>Dresses</td>\n",
       "      <td>NaN</td>\n",
       "      <td>2017</td>\n",
       "      <td>0</td>\n",
       "    </tr>\n",
       "    <tr>\n",
       "      <th>99889</th>\n",
       "      <td>77949</td>\n",
       "      <td>Sam</td>\n",
       "      <td>4</td>\n",
       "      <td>2019-06-26 23:22:29.633000+00:00</td>\n",
       "      <td>4.0</td>\n",
       "      <td>Slightly small</td>\n",
       "      <td>Small</td>\n",
       "      <td>Small&amp;Large</td>\n",
       "      <td>Bottoms</td>\n",
       "      <td>NaN</td>\n",
       "      <td>2014</td>\n",
       "      <td>2</td>\n",
       "    </tr>\n",
       "    <tr>\n",
       "      <th>99890</th>\n",
       "      <td>67194</td>\n",
       "      <td>Janice</td>\n",
       "      <td>5</td>\n",
       "      <td>2019-06-27 00:20:52.125000+00:00</td>\n",
       "      <td>NaN</td>\n",
       "      <td>Just right</td>\n",
       "      <td>Small</td>\n",
       "      <td>Small&amp;Large</td>\n",
       "      <td>Dresses</td>\n",
       "      <td>NaN</td>\n",
       "      <td>2013</td>\n",
       "      <td>2</td>\n",
       "    </tr>\n",
       "    <tr>\n",
       "      <th>99891</th>\n",
       "      <td>71607</td>\n",
       "      <td>amy</td>\n",
       "      <td>3</td>\n",
       "      <td>2019-06-27 15:45:06.250000+00:00</td>\n",
       "      <td>NaN</td>\n",
       "      <td>Slightly small</td>\n",
       "      <td>Small</td>\n",
       "      <td>Small&amp;Large</td>\n",
       "      <td>Outerwear</td>\n",
       "      <td>Jack by BB Dakota</td>\n",
       "      <td>2016</td>\n",
       "      <td>2</td>\n",
       "    </tr>\n",
       "    <tr>\n",
       "      <th>99892</th>\n",
       "      <td>119732</td>\n",
       "      <td>sarah</td>\n",
       "      <td>3</td>\n",
       "      <td>2019-06-29 13:55:16.542000+00:00</td>\n",
       "      <td>NaN</td>\n",
       "      <td>Just right</td>\n",
       "      <td>Small</td>\n",
       "      <td>Small</td>\n",
       "      <td>Dresses</td>\n",
       "      <td>NaN</td>\n",
       "      <td>2016</td>\n",
       "      <td>2</td>\n",
       "    </tr>\n",
       "  </tbody>\n",
       "</table>\n",
       "<p>99893 rows × 12 columns</p>\n",
       "</div>"
      ],
      "text/plain": [
       "       item_id       user_id  rating                         timestamp  size  \\\n",
       "0         7443          Alex       4         2010-01-21 08:00:00+00:00   NaN   \n",
       "1         7443  carolyn.agan       3         2010-01-27 08:00:00+00:00   NaN   \n",
       "2         7443         Robyn       4         2010-01-29 08:00:00+00:00   NaN   \n",
       "3         7443            De       4         2010-02-13 08:00:00+00:00   NaN   \n",
       "4         7443         tasha       4         2010-02-18 08:00:00+00:00   NaN   \n",
       "...        ...           ...     ...                               ...   ...   \n",
       "99888   154797     BernMarie       5  2019-06-26 21:15:13.165000+00:00   6.0   \n",
       "99889    77949           Sam       4  2019-06-26 23:22:29.633000+00:00   4.0   \n",
       "99890    67194        Janice       5  2019-06-27 00:20:52.125000+00:00   NaN   \n",
       "99891    71607           amy       3  2019-06-27 15:45:06.250000+00:00   NaN   \n",
       "99892   119732         sarah       3  2019-06-29 13:55:16.542000+00:00   NaN   \n",
       "\n",
       "                  fit user_attr   model_attr   category              brand  \\\n",
       "0                 NaN     Small        Small    Dresses                NaN   \n",
       "1                 NaN       NaN        Small    Dresses                NaN   \n",
       "2                 NaN     Small        Small    Dresses                NaN   \n",
       "3                 NaN       NaN        Small    Dresses                NaN   \n",
       "4                 NaN     Small        Small    Dresses                NaN   \n",
       "...               ...       ...          ...        ...                ...   \n",
       "99888      Just right     Large  Small&Large    Dresses                NaN   \n",
       "99889  Slightly small     Small  Small&Large    Bottoms                NaN   \n",
       "99890      Just right     Small  Small&Large    Dresses                NaN   \n",
       "99891  Slightly small     Small  Small&Large  Outerwear  Jack by BB Dakota   \n",
       "99892      Just right     Small        Small    Dresses                NaN   \n",
       "\n",
       "       year  split  \n",
       "0      2012      0  \n",
       "1      2012      0  \n",
       "2      2012      0  \n",
       "3      2012      0  \n",
       "4      2012      0  \n",
       "...     ...    ...  \n",
       "99888  2017      0  \n",
       "99889  2014      2  \n",
       "99890  2013      2  \n",
       "99891  2016      2  \n",
       "99892  2016      2  \n",
       "\n",
       "[99893 rows x 12 columns]"
      ]
     },
     "execution_count": 2,
     "metadata": {},
     "output_type": "execute_result"
    }
   ],
   "source": [
    "data= pd.read_csv('F:/Social Prachar/Raj sir/capgemini task/modcloth.csv')\n",
    "data"
   ]
  },
  {
   "cell_type": "code",
   "execution_count": 3,
   "metadata": {},
   "outputs": [
    {
     "data": {
      "text/plain": [
       "item_id           0\n",
       "user_id           1\n",
       "rating            0\n",
       "timestamp         0\n",
       "size          21760\n",
       "fit           18506\n",
       "user_attr      8367\n",
       "model_attr        0\n",
       "category          0\n",
       "brand         73980\n",
       "year              0\n",
       "split             0\n",
       "dtype: int64"
      ]
     },
     "execution_count": 3,
     "metadata": {},
     "output_type": "execute_result"
    }
   ],
   "source": [
    "data.isnull().sum()"
   ]
  },
  {
   "cell_type": "code",
   "execution_count": 4,
   "metadata": {},
   "outputs": [],
   "source": [
    "data=data.drop(['brand'],1)"
   ]
  },
  {
   "cell_type": "code",
   "execution_count": 5,
   "metadata": {},
   "outputs": [
    {
     "data": {
      "text/html": [
       "<div>\n",
       "<style scoped>\n",
       "    .dataframe tbody tr th:only-of-type {\n",
       "        vertical-align: middle;\n",
       "    }\n",
       "\n",
       "    .dataframe tbody tr th {\n",
       "        vertical-align: top;\n",
       "    }\n",
       "\n",
       "    .dataframe thead th {\n",
       "        text-align: right;\n",
       "    }\n",
       "</style>\n",
       "<table border=\"1\" class=\"dataframe\">\n",
       "  <thead>\n",
       "    <tr style=\"text-align: right;\">\n",
       "      <th></th>\n",
       "      <th>item_id</th>\n",
       "      <th>user_id</th>\n",
       "      <th>rating</th>\n",
       "      <th>timestamp</th>\n",
       "      <th>size</th>\n",
       "      <th>fit</th>\n",
       "      <th>user_attr</th>\n",
       "      <th>model_attr</th>\n",
       "      <th>category</th>\n",
       "      <th>year</th>\n",
       "      <th>split</th>\n",
       "    </tr>\n",
       "  </thead>\n",
       "  <tbody>\n",
       "    <tr>\n",
       "      <th>0</th>\n",
       "      <td>7443</td>\n",
       "      <td>Alex</td>\n",
       "      <td>4</td>\n",
       "      <td>2010-01-21 08:00:00+00:00</td>\n",
       "      <td>NaN</td>\n",
       "      <td>NaN</td>\n",
       "      <td>Small</td>\n",
       "      <td>Small</td>\n",
       "      <td>Dresses</td>\n",
       "      <td>2012</td>\n",
       "      <td>0</td>\n",
       "    </tr>\n",
       "    <tr>\n",
       "      <th>1</th>\n",
       "      <td>7443</td>\n",
       "      <td>carolyn.agan</td>\n",
       "      <td>3</td>\n",
       "      <td>2010-01-27 08:00:00+00:00</td>\n",
       "      <td>NaN</td>\n",
       "      <td>NaN</td>\n",
       "      <td>NaN</td>\n",
       "      <td>Small</td>\n",
       "      <td>Dresses</td>\n",
       "      <td>2012</td>\n",
       "      <td>0</td>\n",
       "    </tr>\n",
       "    <tr>\n",
       "      <th>2</th>\n",
       "      <td>7443</td>\n",
       "      <td>Robyn</td>\n",
       "      <td>4</td>\n",
       "      <td>2010-01-29 08:00:00+00:00</td>\n",
       "      <td>NaN</td>\n",
       "      <td>NaN</td>\n",
       "      <td>Small</td>\n",
       "      <td>Small</td>\n",
       "      <td>Dresses</td>\n",
       "      <td>2012</td>\n",
       "      <td>0</td>\n",
       "    </tr>\n",
       "    <tr>\n",
       "      <th>3</th>\n",
       "      <td>7443</td>\n",
       "      <td>De</td>\n",
       "      <td>4</td>\n",
       "      <td>2010-02-13 08:00:00+00:00</td>\n",
       "      <td>NaN</td>\n",
       "      <td>NaN</td>\n",
       "      <td>NaN</td>\n",
       "      <td>Small</td>\n",
       "      <td>Dresses</td>\n",
       "      <td>2012</td>\n",
       "      <td>0</td>\n",
       "    </tr>\n",
       "    <tr>\n",
       "      <th>4</th>\n",
       "      <td>7443</td>\n",
       "      <td>tasha</td>\n",
       "      <td>4</td>\n",
       "      <td>2010-02-18 08:00:00+00:00</td>\n",
       "      <td>NaN</td>\n",
       "      <td>NaN</td>\n",
       "      <td>Small</td>\n",
       "      <td>Small</td>\n",
       "      <td>Dresses</td>\n",
       "      <td>2012</td>\n",
       "      <td>0</td>\n",
       "    </tr>\n",
       "    <tr>\n",
       "      <th>...</th>\n",
       "      <td>...</td>\n",
       "      <td>...</td>\n",
       "      <td>...</td>\n",
       "      <td>...</td>\n",
       "      <td>...</td>\n",
       "      <td>...</td>\n",
       "      <td>...</td>\n",
       "      <td>...</td>\n",
       "      <td>...</td>\n",
       "      <td>...</td>\n",
       "      <td>...</td>\n",
       "    </tr>\n",
       "    <tr>\n",
       "      <th>99888</th>\n",
       "      <td>154797</td>\n",
       "      <td>BernMarie</td>\n",
       "      <td>5</td>\n",
       "      <td>2019-06-26 21:15:13.165000+00:00</td>\n",
       "      <td>6.0</td>\n",
       "      <td>Just right</td>\n",
       "      <td>Large</td>\n",
       "      <td>Small&amp;Large</td>\n",
       "      <td>Dresses</td>\n",
       "      <td>2017</td>\n",
       "      <td>0</td>\n",
       "    </tr>\n",
       "    <tr>\n",
       "      <th>99889</th>\n",
       "      <td>77949</td>\n",
       "      <td>Sam</td>\n",
       "      <td>4</td>\n",
       "      <td>2019-06-26 23:22:29.633000+00:00</td>\n",
       "      <td>4.0</td>\n",
       "      <td>Slightly small</td>\n",
       "      <td>Small</td>\n",
       "      <td>Small&amp;Large</td>\n",
       "      <td>Bottoms</td>\n",
       "      <td>2014</td>\n",
       "      <td>2</td>\n",
       "    </tr>\n",
       "    <tr>\n",
       "      <th>99890</th>\n",
       "      <td>67194</td>\n",
       "      <td>Janice</td>\n",
       "      <td>5</td>\n",
       "      <td>2019-06-27 00:20:52.125000+00:00</td>\n",
       "      <td>NaN</td>\n",
       "      <td>Just right</td>\n",
       "      <td>Small</td>\n",
       "      <td>Small&amp;Large</td>\n",
       "      <td>Dresses</td>\n",
       "      <td>2013</td>\n",
       "      <td>2</td>\n",
       "    </tr>\n",
       "    <tr>\n",
       "      <th>99891</th>\n",
       "      <td>71607</td>\n",
       "      <td>amy</td>\n",
       "      <td>3</td>\n",
       "      <td>2019-06-27 15:45:06.250000+00:00</td>\n",
       "      <td>NaN</td>\n",
       "      <td>Slightly small</td>\n",
       "      <td>Small</td>\n",
       "      <td>Small&amp;Large</td>\n",
       "      <td>Outerwear</td>\n",
       "      <td>2016</td>\n",
       "      <td>2</td>\n",
       "    </tr>\n",
       "    <tr>\n",
       "      <th>99892</th>\n",
       "      <td>119732</td>\n",
       "      <td>sarah</td>\n",
       "      <td>3</td>\n",
       "      <td>2019-06-29 13:55:16.542000+00:00</td>\n",
       "      <td>NaN</td>\n",
       "      <td>Just right</td>\n",
       "      <td>Small</td>\n",
       "      <td>Small</td>\n",
       "      <td>Dresses</td>\n",
       "      <td>2016</td>\n",
       "      <td>2</td>\n",
       "    </tr>\n",
       "  </tbody>\n",
       "</table>\n",
       "<p>99893 rows × 11 columns</p>\n",
       "</div>"
      ],
      "text/plain": [
       "       item_id       user_id  rating                         timestamp  size  \\\n",
       "0         7443          Alex       4         2010-01-21 08:00:00+00:00   NaN   \n",
       "1         7443  carolyn.agan       3         2010-01-27 08:00:00+00:00   NaN   \n",
       "2         7443         Robyn       4         2010-01-29 08:00:00+00:00   NaN   \n",
       "3         7443            De       4         2010-02-13 08:00:00+00:00   NaN   \n",
       "4         7443         tasha       4         2010-02-18 08:00:00+00:00   NaN   \n",
       "...        ...           ...     ...                               ...   ...   \n",
       "99888   154797     BernMarie       5  2019-06-26 21:15:13.165000+00:00   6.0   \n",
       "99889    77949           Sam       4  2019-06-26 23:22:29.633000+00:00   4.0   \n",
       "99890    67194        Janice       5  2019-06-27 00:20:52.125000+00:00   NaN   \n",
       "99891    71607           amy       3  2019-06-27 15:45:06.250000+00:00   NaN   \n",
       "99892   119732         sarah       3  2019-06-29 13:55:16.542000+00:00   NaN   \n",
       "\n",
       "                  fit user_attr   model_attr   category  year  split  \n",
       "0                 NaN     Small        Small    Dresses  2012      0  \n",
       "1                 NaN       NaN        Small    Dresses  2012      0  \n",
       "2                 NaN     Small        Small    Dresses  2012      0  \n",
       "3                 NaN       NaN        Small    Dresses  2012      0  \n",
       "4                 NaN     Small        Small    Dresses  2012      0  \n",
       "...               ...       ...          ...        ...   ...    ...  \n",
       "99888      Just right     Large  Small&Large    Dresses  2017      0  \n",
       "99889  Slightly small     Small  Small&Large    Bottoms  2014      2  \n",
       "99890      Just right     Small  Small&Large    Dresses  2013      2  \n",
       "99891  Slightly small     Small  Small&Large  Outerwear  2016      2  \n",
       "99892      Just right     Small        Small    Dresses  2016      2  \n",
       "\n",
       "[99893 rows x 11 columns]"
      ]
     },
     "execution_count": 5,
     "metadata": {},
     "output_type": "execute_result"
    }
   ],
   "source": [
    "data"
   ]
  },
  {
   "cell_type": "code",
   "execution_count": 6,
   "metadata": {},
   "outputs": [
    {
     "data": {
      "text/plain": [
       "Just right        55287\n",
       "Slightly large    11114\n",
       "Slightly small    10771\n",
       "Very large         2177\n",
       "Very small         2038\n",
       "Name: fit, dtype: int64"
      ]
     },
     "execution_count": 6,
     "metadata": {},
     "output_type": "execute_result"
    }
   ],
   "source": [
    "data['fit'].value_counts()"
   ]
  },
  {
   "cell_type": "code",
   "execution_count": 7,
   "metadata": {},
   "outputs": [
    {
     "data": {
      "text/html": [
       "<div>\n",
       "<style scoped>\n",
       "    .dataframe tbody tr th:only-of-type {\n",
       "        vertical-align: middle;\n",
       "    }\n",
       "\n",
       "    .dataframe tbody tr th {\n",
       "        vertical-align: top;\n",
       "    }\n",
       "\n",
       "    .dataframe thead th {\n",
       "        text-align: right;\n",
       "    }\n",
       "</style>\n",
       "<table border=\"1\" class=\"dataframe\">\n",
       "  <thead>\n",
       "    <tr style=\"text-align: right;\">\n",
       "      <th></th>\n",
       "      <th>item_id</th>\n",
       "      <th>rating</th>\n",
       "      <th>size</th>\n",
       "      <th>year</th>\n",
       "      <th>split</th>\n",
       "    </tr>\n",
       "  </thead>\n",
       "  <tbody>\n",
       "    <tr>\n",
       "      <th>count</th>\n",
       "      <td>99893.000000</td>\n",
       "      <td>99893.000000</td>\n",
       "      <td>78133.000000</td>\n",
       "      <td>99893.000000</td>\n",
       "      <td>99893.000000</td>\n",
       "    </tr>\n",
       "    <tr>\n",
       "      <th>mean</th>\n",
       "      <td>83944.091208</td>\n",
       "      <td>4.209594</td>\n",
       "      <td>3.217322</td>\n",
       "      <td>2015.476450</td>\n",
       "      <td>0.358564</td>\n",
       "    </tr>\n",
       "    <tr>\n",
       "      <th>std</th>\n",
       "      <td>43558.135979</td>\n",
       "      <td>1.080633</td>\n",
       "      <td>1.885934</td>\n",
       "      <td>1.970262</td>\n",
       "      <td>0.720993</td>\n",
       "    </tr>\n",
       "    <tr>\n",
       "      <th>min</th>\n",
       "      <td>6454.000000</td>\n",
       "      <td>1.000000</td>\n",
       "      <td>0.000000</td>\n",
       "      <td>2010.000000</td>\n",
       "      <td>0.000000</td>\n",
       "    </tr>\n",
       "    <tr>\n",
       "      <th>25%</th>\n",
       "      <td>48629.000000</td>\n",
       "      <td>4.000000</td>\n",
       "      <td>2.000000</td>\n",
       "      <td>2014.000000</td>\n",
       "      <td>0.000000</td>\n",
       "    </tr>\n",
       "    <tr>\n",
       "      <th>50%</th>\n",
       "      <td>77878.000000</td>\n",
       "      <td>5.000000</td>\n",
       "      <td>3.000000</td>\n",
       "      <td>2016.000000</td>\n",
       "      <td>0.000000</td>\n",
       "    </tr>\n",
       "    <tr>\n",
       "      <th>75%</th>\n",
       "      <td>120126.000000</td>\n",
       "      <td>5.000000</td>\n",
       "      <td>4.000000</td>\n",
       "      <td>2017.000000</td>\n",
       "      <td>0.000000</td>\n",
       "    </tr>\n",
       "    <tr>\n",
       "      <th>max</th>\n",
       "      <td>155950.000000</td>\n",
       "      <td>5.000000</td>\n",
       "      <td>8.000000</td>\n",
       "      <td>2019.000000</td>\n",
       "      <td>2.000000</td>\n",
       "    </tr>\n",
       "  </tbody>\n",
       "</table>\n",
       "</div>"
      ],
      "text/plain": [
       "             item_id        rating          size          year         split\n",
       "count   99893.000000  99893.000000  78133.000000  99893.000000  99893.000000\n",
       "mean    83944.091208      4.209594      3.217322   2015.476450      0.358564\n",
       "std     43558.135979      1.080633      1.885934      1.970262      0.720993\n",
       "min      6454.000000      1.000000      0.000000   2010.000000      0.000000\n",
       "25%     48629.000000      4.000000      2.000000   2014.000000      0.000000\n",
       "50%     77878.000000      5.000000      3.000000   2016.000000      0.000000\n",
       "75%    120126.000000      5.000000      4.000000   2017.000000      0.000000\n",
       "max    155950.000000      5.000000      8.000000   2019.000000      2.000000"
      ]
     },
     "execution_count": 7,
     "metadata": {},
     "output_type": "execute_result"
    }
   ],
   "source": [
    "data.describe()"
   ]
  },
  {
   "cell_type": "code",
   "execution_count": 8,
   "metadata": {},
   "outputs": [],
   "source": [
    "data['size']=data['size'].fillna(3.217322)"
   ]
  },
  {
   "cell_type": "code",
   "execution_count": 9,
   "metadata": {},
   "outputs": [],
   "source": [
    "data['fit']=data['fit'].fillna('Just right')"
   ]
  },
  {
   "cell_type": "code",
   "execution_count": 10,
   "metadata": {},
   "outputs": [
    {
     "data": {
      "text/plain": [
       "0.2178330813970949"
      ]
     },
     "execution_count": 10,
     "metadata": {},
     "output_type": "execute_result"
    }
   ],
   "source": [
    "21760/99893"
   ]
  },
  {
   "cell_type": "code",
   "execution_count": 11,
   "metadata": {},
   "outputs": [
    {
     "data": {
      "text/plain": [
       "84.51515151515152"
      ]
     },
     "execution_count": 11,
     "metadata": {},
     "output_type": "execute_result"
    }
   ],
   "source": [
    "8367/99  # filling null values for 'user_attr ' this variable becouse only 8 % missing value we can fill with 'Small' "
   ]
  },
  {
   "cell_type": "code",
   "execution_count": 12,
   "metadata": {},
   "outputs": [
    {
     "data": {
      "text/plain": [
       "0.18525822630214328"
      ]
     },
     "execution_count": 12,
     "metadata": {},
     "output_type": "execute_result"
    }
   ],
   "source": [
    "18506/99893 # filling null values for 'fit' this variable becouse only 18 % missing value we can fill with 'Just right' "
   ]
  },
  {
   "cell_type": "code",
   "execution_count": 13,
   "metadata": {},
   "outputs": [
    {
     "data": {
      "text/plain": [
       "0.7405924339042775"
      ]
     },
     "execution_count": 13,
     "metadata": {},
     "output_type": "execute_result"
    }
   ],
   "source": [
    "73980/99893   # variable brand 74% missing value so we can drop this column "
   ]
  },
  {
   "cell_type": "code",
   "execution_count": 14,
   "metadata": {},
   "outputs": [
    {
     "data": {
      "text/plain": [
       "Small    73161\n",
       "Large    18365\n",
       "Name: user_attr, dtype: int64"
      ]
     },
     "execution_count": 14,
     "metadata": {},
     "output_type": "execute_result"
    }
   ],
   "source": [
    "data['user_attr'].value_counts()"
   ]
  },
  {
   "cell_type": "code",
   "execution_count": 15,
   "metadata": {},
   "outputs": [],
   "source": [
    "data['user_attr']=data['user_attr'].fillna('Small ')"
   ]
  },
  {
   "cell_type": "code",
   "execution_count": 16,
   "metadata": {},
   "outputs": [
    {
     "data": {
      "text/plain": [
       "item_id       0\n",
       "user_id       1\n",
       "rating        0\n",
       "timestamp     0\n",
       "size          0\n",
       "fit           0\n",
       "user_attr     0\n",
       "model_attr    0\n",
       "category      0\n",
       "year          0\n",
       "split         0\n",
       "dtype: int64"
      ]
     },
     "execution_count": 16,
     "metadata": {},
     "output_type": "execute_result"
    }
   ],
   "source": [
    "data.isnull().sum()"
   ]
  },
  {
   "cell_type": "code",
   "execution_count": 17,
   "metadata": {},
   "outputs": [
    {
     "data": {
      "text/plain": [
       "Sarah            250\n",
       "Amanda           204\n",
       "jennifer         198\n",
       "Laura            197\n",
       "Jennifer         191\n",
       "                ... \n",
       "macca7277          1\n",
       "redbirdbrandi      1\n",
       "hkittyyy           1\n",
       "v_unruh            1\n",
       "jmb815             1\n",
       "Name: user_id, Length: 44783, dtype: int64"
      ]
     },
     "execution_count": 17,
     "metadata": {},
     "output_type": "execute_result"
    }
   ],
   "source": [
    "data['user_id'].value_counts()"
   ]
  },
  {
   "cell_type": "code",
   "execution_count": 18,
   "metadata": {},
   "outputs": [],
   "source": [
    "data=data.dropna()"
   ]
  },
  {
   "cell_type": "code",
   "execution_count": 19,
   "metadata": {},
   "outputs": [
    {
     "data": {
      "text/html": [
       "<div>\n",
       "<style scoped>\n",
       "    .dataframe tbody tr th:only-of-type {\n",
       "        vertical-align: middle;\n",
       "    }\n",
       "\n",
       "    .dataframe tbody tr th {\n",
       "        vertical-align: top;\n",
       "    }\n",
       "\n",
       "    .dataframe thead th {\n",
       "        text-align: right;\n",
       "    }\n",
       "</style>\n",
       "<table border=\"1\" class=\"dataframe\">\n",
       "  <thead>\n",
       "    <tr style=\"text-align: right;\">\n",
       "      <th></th>\n",
       "      <th>item_id</th>\n",
       "      <th>user_id</th>\n",
       "      <th>rating</th>\n",
       "      <th>timestamp</th>\n",
       "      <th>size</th>\n",
       "      <th>fit</th>\n",
       "      <th>user_attr</th>\n",
       "      <th>model_attr</th>\n",
       "      <th>category</th>\n",
       "      <th>year</th>\n",
       "      <th>split</th>\n",
       "    </tr>\n",
       "  </thead>\n",
       "  <tbody>\n",
       "    <tr>\n",
       "      <th>0</th>\n",
       "      <td>7443</td>\n",
       "      <td>Alex</td>\n",
       "      <td>4</td>\n",
       "      <td>2010-01-21 08:00:00+00:00</td>\n",
       "      <td>3.217322</td>\n",
       "      <td>Just right</td>\n",
       "      <td>Small</td>\n",
       "      <td>Small</td>\n",
       "      <td>Dresses</td>\n",
       "      <td>2012</td>\n",
       "      <td>0</td>\n",
       "    </tr>\n",
       "    <tr>\n",
       "      <th>1</th>\n",
       "      <td>7443</td>\n",
       "      <td>carolyn.agan</td>\n",
       "      <td>3</td>\n",
       "      <td>2010-01-27 08:00:00+00:00</td>\n",
       "      <td>3.217322</td>\n",
       "      <td>Just right</td>\n",
       "      <td>Small</td>\n",
       "      <td>Small</td>\n",
       "      <td>Dresses</td>\n",
       "      <td>2012</td>\n",
       "      <td>0</td>\n",
       "    </tr>\n",
       "    <tr>\n",
       "      <th>2</th>\n",
       "      <td>7443</td>\n",
       "      <td>Robyn</td>\n",
       "      <td>4</td>\n",
       "      <td>2010-01-29 08:00:00+00:00</td>\n",
       "      <td>3.217322</td>\n",
       "      <td>Just right</td>\n",
       "      <td>Small</td>\n",
       "      <td>Small</td>\n",
       "      <td>Dresses</td>\n",
       "      <td>2012</td>\n",
       "      <td>0</td>\n",
       "    </tr>\n",
       "    <tr>\n",
       "      <th>3</th>\n",
       "      <td>7443</td>\n",
       "      <td>De</td>\n",
       "      <td>4</td>\n",
       "      <td>2010-02-13 08:00:00+00:00</td>\n",
       "      <td>3.217322</td>\n",
       "      <td>Just right</td>\n",
       "      <td>Small</td>\n",
       "      <td>Small</td>\n",
       "      <td>Dresses</td>\n",
       "      <td>2012</td>\n",
       "      <td>0</td>\n",
       "    </tr>\n",
       "    <tr>\n",
       "      <th>4</th>\n",
       "      <td>7443</td>\n",
       "      <td>tasha</td>\n",
       "      <td>4</td>\n",
       "      <td>2010-02-18 08:00:00+00:00</td>\n",
       "      <td>3.217322</td>\n",
       "      <td>Just right</td>\n",
       "      <td>Small</td>\n",
       "      <td>Small</td>\n",
       "      <td>Dresses</td>\n",
       "      <td>2012</td>\n",
       "      <td>0</td>\n",
       "    </tr>\n",
       "    <tr>\n",
       "      <th>...</th>\n",
       "      <td>...</td>\n",
       "      <td>...</td>\n",
       "      <td>...</td>\n",
       "      <td>...</td>\n",
       "      <td>...</td>\n",
       "      <td>...</td>\n",
       "      <td>...</td>\n",
       "      <td>...</td>\n",
       "      <td>...</td>\n",
       "      <td>...</td>\n",
       "      <td>...</td>\n",
       "    </tr>\n",
       "    <tr>\n",
       "      <th>99888</th>\n",
       "      <td>154797</td>\n",
       "      <td>BernMarie</td>\n",
       "      <td>5</td>\n",
       "      <td>2019-06-26 21:15:13.165000+00:00</td>\n",
       "      <td>6.000000</td>\n",
       "      <td>Just right</td>\n",
       "      <td>Large</td>\n",
       "      <td>Small&amp;Large</td>\n",
       "      <td>Dresses</td>\n",
       "      <td>2017</td>\n",
       "      <td>0</td>\n",
       "    </tr>\n",
       "    <tr>\n",
       "      <th>99889</th>\n",
       "      <td>77949</td>\n",
       "      <td>Sam</td>\n",
       "      <td>4</td>\n",
       "      <td>2019-06-26 23:22:29.633000+00:00</td>\n",
       "      <td>4.000000</td>\n",
       "      <td>Slightly small</td>\n",
       "      <td>Small</td>\n",
       "      <td>Small&amp;Large</td>\n",
       "      <td>Bottoms</td>\n",
       "      <td>2014</td>\n",
       "      <td>2</td>\n",
       "    </tr>\n",
       "    <tr>\n",
       "      <th>99890</th>\n",
       "      <td>67194</td>\n",
       "      <td>Janice</td>\n",
       "      <td>5</td>\n",
       "      <td>2019-06-27 00:20:52.125000+00:00</td>\n",
       "      <td>3.217322</td>\n",
       "      <td>Just right</td>\n",
       "      <td>Small</td>\n",
       "      <td>Small&amp;Large</td>\n",
       "      <td>Dresses</td>\n",
       "      <td>2013</td>\n",
       "      <td>2</td>\n",
       "    </tr>\n",
       "    <tr>\n",
       "      <th>99891</th>\n",
       "      <td>71607</td>\n",
       "      <td>amy</td>\n",
       "      <td>3</td>\n",
       "      <td>2019-06-27 15:45:06.250000+00:00</td>\n",
       "      <td>3.217322</td>\n",
       "      <td>Slightly small</td>\n",
       "      <td>Small</td>\n",
       "      <td>Small&amp;Large</td>\n",
       "      <td>Outerwear</td>\n",
       "      <td>2016</td>\n",
       "      <td>2</td>\n",
       "    </tr>\n",
       "    <tr>\n",
       "      <th>99892</th>\n",
       "      <td>119732</td>\n",
       "      <td>sarah</td>\n",
       "      <td>3</td>\n",
       "      <td>2019-06-29 13:55:16.542000+00:00</td>\n",
       "      <td>3.217322</td>\n",
       "      <td>Just right</td>\n",
       "      <td>Small</td>\n",
       "      <td>Small</td>\n",
       "      <td>Dresses</td>\n",
       "      <td>2016</td>\n",
       "      <td>2</td>\n",
       "    </tr>\n",
       "  </tbody>\n",
       "</table>\n",
       "<p>99892 rows × 11 columns</p>\n",
       "</div>"
      ],
      "text/plain": [
       "       item_id       user_id  rating                         timestamp  \\\n",
       "0         7443          Alex       4         2010-01-21 08:00:00+00:00   \n",
       "1         7443  carolyn.agan       3         2010-01-27 08:00:00+00:00   \n",
       "2         7443         Robyn       4         2010-01-29 08:00:00+00:00   \n",
       "3         7443            De       4         2010-02-13 08:00:00+00:00   \n",
       "4         7443         tasha       4         2010-02-18 08:00:00+00:00   \n",
       "...        ...           ...     ...                               ...   \n",
       "99888   154797     BernMarie       5  2019-06-26 21:15:13.165000+00:00   \n",
       "99889    77949           Sam       4  2019-06-26 23:22:29.633000+00:00   \n",
       "99890    67194        Janice       5  2019-06-27 00:20:52.125000+00:00   \n",
       "99891    71607           amy       3  2019-06-27 15:45:06.250000+00:00   \n",
       "99892   119732         sarah       3  2019-06-29 13:55:16.542000+00:00   \n",
       "\n",
       "           size             fit user_attr   model_attr   category  year  split  \n",
       "0      3.217322      Just right     Small        Small    Dresses  2012      0  \n",
       "1      3.217322      Just right    Small         Small    Dresses  2012      0  \n",
       "2      3.217322      Just right     Small        Small    Dresses  2012      0  \n",
       "3      3.217322      Just right    Small         Small    Dresses  2012      0  \n",
       "4      3.217322      Just right     Small        Small    Dresses  2012      0  \n",
       "...         ...             ...       ...          ...        ...   ...    ...  \n",
       "99888  6.000000      Just right     Large  Small&Large    Dresses  2017      0  \n",
       "99889  4.000000  Slightly small     Small  Small&Large    Bottoms  2014      2  \n",
       "99890  3.217322      Just right     Small  Small&Large    Dresses  2013      2  \n",
       "99891  3.217322  Slightly small     Small  Small&Large  Outerwear  2016      2  \n",
       "99892  3.217322      Just right     Small        Small    Dresses  2016      2  \n",
       "\n",
       "[99892 rows x 11 columns]"
      ]
     },
     "execution_count": 19,
     "metadata": {},
     "output_type": "execute_result"
    }
   ],
   "source": [
    "data"
   ]
  },
  {
   "cell_type": "code",
   "execution_count": 20,
   "metadata": {},
   "outputs": [
    {
     "data": {
      "text/plain": [
       "item_id       0\n",
       "user_id       0\n",
       "rating        0\n",
       "timestamp     0\n",
       "size          0\n",
       "fit           0\n",
       "user_attr     0\n",
       "model_attr    0\n",
       "category      0\n",
       "year          0\n",
       "split         0\n",
       "dtype: int64"
      ]
     },
     "execution_count": 20,
     "metadata": {},
     "output_type": "execute_result"
    }
   ],
   "source": [
    "data.isnull().sum()"
   ]
  },
  {
   "cell_type": "code",
   "execution_count": 21,
   "metadata": {},
   "outputs": [
    {
     "data": {
      "text/plain": [
       "<AxesSubplot:>"
      ]
     },
     "execution_count": 21,
     "metadata": {},
     "output_type": "execute_result"
    },
    {
     "data": {
      "image/png": "[encoded data removed]",
      "text/plain": [
       "<Figure size 432x288 with 2 Axes>"
      ]
     },
     "metadata": {
      "needs_background": "light"
     },
     "output_type": "display_data"
    }
   ],
   "source": [
    "sns.heatmap(data.corr(),annot=True)"
   ]
  },
  {
   "cell_type": "code",
   "execution_count": 22,
   "metadata": {},
   "outputs": [
    {
     "data": {
      "text/html": [
       "<div>\n",
       "<style scoped>\n",
       "    .dataframe tbody tr th:only-of-type {\n",
       "        vertical-align: middle;\n",
       "    }\n",
       "\n",
       "    .dataframe tbody tr th {\n",
       "        vertical-align: top;\n",
       "    }\n",
       "\n",
       "    .dataframe thead th {\n",
       "        text-align: right;\n",
       "    }\n",
       "</style>\n",
       "<table border=\"1\" class=\"dataframe\">\n",
       "  <thead>\n",
       "    <tr style=\"text-align: right;\">\n",
       "      <th></th>\n",
       "      <th>item_id</th>\n",
       "      <th>rating</th>\n",
       "      <th>size</th>\n",
       "      <th>year</th>\n",
       "      <th>split</th>\n",
       "    </tr>\n",
       "  </thead>\n",
       "  <tbody>\n",
       "    <tr>\n",
       "      <th>item_id</th>\n",
       "      <td>1.000000</td>\n",
       "      <td>-0.016544</td>\n",
       "      <td>0.044679</td>\n",
       "      <td>0.679161</td>\n",
       "      <td>0.060986</td>\n",
       "    </tr>\n",
       "    <tr>\n",
       "      <th>rating</th>\n",
       "      <td>-0.016544</td>\n",
       "      <td>1.000000</td>\n",
       "      <td>-0.039298</td>\n",
       "      <td>-0.005686</td>\n",
       "      <td>-0.016802</td>\n",
       "    </tr>\n",
       "    <tr>\n",
       "      <th>size</th>\n",
       "      <td>0.044679</td>\n",
       "      <td>-0.039298</td>\n",
       "      <td>1.000000</td>\n",
       "      <td>0.069112</td>\n",
       "      <td>0.025220</td>\n",
       "    </tr>\n",
       "    <tr>\n",
       "      <th>year</th>\n",
       "      <td>0.679161</td>\n",
       "      <td>-0.005686</td>\n",
       "      <td>0.069112</td>\n",
       "      <td>1.000000</td>\n",
       "      <td>0.053393</td>\n",
       "    </tr>\n",
       "    <tr>\n",
       "      <th>split</th>\n",
       "      <td>0.060986</td>\n",
       "      <td>-0.016802</td>\n",
       "      <td>0.025220</td>\n",
       "      <td>0.053393</td>\n",
       "      <td>1.000000</td>\n",
       "    </tr>\n",
       "  </tbody>\n",
       "</table>\n",
       "</div>"
      ],
      "text/plain": [
       "          item_id    rating      size      year     split\n",
       "item_id  1.000000 -0.016544  0.044679  0.679161  0.060986\n",
       "rating  -0.016544  1.000000 -0.039298 -0.005686 -0.016802\n",
       "size     0.044679 -0.039298  1.000000  0.069112  0.025220\n",
       "year     0.679161 -0.005686  0.069112  1.000000  0.053393\n",
       "split    0.060986 -0.016802  0.025220  0.053393  1.000000"
      ]
     },
     "execution_count": 22,
     "metadata": {},
     "output_type": "execute_result"
    }
   ],
   "source": [
    "data.corr()"
   ]
  },
  {
   "cell_type": "code",
   "execution_count": 23,
   "metadata": {},
   "outputs": [
    {
     "data": {
      "text/html": [
       "<div>\n",
       "<style scoped>\n",
       "    .dataframe tbody tr th:only-of-type {\n",
       "        vertical-align: middle;\n",
       "    }\n",
       "\n",
       "    .dataframe tbody tr th {\n",
       "        vertical-align: top;\n",
       "    }\n",
       "\n",
       "    .dataframe thead th {\n",
       "        text-align: right;\n",
       "    }\n",
       "</style>\n",
       "<table border=\"1\" class=\"dataframe\">\n",
       "  <thead>\n",
       "    <tr style=\"text-align: right;\">\n",
       "      <th></th>\n",
       "      <th>fit_Just right</th>\n",
       "      <th>fit_Slightly large</th>\n",
       "      <th>fit_Slightly small</th>\n",
       "      <th>fit_Very large</th>\n",
       "      <th>fit_Very small</th>\n",
       "    </tr>\n",
       "  </thead>\n",
       "  <tbody>\n",
       "    <tr>\n",
       "      <th>0</th>\n",
       "      <td>1</td>\n",
       "      <td>0</td>\n",
       "      <td>0</td>\n",
       "      <td>0</td>\n",
       "      <td>0</td>\n",
       "    </tr>\n",
       "    <tr>\n",
       "      <th>1</th>\n",
       "      <td>1</td>\n",
       "      <td>0</td>\n",
       "      <td>0</td>\n",
       "      <td>0</td>\n",
       "      <td>0</td>\n",
       "    </tr>\n",
       "    <tr>\n",
       "      <th>2</th>\n",
       "      <td>1</td>\n",
       "      <td>0</td>\n",
       "      <td>0</td>\n",
       "      <td>0</td>\n",
       "      <td>0</td>\n",
       "    </tr>\n",
       "    <tr>\n",
       "      <th>3</th>\n",
       "      <td>1</td>\n",
       "      <td>0</td>\n",
       "      <td>0</td>\n",
       "      <td>0</td>\n",
       "      <td>0</td>\n",
       "    </tr>\n",
       "    <tr>\n",
       "      <th>4</th>\n",
       "      <td>1</td>\n",
       "      <td>0</td>\n",
       "      <td>0</td>\n",
       "      <td>0</td>\n",
       "      <td>0</td>\n",
       "    </tr>\n",
       "  </tbody>\n",
       "</table>\n",
       "</div>"
      ],
      "text/plain": [
       "   fit_Just right  fit_Slightly large  fit_Slightly small  fit_Very large  \\\n",
       "0               1                   0                   0               0   \n",
       "1               1                   0                   0               0   \n",
       "2               1                   0                   0               0   \n",
       "3               1                   0                   0               0   \n",
       "4               1                   0                   0               0   \n",
       "\n",
       "   fit_Very small  \n",
       "0               0  \n",
       "1               0  \n",
       "2               0  \n",
       "3               0  \n",
       "4               0  "
      ]
     },
     "execution_count": 23,
     "metadata": {},
     "output_type": "execute_result"
    }
   ],
   "source": [
    "pd.get_dummies(data[[\"fit\"]]).head()"
   ]
  },
  {
   "cell_type": "code",
   "execution_count": 24,
   "metadata": {},
   "outputs": [
    {
     "data": {
      "text/html": [
       "<div>\n",
       "<style scoped>\n",
       "    .dataframe tbody tr th:only-of-type {\n",
       "        vertical-align: middle;\n",
       "    }\n",
       "\n",
       "    .dataframe tbody tr th {\n",
       "        vertical-align: top;\n",
       "    }\n",
       "\n",
       "    .dataframe thead th {\n",
       "        text-align: right;\n",
       "    }\n",
       "</style>\n",
       "<table border=\"1\" class=\"dataframe\">\n",
       "  <thead>\n",
       "    <tr style=\"text-align: right;\">\n",
       "      <th></th>\n",
       "      <th>user_attr_Large</th>\n",
       "      <th>user_attr_Small</th>\n",
       "      <th>user_attr_Small</th>\n",
       "    </tr>\n",
       "  </thead>\n",
       "  <tbody>\n",
       "    <tr>\n",
       "      <th>0</th>\n",
       "      <td>0</td>\n",
       "      <td>1</td>\n",
       "      <td>0</td>\n",
       "    </tr>\n",
       "    <tr>\n",
       "      <th>1</th>\n",
       "      <td>0</td>\n",
       "      <td>0</td>\n",
       "      <td>1</td>\n",
       "    </tr>\n",
       "    <tr>\n",
       "      <th>2</th>\n",
       "      <td>0</td>\n",
       "      <td>1</td>\n",
       "      <td>0</td>\n",
       "    </tr>\n",
       "    <tr>\n",
       "      <th>3</th>\n",
       "      <td>0</td>\n",
       "      <td>0</td>\n",
       "      <td>1</td>\n",
       "    </tr>\n",
       "    <tr>\n",
       "      <th>4</th>\n",
       "      <td>0</td>\n",
       "      <td>1</td>\n",
       "      <td>0</td>\n",
       "    </tr>\n",
       "  </tbody>\n",
       "</table>\n",
       "</div>"
      ],
      "text/plain": [
       "   user_attr_Large  user_attr_Small  user_attr_Small \n",
       "0                0                1                 0\n",
       "1                0                0                 1\n",
       "2                0                1                 0\n",
       "3                0                0                 1\n",
       "4                0                1                 0"
      ]
     },
     "execution_count": 24,
     "metadata": {},
     "output_type": "execute_result"
    }
   ],
   "source": [
    "pd.get_dummies(data[[\"user_attr\"]]).head()"
   ]
  },
  {
   "cell_type": "code",
   "execution_count": 25,
   "metadata": {},
   "outputs": [
    {
     "data": {
      "text/html": [
       "<div>\n",
       "<style scoped>\n",
       "    .dataframe tbody tr th:only-of-type {\n",
       "        vertical-align: middle;\n",
       "    }\n",
       "\n",
       "    .dataframe tbody tr th {\n",
       "        vertical-align: top;\n",
       "    }\n",
       "\n",
       "    .dataframe thead th {\n",
       "        text-align: right;\n",
       "    }\n",
       "</style>\n",
       "<table border=\"1\" class=\"dataframe\">\n",
       "  <thead>\n",
       "    <tr style=\"text-align: right;\">\n",
       "      <th></th>\n",
       "      <th>model_attr_Small</th>\n",
       "      <th>model_attr_Small&amp;Large</th>\n",
       "    </tr>\n",
       "  </thead>\n",
       "  <tbody>\n",
       "    <tr>\n",
       "      <th>0</th>\n",
       "      <td>1</td>\n",
       "      <td>0</td>\n",
       "    </tr>\n",
       "    <tr>\n",
       "      <th>1</th>\n",
       "      <td>1</td>\n",
       "      <td>0</td>\n",
       "    </tr>\n",
       "    <tr>\n",
       "      <th>2</th>\n",
       "      <td>1</td>\n",
       "      <td>0</td>\n",
       "    </tr>\n",
       "    <tr>\n",
       "      <th>3</th>\n",
       "      <td>1</td>\n",
       "      <td>0</td>\n",
       "    </tr>\n",
       "    <tr>\n",
       "      <th>4</th>\n",
       "      <td>1</td>\n",
       "      <td>0</td>\n",
       "    </tr>\n",
       "  </tbody>\n",
       "</table>\n",
       "</div>"
      ],
      "text/plain": [
       "   model_attr_Small  model_attr_Small&Large\n",
       "0                 1                       0\n",
       "1                 1                       0\n",
       "2                 1                       0\n",
       "3                 1                       0\n",
       "4                 1                       0"
      ]
     },
     "execution_count": 25,
     "metadata": {},
     "output_type": "execute_result"
    }
   ],
   "source": [
    "pd.get_dummies(data[[\"model_attr\"]]).head()"
   ]
  },
  {
   "cell_type": "code",
   "execution_count": 26,
   "metadata": {},
   "outputs": [
    {
     "data": {
      "text/html": [
       "<div>\n",
       "<style scoped>\n",
       "    .dataframe tbody tr th:only-of-type {\n",
       "        vertical-align: middle;\n",
       "    }\n",
       "\n",
       "    .dataframe tbody tr th {\n",
       "        vertical-align: top;\n",
       "    }\n",
       "\n",
       "    .dataframe thead th {\n",
       "        text-align: right;\n",
       "    }\n",
       "</style>\n",
       "<table border=\"1\" class=\"dataframe\">\n",
       "  <thead>\n",
       "    <tr style=\"text-align: right;\">\n",
       "      <th></th>\n",
       "      <th>category_Bottoms</th>\n",
       "      <th>category_Dresses</th>\n",
       "      <th>category_Outerwear</th>\n",
       "      <th>category_Tops</th>\n",
       "    </tr>\n",
       "  </thead>\n",
       "  <tbody>\n",
       "    <tr>\n",
       "      <th>0</th>\n",
       "      <td>0</td>\n",
       "      <td>1</td>\n",
       "      <td>0</td>\n",
       "      <td>0</td>\n",
       "    </tr>\n",
       "    <tr>\n",
       "      <th>1</th>\n",
       "      <td>0</td>\n",
       "      <td>1</td>\n",
       "      <td>0</td>\n",
       "      <td>0</td>\n",
       "    </tr>\n",
       "    <tr>\n",
       "      <th>2</th>\n",
       "      <td>0</td>\n",
       "      <td>1</td>\n",
       "      <td>0</td>\n",
       "      <td>0</td>\n",
       "    </tr>\n",
       "    <tr>\n",
       "      <th>3</th>\n",
       "      <td>0</td>\n",
       "      <td>1</td>\n",
       "      <td>0</td>\n",
       "      <td>0</td>\n",
       "    </tr>\n",
       "    <tr>\n",
       "      <th>4</th>\n",
       "      <td>0</td>\n",
       "      <td>1</td>\n",
       "      <td>0</td>\n",
       "      <td>0</td>\n",
       "    </tr>\n",
       "  </tbody>\n",
       "</table>\n",
       "</div>"
      ],
      "text/plain": [
       "   category_Bottoms  category_Dresses  category_Outerwear  category_Tops\n",
       "0                 0                 1                   0              0\n",
       "1                 0                 1                   0              0\n",
       "2                 0                 1                   0              0\n",
       "3                 0                 1                   0              0\n",
       "4                 0                 1                   0              0"
      ]
     },
     "execution_count": 26,
     "metadata": {},
     "output_type": "execute_result"
    }
   ],
   "source": [
    "pd.get_dummies(data[[\"category\"]]).head()"
   ]
  },
  {
   "cell_type": "code",
   "execution_count": 27,
   "metadata": {},
   "outputs": [
    {
     "data": {
      "text/html": [
       "<div>\n",
       "<style scoped>\n",
       "    .dataframe tbody tr th:only-of-type {\n",
       "        vertical-align: middle;\n",
       "    }\n",
       "\n",
       "    .dataframe tbody tr th {\n",
       "        vertical-align: top;\n",
       "    }\n",
       "\n",
       "    .dataframe thead th {\n",
       "        text-align: right;\n",
       "    }\n",
       "</style>\n",
       "<table border=\"1\" class=\"dataframe\">\n",
       "  <thead>\n",
       "    <tr style=\"text-align: right;\">\n",
       "      <th></th>\n",
       "      <th>fit_Just right</th>\n",
       "      <th>fit_Slightly large</th>\n",
       "      <th>fit_Slightly small</th>\n",
       "      <th>fit_Very large</th>\n",
       "      <th>fit_Very small</th>\n",
       "      <th>user_attr_Large</th>\n",
       "      <th>user_attr_Small</th>\n",
       "      <th>user_attr_Small</th>\n",
       "      <th>model_attr_Small</th>\n",
       "      <th>model_attr_Small&amp;Large</th>\n",
       "      <th>category_Bottoms</th>\n",
       "      <th>category_Dresses</th>\n",
       "      <th>category_Outerwear</th>\n",
       "      <th>category_Tops</th>\n",
       "      <th>rating</th>\n",
       "      <th>size</th>\n",
       "      <th>year</th>\n",
       "      <th>item_id</th>\n",
       "    </tr>\n",
       "  </thead>\n",
       "  <tbody>\n",
       "    <tr>\n",
       "      <th>0</th>\n",
       "      <td>1</td>\n",
       "      <td>0</td>\n",
       "      <td>0</td>\n",
       "      <td>0</td>\n",
       "      <td>0</td>\n",
       "      <td>0</td>\n",
       "      <td>1</td>\n",
       "      <td>0</td>\n",
       "      <td>1</td>\n",
       "      <td>0</td>\n",
       "      <td>0</td>\n",
       "      <td>1</td>\n",
       "      <td>0</td>\n",
       "      <td>0</td>\n",
       "      <td>4</td>\n",
       "      <td>3.217322</td>\n",
       "      <td>2012</td>\n",
       "      <td>7443</td>\n",
       "    </tr>\n",
       "    <tr>\n",
       "      <th>1</th>\n",
       "      <td>1</td>\n",
       "      <td>0</td>\n",
       "      <td>0</td>\n",
       "      <td>0</td>\n",
       "      <td>0</td>\n",
       "      <td>0</td>\n",
       "      <td>0</td>\n",
       "      <td>1</td>\n",
       "      <td>1</td>\n",
       "      <td>0</td>\n",
       "      <td>0</td>\n",
       "      <td>1</td>\n",
       "      <td>0</td>\n",
       "      <td>0</td>\n",
       "      <td>3</td>\n",
       "      <td>3.217322</td>\n",
       "      <td>2012</td>\n",
       "      <td>7443</td>\n",
       "    </tr>\n",
       "    <tr>\n",
       "      <th>2</th>\n",
       "      <td>1</td>\n",
       "      <td>0</td>\n",
       "      <td>0</td>\n",
       "      <td>0</td>\n",
       "      <td>0</td>\n",
       "      <td>0</td>\n",
       "      <td>1</td>\n",
       "      <td>0</td>\n",
       "      <td>1</td>\n",
       "      <td>0</td>\n",
       "      <td>0</td>\n",
       "      <td>1</td>\n",
       "      <td>0</td>\n",
       "      <td>0</td>\n",
       "      <td>4</td>\n",
       "      <td>3.217322</td>\n",
       "      <td>2012</td>\n",
       "      <td>7443</td>\n",
       "    </tr>\n",
       "    <tr>\n",
       "      <th>3</th>\n",
       "      <td>1</td>\n",
       "      <td>0</td>\n",
       "      <td>0</td>\n",
       "      <td>0</td>\n",
       "      <td>0</td>\n",
       "      <td>0</td>\n",
       "      <td>0</td>\n",
       "      <td>1</td>\n",
       "      <td>1</td>\n",
       "      <td>0</td>\n",
       "      <td>0</td>\n",
       "      <td>1</td>\n",
       "      <td>0</td>\n",
       "      <td>0</td>\n",
       "      <td>4</td>\n",
       "      <td>3.217322</td>\n",
       "      <td>2012</td>\n",
       "      <td>7443</td>\n",
       "    </tr>\n",
       "    <tr>\n",
       "      <th>4</th>\n",
       "      <td>1</td>\n",
       "      <td>0</td>\n",
       "      <td>0</td>\n",
       "      <td>0</td>\n",
       "      <td>0</td>\n",
       "      <td>0</td>\n",
       "      <td>1</td>\n",
       "      <td>0</td>\n",
       "      <td>1</td>\n",
       "      <td>0</td>\n",
       "      <td>0</td>\n",
       "      <td>1</td>\n",
       "      <td>0</td>\n",
       "      <td>0</td>\n",
       "      <td>4</td>\n",
       "      <td>3.217322</td>\n",
       "      <td>2012</td>\n",
       "      <td>7443</td>\n",
       "    </tr>\n",
       "  </tbody>\n",
       "</table>\n",
       "</div>"
      ],
      "text/plain": [
       "   fit_Just right  fit_Slightly large  fit_Slightly small  fit_Very large  \\\n",
       "0               1                   0                   0               0   \n",
       "1               1                   0                   0               0   \n",
       "2               1                   0                   0               0   \n",
       "3               1                   0                   0               0   \n",
       "4               1                   0                   0               0   \n",
       "\n",
       "   fit_Very small  user_attr_Large  user_attr_Small  user_attr_Small   \\\n",
       "0               0                0                1                 0   \n",
       "1               0                0                0                 1   \n",
       "2               0                0                1                 0   \n",
       "3               0                0                0                 1   \n",
       "4               0                0                1                 0   \n",
       "\n",
       "   model_attr_Small  model_attr_Small&Large  category_Bottoms  \\\n",
       "0                 1                       0                 0   \n",
       "1                 1                       0                 0   \n",
       "2                 1                       0                 0   \n",
       "3                 1                       0                 0   \n",
       "4                 1                       0                 0   \n",
       "\n",
       "   category_Dresses  category_Outerwear  category_Tops  rating      size  \\\n",
       "0                 1                   0              0       4  3.217322   \n",
       "1                 1                   0              0       3  3.217322   \n",
       "2                 1                   0              0       4  3.217322   \n",
       "3                 1                   0              0       4  3.217322   \n",
       "4                 1                   0              0       4  3.217322   \n",
       "\n",
       "   year  item_id  \n",
       "0  2012     7443  \n",
       "1  2012     7443  \n",
       "2  2012     7443  \n",
       "3  2012     7443  \n",
       "4  2012     7443  "
      ]
     },
     "execution_count": 27,
     "metadata": {},
     "output_type": "execute_result"
    }
   ],
   "source": [
    "data_feature=pd.concat([pd.get_dummies(data[[\"fit\"]]),pd.get_dummies(data[[\"user_attr\"]]),pd.get_dummies(data[[\"model_attr\"]]),pd.get_dummies(data[[\"category\"]]),data['rating'],data['size'],data['year'],data['item_id']],axis=1)\n",
    "data_feature.head()"
   ]
  },
  {
   "cell_type": "code",
   "execution_count": 28,
   "metadata": {},
   "outputs": [],
   "source": [
    "from sklearn.preprocessing import MinMaxScaler"
   ]
  },
  {
   "cell_type": "code",
   "execution_count": 29,
   "metadata": {},
   "outputs": [],
   "source": [
    "min_max_scaler = MinMaxScaler()\n",
    "data_feature = min_max_scaler.fit_transform(data_feature)"
   ]
  },
  {
   "cell_type": "code",
   "execution_count": 30,
   "metadata": {},
   "outputs": [
    {
     "data": {
      "text/plain": [
       "array([[1.  , 0.  , 0.  , ..., 0.4 , 0.22, 0.01],\n",
       "       [1.  , 0.  , 0.  , ..., 0.4 , 0.22, 0.01],\n",
       "       [1.  , 0.  , 0.  , ..., 0.4 , 0.22, 0.01],\n",
       "       ...,\n",
       "       [1.  , 0.  , 0.  , ..., 0.4 , 0.33, 0.41],\n",
       "       [0.  , 0.  , 1.  , ..., 0.4 , 0.67, 0.44],\n",
       "       [1.  , 0.  , 0.  , ..., 0.4 , 0.67, 0.76]])"
      ]
     },
     "execution_count": 30,
     "metadata": {},
     "output_type": "execute_result"
    }
   ],
   "source": [
    "np.round(data_feature,2)"
   ]
  },
  {
   "cell_type": "markdown",
   "metadata": {},
   "source": [
    "# Using KNN algorithm to find our prediction"
   ]
  },
  {
   "cell_type": "code",
   "execution_count": 31,
   "metadata": {},
   "outputs": [],
   "source": [
    "from sklearn.neighbors import NearestNeighbors"
   ]
  },
  {
   "cell_type": "code",
   "execution_count": 32,
   "metadata": {},
   "outputs": [],
   "source": [
    "nbrs = NearestNeighbors(n_neighbors=6, algorithm='auto').fit(data_feature)"
   ]
  },
  {
   "cell_type": "code",
   "execution_count": 33,
   "metadata": {},
   "outputs": [],
   "source": [
    "c"
   ]
  },
  {
   "cell_type": "code",
   "execution_count": 34,
   "metadata": {},
   "outputs": [
    {
     "data": {
      "text/plain": [
       "array([[0.        , 0.        , 0.        , 0.        , 0.        ,\n",
       "        0.        ],\n",
       "       [0.        , 0.        , 0.        , 0.        , 0.        ,\n",
       "        0.        ],\n",
       "       [0.        , 0.        , 0.        , 0.        , 0.        ,\n",
       "        0.        ],\n",
       "       ...,\n",
       "       [0.        , 0.        , 0.        , 0.        , 0.        ,\n",
       "        0.        ],\n",
       "       [0.        , 0.        , 0.        , 0.        , 0.02716525,\n",
       "        0.02716525],\n",
       "       [0.        , 0.        , 0.02716525, 0.02716525, 0.07479799,\n",
       "        0.07479799]])"
      ]
     },
     "execution_count": 34,
     "metadata": {},
     "output_type": "execute_result"
    }
   ],
   "source": [
    "distances"
   ]
  },
  {
   "cell_type": "code",
   "execution_count": 35,
   "metadata": {},
   "outputs": [
    {
     "data": {
      "text/plain": [
       "array([[   42,   246,  2362,   493,    22,     2],\n",
       "       [    1,  1277, 54230,    39,   262,    75],\n",
       "       [   42,   246,  2362,   493,    22,     2],\n",
       "       ...,\n",
       "       [41489, 13300, 38680, 35845, 36515, 42196],\n",
       "       [99890, 99803, 23950, 55331, 39934,  7838],\n",
       "       [99891, 88429, 64972, 79188, 90434, 70488]], dtype=int64)"
      ]
     },
     "execution_count": 35,
     "metadata": {},
     "output_type": "execute_result"
    }
   ],
   "source": [
    "indices"
   ]
  },
  {
   "cell_type": "code",
   "execution_count": 36,
   "metadata": {},
   "outputs": [],
   "source": [
    "def get_index_from_name(name):\n",
    "    return data[data[\"user_id\"]==name].index.tolist()[0]"
   ]
  },
  {
   "cell_type": "code",
   "execution_count": 37,
   "metadata": {},
   "outputs": [
    {
     "data": {
      "text/plain": [
       "99888"
      ]
     },
     "execution_count": 37,
     "metadata": {},
     "output_type": "execute_result"
    }
   ],
   "source": [
    "get_index_from_name('BernMarie')"
   ]
  },
  {
   "cell_type": "code",
   "execution_count": 38,
   "metadata": {},
   "outputs": [
    {
     "data": {
      "text/plain": [
       "array([99888, 40363, 38062, 38224, 17875], dtype=int64)"
      ]
     },
     "execution_count": 38,
     "metadata": {},
     "output_type": "execute_result"
    }
   ],
   "source": [
    "indices[99888][1:]"
   ]
  },
  {
   "cell_type": "code",
   "execution_count": 39,
   "metadata": {},
   "outputs": [
    {
     "data": {
      "text/plain": [
       "99889              Sam\n",
       "40363           Miriam\n",
       "38062           Cecily\n",
       "38224          wrfrye1\n",
       "17875    jesscarroll88\n",
       "Name: user_id, dtype: object"
      ]
     },
     "execution_count": 39,
     "metadata": {},
     "output_type": "execute_result"
    }
   ],
   "source": [
    "data.iloc[indices[99888][1:],:]['user_id']"
   ]
  },
  {
   "cell_type": "code",
   "execution_count": 40,
   "metadata": {},
   "outputs": [],
   "source": [
    "def print_similar_names(user_id=None):\n",
    "     if user_id:\n",
    "        found_id = get_index_from_name(user_id)\n",
    "        for id in indices[found_id][1:]:\n",
    "            print(data.iloc[id][\"user_id\"],'[','User Attire =',data.iloc[id][\"user_attr\"],',','Category =',data.iloc[id][\"category\"],']')"
   ]
  },
  {
   "cell_type": "code",
   "execution_count": 42,
   "metadata": {},
   "outputs": [
    {
     "name": "stdout",
     "output_type": "stream",
     "text": [
      "user_id=sam\n",
      "Dana [ User Attire = Small , Category = Tops ]\n",
      "sam [ User Attire = Small , Category = Tops ]\n",
      "kristen.goodpaster [ User Attire = Small , Category = Tops ]\n",
      "meg.a.bee [ User Attire = Small , Category = Tops ]\n",
      "Claire [ User Attire = Small , Category = Tops ]\n"
     ]
    }
   ],
   "source": [
    "print_similar_names(input('user_id=')) # prediction by user_id"
   ]
  },
  {
   "cell_type": "code",
   "execution_count": 43,
   "metadata": {},
   "outputs": [
    {
     "data": {
      "text/plain": [
       "Small     73160\n",
       "Large     18365\n",
       "Small      8367\n",
       "Name: user_attr, dtype: int64"
      ]
     },
     "execution_count": 43,
     "metadata": {},
     "output_type": "execute_result"
    }
   ],
   "source": [
    "data['user_attr'].value_counts()"
   ]
  },
  {
   "cell_type": "code",
   "execution_count": 44,
   "metadata": {},
   "outputs": [
    {
     "data": {
      "text/plain": [
       "Small&Large    57031\n",
       "Small          42861\n",
       "Name: model_attr, dtype: int64"
      ]
     },
     "execution_count": 44,
     "metadata": {},
     "output_type": "execute_result"
    }
   ],
   "source": [
    "data['model_attr'].value_counts()"
   ]
  },
  {
   "cell_type": "code",
   "execution_count": 45,
   "metadata": {},
   "outputs": [
    {
     "data": {
      "text/plain": [
       "Tops         34977\n",
       "Dresses      34160\n",
       "Bottoms      23624\n",
       "Outerwear     7131\n",
       "Name: category, dtype: int64"
      ]
     },
     "execution_count": 45,
     "metadata": {},
     "output_type": "execute_result"
    }
   ],
   "source": [
    "data['category'].value_counts()"
   ]
  }
 ],
 "metadata": {
  "kernelspec": {
   "display_name": "Python 3",
   "language": "python",
   "name": "python3"
  },
  "language_info": {
   "codemirror_mode": {
    "name": "ipython",
    "version": 3
   },
   "file_extension": ".py",
   "mimetype": "text/x-python",
   "name": "python",
   "nbconvert_exporter": "python",
   "pygments_lexer": "ipython3",
   "version": "3.8.5"
  }
 },
 "nbformat": 4,
 "nbformat_minor": 4
}
